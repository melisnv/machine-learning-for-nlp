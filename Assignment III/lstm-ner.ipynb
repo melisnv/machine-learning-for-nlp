{
 "cells": [
  {
   "cell_type": "markdown",
   "id": "6bd786a1",
   "metadata": {},
   "source": [
    "# LSTM for Named Entities"
   ]
  },
  {
   "cell_type": "code",
   "execution_count": 1,
   "id": "451a52e0",
   "metadata": {},
   "outputs": [],
   "source": [
    "# libraries\n",
    "\n",
    "import numpy as np\n",
    "import pandas as pd\n",
    "from itertools import chain\n",
    "import tensorflow\n",
    "\n",
    "# model\n",
    "from sklearn.model_selection import train_test_split\n",
    "from keras.preprocessing.sequence import pad_sequences\n",
    "from tensorflow.keras.utils import to_categorical\n",
    "from tensorflow.keras import Sequential, Model, Input, optimizers\n",
    "from tensorflow.keras.layers import LSTM, Embedding, Dense, TimeDistributed, Dropout, Bidirectional\n",
    "from tensorflow.keras.utils import plot_model\n",
    "from gensim.models import KeyedVectors"
   ]
  },
  {
   "cell_type": "code",
   "execution_count": 2,
   "id": "eee1fd08",
   "metadata": {},
   "outputs": [],
   "source": [
    "# Setting path to data and embeddings\n",
    "\n",
    "# conll data\n",
    "path_train ='./datas/conll2003.train.conll' #adapt\n",
    "path_eval = './datas/conll2003.dev.conll' # adapt\n",
    "paths = [path_train, path_eval]\n",
    "\n",
    "# change to test if you are evaluating on test:\n",
    "eval_split = 'dev'\n",
    "# model output path\n",
    "output_path = './datas/lsmt-out.csv' # adapt\n",
    "\n",
    "# embedding model\n",
    "path_emb = './models/GoogleNews-vectors-negative300.bin.gz'"
   ]
  },
  {
   "cell_type": "markdown",
   "id": "38feb47c",
   "metadata": {},
   "source": [
    "# Data Preparation"
   ]
  },
  {
   "cell_type": "code",
   "execution_count": 10,
   "id": "1547f506",
   "metadata": {},
   "outputs": [],
   "source": [
    "def convert_data(paths):\n",
    "    \n",
    "    data = []\n",
    "    sent_id = 1\n",
    "    for path in paths:\n",
    "        split = path.split('.')[-2]\n",
    "        with open(path) as infile:\n",
    "            lines = infile.read().split('\\n')\n",
    "        for n, line in enumerate(lines):\n",
    "            ll = line.split('\\t')\n",
    "            if len(ll) > 2:\n",
    "                d = dict()\n",
    "                d['Sentence #'] = f'Sentence: {sent_id}'\n",
    "                d['Word'] = ll[0]\n",
    "                d['POS'] = ll[1]\n",
    "                d['Tag'] = ll[-1]\n",
    "                d['Split'] = split\n",
    "                data.append(d)\n",
    "\n",
    "            else:\n",
    "                sent_id += 1\n",
    "    data = pd.DataFrame(data)\n",
    "    return data"
   ]
  },
  {
   "cell_type": "code",
   "execution_count": 13,
   "id": "892c9e53",
   "metadata": {},
   "outputs": [
    {
     "data": {
      "text/html": [
       "<div>\n",
       "<style scoped>\n",
       "    .dataframe tbody tr th:only-of-type {\n",
       "        vertical-align: middle;\n",
       "    }\n",
       "\n",
       "    .dataframe tbody tr th {\n",
       "        vertical-align: top;\n",
       "    }\n",
       "\n",
       "    .dataframe thead th {\n",
       "        text-align: right;\n",
       "    }\n",
       "</style>\n",
       "<table border=\"1\" class=\"dataframe\">\n",
       "  <thead>\n",
       "    <tr style=\"text-align: right;\">\n",
       "      <th></th>\n",
       "      <th>Sentence #</th>\n",
       "      <th>Word</th>\n",
       "      <th>POS</th>\n",
       "      <th>Tag</th>\n",
       "      <th>Split</th>\n",
       "    </tr>\n",
       "  </thead>\n",
       "  <tbody>\n",
       "    <tr>\n",
       "      <th>0</th>\n",
       "      <td>Sentence: 1</td>\n",
       "      <td>EU</td>\n",
       "      <td>NNP</td>\n",
       "      <td>B-ORG</td>\n",
       "      <td>train</td>\n",
       "    </tr>\n",
       "    <tr>\n",
       "      <th>1</th>\n",
       "      <td>Sentence: 1</td>\n",
       "      <td>rejects</td>\n",
       "      <td>VBZ</td>\n",
       "      <td>O</td>\n",
       "      <td>train</td>\n",
       "    </tr>\n",
       "    <tr>\n",
       "      <th>2</th>\n",
       "      <td>Sentence: 1</td>\n",
       "      <td>German</td>\n",
       "      <td>JJ</td>\n",
       "      <td>B-MISC</td>\n",
       "      <td>train</td>\n",
       "    </tr>\n",
       "    <tr>\n",
       "      <th>3</th>\n",
       "      <td>Sentence: 1</td>\n",
       "      <td>call</td>\n",
       "      <td>NN</td>\n",
       "      <td>O</td>\n",
       "      <td>train</td>\n",
       "    </tr>\n",
       "    <tr>\n",
       "      <th>4</th>\n",
       "      <td>Sentence: 1</td>\n",
       "      <td>to</td>\n",
       "      <td>TO</td>\n",
       "      <td>O</td>\n",
       "      <td>train</td>\n",
       "    </tr>\n",
       "  </tbody>\n",
       "</table>\n",
       "</div>"
      ],
      "text/plain": [
       "    Sentence #     Word  POS     Tag  Split\n",
       "0  Sentence: 1       EU  NNP   B-ORG  train\n",
       "1  Sentence: 1  rejects  VBZ       O  train\n",
       "2  Sentence: 1   German   JJ  B-MISC  train\n",
       "3  Sentence: 1     call   NN       O  train\n",
       "4  Sentence: 1       to   TO       O  train"
      ]
     },
     "execution_count": 13,
     "metadata": {},
     "output_type": "execute_result"
    }
   ],
   "source": [
    "data = convert_data(paths)\n",
    "data.head()"
   ]
  },
  {
   "cell_type": "code",
   "execution_count": 14,
   "id": "225c7647",
   "metadata": {},
   "outputs": [
    {
     "data": {
      "text/html": [
       "<div>\n",
       "<style scoped>\n",
       "    .dataframe tbody tr th:only-of-type {\n",
       "        vertical-align: middle;\n",
       "    }\n",
       "\n",
       "    .dataframe tbody tr th {\n",
       "        vertical-align: top;\n",
       "    }\n",
       "\n",
       "    .dataframe thead th {\n",
       "        text-align: right;\n",
       "    }\n",
       "</style>\n",
       "<table border=\"1\" class=\"dataframe\">\n",
       "  <thead>\n",
       "    <tr style=\"text-align: right;\">\n",
       "      <th></th>\n",
       "      <th>Sentence #</th>\n",
       "      <th>Word</th>\n",
       "      <th>POS</th>\n",
       "      <th>Tag</th>\n",
       "      <th>Split</th>\n",
       "    </tr>\n",
       "  </thead>\n",
       "  <tbody>\n",
       "    <tr>\n",
       "      <th>254978</th>\n",
       "      <td>Sentence: 17291</td>\n",
       "      <td>.</td>\n",
       "      <td>.</td>\n",
       "      <td>O</td>\n",
       "      <td>dev</td>\n",
       "    </tr>\n",
       "    <tr>\n",
       "      <th>254979</th>\n",
       "      <td>Sentence: 17292</td>\n",
       "      <td>--</td>\n",
       "      <td>:</td>\n",
       "      <td>O</td>\n",
       "      <td>dev</td>\n",
       "    </tr>\n",
       "    <tr>\n",
       "      <th>254980</th>\n",
       "      <td>Sentence: 17292</td>\n",
       "      <td>Dhaka</td>\n",
       "      <td>NNP</td>\n",
       "      <td>B-ORG</td>\n",
       "      <td>dev</td>\n",
       "    </tr>\n",
       "    <tr>\n",
       "      <th>254981</th>\n",
       "      <td>Sentence: 17292</td>\n",
       "      <td>Newsroom</td>\n",
       "      <td>NNP</td>\n",
       "      <td>I-ORG</td>\n",
       "      <td>dev</td>\n",
       "    </tr>\n",
       "    <tr>\n",
       "      <th>254982</th>\n",
       "      <td>Sentence: 17292</td>\n",
       "      <td>880-2-506363</td>\n",
       "      <td>CD</td>\n",
       "      <td>O</td>\n",
       "      <td>dev</td>\n",
       "    </tr>\n",
       "  </tbody>\n",
       "</table>\n",
       "</div>"
      ],
      "text/plain": [
       "             Sentence #          Word  POS    Tag Split\n",
       "254978  Sentence: 17291             .    .      O   dev\n",
       "254979  Sentence: 17292            --    :      O   dev\n",
       "254980  Sentence: 17292         Dhaka  NNP  B-ORG   dev\n",
       "254981  Sentence: 17292      Newsroom  NNP  I-ORG   dev\n",
       "254982  Sentence: 17292  880-2-506363   CD      O   dev"
      ]
     },
     "execution_count": 14,
     "metadata": {},
     "output_type": "execute_result"
    }
   ],
   "source": [
    "data.tail()"
   ]
  },
  {
   "cell_type": "code",
   "execution_count": 15,
   "id": "8484e0c8",
   "metadata": {},
   "outputs": [],
   "source": [
    "# mapping tokens and labels to indices\n",
    "\n",
    "def get_dict_map(data, token_or_tag, embedding_model=None):\n",
    "    tok2idx = {}\n",
    "    idx2tok = {}\n",
    "    \n",
    "    if token_or_tag == 'token':\n",
    "        vocab = list(set(data['Word'].to_list()))\n",
    "    else:\n",
    "        vocab = list(set(data['Tag'].to_list()))\n",
    "    \n",
    "    idx2tok = {idx:tok for  idx, tok in enumerate(vocab)}\n",
    "    tok2idx = {tok:idx for  idx, tok in enumerate(vocab)}   \n",
    "    \n",
    "    return tok2idx, idx2tok"
   ]
  },
  {
   "cell_type": "code",
   "execution_count": 16,
   "id": "28c5d033",
   "metadata": {},
   "outputs": [
    {
     "name": "stdout",
     "output_type": "stream",
     "text": [
      "26883\n",
      "9\n"
     ]
    }
   ],
   "source": [
    "token2idx, idx2token = get_dict_map(data, 'token')\n",
    "tag2idx, idx2tag = get_dict_map(data, 'tag')\n",
    "print(len(token2idx))\n",
    "print(len(tag2idx))"
   ]
  },
  {
   "cell_type": "markdown",
   "id": "6ee9d29d",
   "metadata": {},
   "source": [
    "# Integrating Embeddings"
   ]
  },
  {
   "cell_type": "code",
   "execution_count": 17,
   "id": "c216d997",
   "metadata": {},
   "outputs": [],
   "source": [
    "# Load embedding model\n",
    "w2v_model = KeyedVectors.load_word2vec_format(path_emb, binary=True)"
   ]
  },
  {
   "cell_type": "code",
   "execution_count": 18,
   "id": "d490885a",
   "metadata": {},
   "outputs": [
    {
     "name": "stdout",
     "output_type": "stream",
     "text": [
      "(26884, 300)\n"
     ]
    }
   ],
   "source": [
    "# Create embedding matrix with zero vectors for oov words\n",
    "emb_dim = 300\n",
    "embedding_matrix = np.zeros((len(token2idx) + 1, emb_dim))\n",
    "print(embedding_matrix.shape)\n",
    "for word, i in token2idx.items():\n",
    "    # You may have to change the following line to:\n",
    "    # if word in w2v_model:\n",
    "    if word in w2v_model.key_to_index:\n",
    "        embedding_vector = w2v_model[word]\n",
    "    else:\n",
    "        embedding_vector = None\n",
    "        # If you want to check OOV words:\n",
    "        #print('couldnt find:', word, i)\n",
    "    if embedding_vector is not None:\n",
    "        # words not found in embedding index will be all-zeros.\n",
    "        embedding_matrix[i] = embedding_vector"
   ]
  },
  {
   "cell_type": "code",
   "execution_count": null,
   "id": "a6a2ce32",
   "metadata": {},
   "outputs": [],
   "source": []
  }
 ],
 "metadata": {
  "kernelspec": {
   "display_name": "Python 3 (ipykernel)",
   "language": "python",
   "name": "python3"
  },
  "language_info": {
   "codemirror_mode": {
    "name": "ipython",
    "version": 3
   },
   "file_extension": ".py",
   "mimetype": "text/x-python",
   "name": "python",
   "nbconvert_exporter": "python",
   "pygments_lexer": "ipython3",
   "version": "3.9.13"
  }
 },
 "nbformat": 4,
 "nbformat_minor": 5
}
