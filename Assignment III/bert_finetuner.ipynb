{
  "cells": [
    {
      "cell_type": "markdown",
      "metadata": {
        "id": "Ed7pexgOsyZh"
      },
      "source": [
        "# Fine-tune BERT for Token Classification"
      ]
    },
    {
      "cell_type": "code",
      "source": [
        "from google.colab import drive\n",
        "drive.mount('/content/drive')"
      ],
      "metadata": {
        "colab": {
          "base_uri": "https://localhost:8080/"
        },
        "id": "l7bljlzfPs3Y",
        "outputId": "489f393a-3941-4692-9829-80b1f67e9904"
      },
      "execution_count": 2,
      "outputs": [
        {
          "output_type": "stream",
          "name": "stdout",
          "text": [
            "Drive already mounted at /content/drive; to attempt to forcibly remount, call drive.mount(\"/content/drive\", force_remount=True).\n"
          ]
        }
      ]
    },
    {
      "cell_type": "code",
      "execution_count": 3,
      "metadata": {
        "colab": {
          "base_uri": "https://localhost:8080/"
        },
        "id": "98OhjTlGsyZj",
        "outputId": "38713969-5b1b-43e6-a2be-ea586f874d01"
      },
      "outputs": [
        {
          "output_type": "stream",
          "name": "stdout",
          "text": [
            "Looking in indexes: https://pypi.org/simple, https://us-python.pkg.dev/colab-wheels/public/simple/\n",
            "Collecting transformers==4.9.1\n",
            "  Downloading transformers-4.9.1-py3-none-any.whl (2.6 MB)\n",
            "\u001b[K     |████████████████████████████████| 2.6 MB 15.3 MB/s \n",
            "\u001b[?25hRequirement already satisfied: requests in /usr/local/lib/python3.8/dist-packages (from transformers==4.9.1) (2.23.0)\n",
            "Requirement already satisfied: tqdm>=4.27 in /usr/local/lib/python3.8/dist-packages (from transformers==4.9.1) (4.64.1)\n",
            "Collecting huggingface-hub==0.0.12\n",
            "  Downloading huggingface_hub-0.0.12-py3-none-any.whl (37 kB)\n",
            "Requirement already satisfied: pyyaml>=5.1 in /usr/local/lib/python3.8/dist-packages (from transformers==4.9.1) (6.0)\n",
            "Requirement already satisfied: numpy>=1.17 in /usr/local/lib/python3.8/dist-packages (from transformers==4.9.1) (1.21.6)\n",
            "Collecting tokenizers<0.11,>=0.10.1\n",
            "  Downloading tokenizers-0.10.3-cp38-cp38-manylinux_2_5_x86_64.manylinux1_x86_64.manylinux_2_12_x86_64.manylinux2010_x86_64.whl (3.3 MB)\n",
            "\u001b[K     |████████████████████████████████| 3.3 MB 57.5 MB/s \n",
            "\u001b[?25hRequirement already satisfied: packaging in /usr/local/lib/python3.8/dist-packages (from transformers==4.9.1) (21.3)\n",
            "Collecting sacremoses\n",
            "  Downloading sacremoses-0.0.53.tar.gz (880 kB)\n",
            "\u001b[K     |████████████████████████████████| 880 kB 61.2 MB/s \n",
            "\u001b[?25hRequirement already satisfied: filelock in /usr/local/lib/python3.8/dist-packages (from transformers==4.9.1) (3.8.0)\n",
            "Requirement already satisfied: regex!=2019.12.17 in /usr/local/lib/python3.8/dist-packages (from transformers==4.9.1) (2022.6.2)\n",
            "Requirement already satisfied: typing-extensions in /usr/local/lib/python3.8/dist-packages (from huggingface-hub==0.0.12->transformers==4.9.1) (4.4.0)\n",
            "Requirement already satisfied: pyparsing!=3.0.5,>=2.0.2 in /usr/local/lib/python3.8/dist-packages (from packaging->transformers==4.9.1) (3.0.9)\n",
            "Requirement already satisfied: certifi>=2017.4.17 in /usr/local/lib/python3.8/dist-packages (from requests->transformers==4.9.1) (2022.9.24)\n",
            "Requirement already satisfied: chardet<4,>=3.0.2 in /usr/local/lib/python3.8/dist-packages (from requests->transformers==4.9.1) (3.0.4)\n",
            "Requirement already satisfied: idna<3,>=2.5 in /usr/local/lib/python3.8/dist-packages (from requests->transformers==4.9.1) (2.10)\n",
            "Requirement already satisfied: urllib3!=1.25.0,!=1.25.1,<1.26,>=1.21.1 in /usr/local/lib/python3.8/dist-packages (from requests->transformers==4.9.1) (1.24.3)\n",
            "Requirement already satisfied: six in /usr/local/lib/python3.8/dist-packages (from sacremoses->transformers==4.9.1) (1.15.0)\n",
            "Requirement already satisfied: click in /usr/local/lib/python3.8/dist-packages (from sacremoses->transformers==4.9.1) (7.1.2)\n",
            "Requirement already satisfied: joblib in /usr/local/lib/python3.8/dist-packages (from sacremoses->transformers==4.9.1) (1.2.0)\n",
            "Building wheels for collected packages: sacremoses\n",
            "  Building wheel for sacremoses (setup.py) ... \u001b[?25l\u001b[?25hdone\n",
            "  Created wheel for sacremoses: filename=sacremoses-0.0.53-py3-none-any.whl size=895260 sha256=55846fa20c6f948a92b10230736628c26f55fe61f4a9395140b508495326ede4\n",
            "  Stored in directory: /root/.cache/pip/wheels/82/ab/9b/c15899bf659ba74f623ac776e861cf2eb8608c1825ddec66a4\n",
            "Successfully built sacremoses\n",
            "Installing collected packages: tokenizers, sacremoses, huggingface-hub, transformers\n",
            "Successfully installed huggingface-hub-0.0.12 sacremoses-0.0.53 tokenizers-0.10.3 transformers-4.9.1\n",
            "Looking in indexes: https://pypi.org/simple, https://us-python.pkg.dev/colab-wheels/public/simple/\n",
            "Collecting datasets==1.11.0\n",
            "  Downloading datasets-1.11.0-py3-none-any.whl (264 kB)\n",
            "\u001b[K     |████████████████████████████████| 264 kB 14.3 MB/s \n",
            "\u001b[?25hRequirement already satisfied: pyarrow!=4.0.0,>=1.0.0 in /usr/local/lib/python3.8/dist-packages (from datasets==1.11.0) (9.0.0)\n",
            "Collecting multiprocess\n",
            "  Downloading multiprocess-0.70.14-py38-none-any.whl (132 kB)\n",
            "\u001b[K     |████████████████████████████████| 132 kB 67.7 MB/s \n",
            "\u001b[?25hRequirement already satisfied: numpy>=1.17 in /usr/local/lib/python3.8/dist-packages (from datasets==1.11.0) (1.21.6)\n",
            "Requirement already satisfied: packaging in /usr/local/lib/python3.8/dist-packages (from datasets==1.11.0) (21.3)\n",
            "Requirement already satisfied: pandas in /usr/local/lib/python3.8/dist-packages (from datasets==1.11.0) (1.3.5)\n",
            "Collecting xxhash\n",
            "  Downloading xxhash-3.1.0-cp38-cp38-manylinux_2_17_x86_64.manylinux2014_x86_64.whl (212 kB)\n",
            "\u001b[K     |████████████████████████████████| 212 kB 72.2 MB/s \n",
            "\u001b[?25hRequirement already satisfied: huggingface-hub<0.1.0 in /usr/local/lib/python3.8/dist-packages (from datasets==1.11.0) (0.0.12)\n",
            "Requirement already satisfied: fsspec>=2021.05.0 in /usr/local/lib/python3.8/dist-packages (from datasets==1.11.0) (2022.11.0)\n",
            "Requirement already satisfied: dill in /usr/local/lib/python3.8/dist-packages (from datasets==1.11.0) (0.3.6)\n",
            "Requirement already satisfied: tqdm>=4.42 in /usr/local/lib/python3.8/dist-packages (from datasets==1.11.0) (4.64.1)\n",
            "Requirement already satisfied: requests>=2.19.0 in /usr/local/lib/python3.8/dist-packages (from datasets==1.11.0) (2.23.0)\n",
            "Requirement already satisfied: filelock in /usr/local/lib/python3.8/dist-packages (from huggingface-hub<0.1.0->datasets==1.11.0) (3.8.0)\n",
            "Requirement already satisfied: typing-extensions in /usr/local/lib/python3.8/dist-packages (from huggingface-hub<0.1.0->datasets==1.11.0) (4.4.0)\n",
            "Requirement already satisfied: pyparsing!=3.0.5,>=2.0.2 in /usr/local/lib/python3.8/dist-packages (from packaging->datasets==1.11.0) (3.0.9)\n",
            "Requirement already satisfied: idna<3,>=2.5 in /usr/local/lib/python3.8/dist-packages (from requests>=2.19.0->datasets==1.11.0) (2.10)\n",
            "Requirement already satisfied: certifi>=2017.4.17 in /usr/local/lib/python3.8/dist-packages (from requests>=2.19.0->datasets==1.11.0) (2022.9.24)\n",
            "Requirement already satisfied: chardet<4,>=3.0.2 in /usr/local/lib/python3.8/dist-packages (from requests>=2.19.0->datasets==1.11.0) (3.0.4)\n",
            "Requirement already satisfied: urllib3!=1.25.0,!=1.25.1,<1.26,>=1.21.1 in /usr/local/lib/python3.8/dist-packages (from requests>=2.19.0->datasets==1.11.0) (1.24.3)\n",
            "Requirement already satisfied: pytz>=2017.3 in /usr/local/lib/python3.8/dist-packages (from pandas->datasets==1.11.0) (2022.6)\n",
            "Requirement already satisfied: python-dateutil>=2.7.3 in /usr/local/lib/python3.8/dist-packages (from pandas->datasets==1.11.0) (2.8.2)\n",
            "Requirement already satisfied: six>=1.5 in /usr/local/lib/python3.8/dist-packages (from python-dateutil>=2.7.3->pandas->datasets==1.11.0) (1.15.0)\n",
            "Installing collected packages: xxhash, multiprocess, datasets\n",
            "Successfully installed datasets-1.11.0 multiprocess-0.70.14 xxhash-3.1.0\n",
            "Looking in indexes: https://pypi.org/simple, https://us-python.pkg.dev/colab-wheels/public/simple/\n",
            "Collecting tabulate==0.8.9\n",
            "  Downloading tabulate-0.8.9-py3-none-any.whl (25 kB)\n",
            "Installing collected packages: tabulate\n",
            "  Attempting uninstall: tabulate\n",
            "    Found existing installation: tabulate 0.8.10\n",
            "    Uninstalling tabulate-0.8.10:\n",
            "      Successfully uninstalled tabulate-0.8.10\n",
            "Successfully installed tabulate-0.8.9\n",
            "Looking in indexes: https://pypi.org/simple, https://us-python.pkg.dev/colab-wheels/public/simple/\n",
            "Collecting seqeval==1.2.2\n",
            "  Downloading seqeval-1.2.2.tar.gz (43 kB)\n",
            "\u001b[K     |████████████████████████████████| 43 kB 2.2 MB/s \n",
            "\u001b[?25hRequirement already satisfied: numpy>=1.14.0 in /usr/local/lib/python3.8/dist-packages (from seqeval==1.2.2) (1.21.6)\n",
            "Requirement already satisfied: scikit-learn>=0.21.3 in /usr/local/lib/python3.8/dist-packages (from seqeval==1.2.2) (1.0.2)\n",
            "Requirement already satisfied: scipy>=1.1.0 in /usr/local/lib/python3.8/dist-packages (from scikit-learn>=0.21.3->seqeval==1.2.2) (1.7.3)\n",
            "Requirement already satisfied: joblib>=0.11 in /usr/local/lib/python3.8/dist-packages (from scikit-learn>=0.21.3->seqeval==1.2.2) (1.2.0)\n",
            "Requirement already satisfied: threadpoolctl>=2.0.0 in /usr/local/lib/python3.8/dist-packages (from scikit-learn>=0.21.3->seqeval==1.2.2) (3.1.0)\n",
            "Building wheels for collected packages: seqeval\n",
            "  Building wheel for seqeval (setup.py) ... \u001b[?25l\u001b[?25hdone\n",
            "  Created wheel for seqeval: filename=seqeval-1.2.2-py3-none-any.whl size=16179 sha256=640203c7fc85c79aa469f864f48d736dafa4f6a3bfcde7100610d713acf6d494\n",
            "  Stored in directory: /root/.cache/pip/wheels/ad/5c/ba/05fa33fa5855777b7d686e843ec07452f22a66a138e290e732\n",
            "Successfully built seqeval\n",
            "Installing collected packages: seqeval\n",
            "Successfully installed seqeval-1.2.2\n"
          ]
        }
      ],
      "source": [
        "### WARNING: Do NOT run this cell, unless you are running this on Google Colab. For a local installation run: pip install -r requirements.txt inside the terminal\n",
        "%pip install transformers==4.9.1\n",
        "%pip install datasets==1.11.0\n",
        "%pip install tabulate==0.8.9\n",
        "%pip install seqeval==1.2.2"
      ]
    },
    {
      "cell_type": "code",
      "execution_count": 5,
      "metadata": {
        "id": "7W9OE8N9syZk"
      },
      "outputs": [],
      "source": [
        "import random, time, os\n",
        "import torch\n",
        "from torch.nn import CrossEntropyLoss\n",
        "import numpy as np\n",
        "from torch.utils.data import TensorDataset, DataLoader, RandomSampler\n",
        "from transformers import BertForTokenClassification, AdamW\n",
        "from transformers import get_linear_schedule_with_warmup\n",
        "import logging, sys\n",
        "from transformers import BertTokenizer\n",
        "from sklearn.metrics import classification_report\n",
        "\n",
        "# Our code behind the scenes!\n",
        "import bert_utils as utils"
      ]
    },
    {
      "cell_type": "markdown",
      "metadata": {
        "id": "n-HQ_X00syZk"
      },
      "source": [
        "## Initialize Hyperparameters"
      ]
    },
    {
      "cell_type": "code",
      "execution_count": 6,
      "metadata": {
        "id": "XpoO9V69syZk"
      },
      "outputs": [],
      "source": [
        "EPOCHS = 1\n",
        "BERT_MODEL_NAME = \"bert-base-cased\"\n",
        "GPU_RUN_IX=0\n",
        "\n",
        "SEED_VAL = 1234500\n",
        "SEQ_MAX_LEN = 256\n",
        "PRINT_INFO_EVERY = 10 # Print status only every X batches\n",
        "GRADIENT_CLIP = 1.0\n",
        "LEARNING_RATE = 1e-5\n",
        "BATCH_SIZE = 4\n",
        "\n",
        "TRAIN_DATA_PATH = \"/content/datas/conll2003.train.conll\" # \"data/conll2003.train.conll\"\n",
        "\n",
        "# IMPORTANT NOTE: We use as validation set the test portion, in order to avoid overfitting on the dev set, \n",
        "# and this way be able to evaluate later and compare with your previous models!\n",
        "DEV_DATA_PATH = \"/content/datas/conll2003.dev.conll\" # \"data/conll2003.dev.conll\"\n",
        "\n",
        "SAVE_MODEL_DIR = \"saved_models/\"\n",
        "\n",
        "LABELS_FILENAME = f\"{SAVE_MODEL_DIR}/label2index.json\"\n",
        "LOSS_TRN_FILENAME = f\"{SAVE_MODEL_DIR}/Losses_Train_{EPOCHS}.json\"\n",
        "LOSS_DEV_FILENAME = f\"{SAVE_MODEL_DIR}/Losses_Dev_{EPOCHS}.json\"\n",
        "\n",
        "PAD_TOKEN_LABEL_ID = CrossEntropyLoss().ignore_index # -100\n",
        "\n",
        "if not os.path.exists(SAVE_MODEL_DIR):\n",
        "    os.makedirs(SAVE_MODEL_DIR)\n",
        "\n",
        "\n",
        "# Initialize Random seeds and validate if there's a GPU available...\n",
        "device, USE_CUDA = utils.get_torch_device(GPU_RUN_IX)\n",
        "random.seed(SEED_VAL)\n",
        "np.random.seed(SEED_VAL)\n",
        "torch.manual_seed(SEED_VAL)\n",
        "torch.cuda.manual_seed_all(SEED_VAL)"
      ]
    },
    {
      "cell_type": "markdown",
      "metadata": {
        "id": "Klit0kVTsyZk"
      },
      "source": [
        "## Record everything inside a Log File"
      ]
    },
    {
      "cell_type": "code",
      "execution_count": 7,
      "metadata": {
        "id": "fLzbwLTosyZl"
      },
      "outputs": [],
      "source": [
        "# console_hdlr = logging.StreamHandler(sys.stdout)\n",
        "# file_hdlr = logging.FileHandler(filename=f\"{SAVE_MODEL_DIR}/BERT_TokenClassifier_train_{EPOCHS}.log\")\n",
        "# logging.basicConfig(level=logging.INFO, handlers=[console_hdlr, file_hdlr])\n",
        "# logging.info(\"Start Logging\")"
      ]
    },
    {
      "cell_type": "code",
      "execution_count": 8,
      "metadata": {
        "colab": {
          "base_uri": "https://localhost:8080/"
        },
        "id": "mUemvkBL4l6-",
        "outputId": "08eef212-521a-41f2-bcd1-5bcb42e36060"
      },
      "outputs": [
        {
          "output_type": "stream",
          "name": "stdout",
          "text": [
            "Start Logging\n"
          ]
        },
        {
          "output_type": "stream",
          "name": "stderr",
          "text": [
            "INFO:__main__:Start Logging\n"
          ]
        }
      ],
      "source": [
        "console_hdlr = logging.StreamHandler(sys.stdout)\n",
        "file_hdlr = logging.FileHandler(filename=f\"{SAVE_MODEL_DIR}/BERT_TokenClassifier_train_{EPOCHS}.log\")\n",
        "logging.basicConfig(handlers=[console_hdlr, file_hdlr])\n",
        "logger = logging.getLogger(__name__)\n",
        "logger.addHandler(console_hdlr)\n",
        "logger.addHandler(file_hdlr)\n",
        "logger.setLevel(logging.INFO)\n",
        "logger.info(\"Start Logging\")"
      ]
    },
    {
      "cell_type": "code",
      "execution_count": 9,
      "metadata": {
        "id": "0GIRdHKD4GG5"
      },
      "outputs": [],
      "source": [
        "\n",
        "\n",
        "# logging.basicConfig()\n",
        "# logger = logging.getLogger(__name__)\n",
        "# logger.setLevel(logging.INFO)\n",
        "\n",
        "# logger.info('its working')"
      ]
    },
    {
      "cell_type": "markdown",
      "metadata": {
        "id": "jZRqYHklsyZl"
      },
      "source": [
        "## Load Training and Validation Datasets"
      ]
    },
    {
      "cell_type": "code",
      "execution_count": 10,
      "metadata": {
        "colab": {
          "base_uri": "https://localhost:8080/",
          "height": 145,
          "referenced_widgets": [
            "6c05a784869e481c8ef1a60face5dac5",
            "5fba7949224c4b2ea51a9307c7eae0bc",
            "5309a733065944419419d36354bb50f8",
            "e81acfd10b404291973360c7194fcfce",
            "565e8c3df46b48f0a3500e4b2768d122",
            "ab6e6234bc4e4f47ac179df6d04d99b6",
            "27ad3c3f069541a884e779d30e2d8406",
            "74b19abc930c48af944f54d20cb00449",
            "c0c1cf7c3c8a4def8501c2607d0d8551",
            "fef0bf8a0e594b4fa7bb53ed8ffc53dd",
            "ecb234a52d1c4cb8afcb980aca8222d2",
            "adb785ae28ab4f5fa06a6410cbd49a7f",
            "7297e119c57e48bcb3c96940c84294ac",
            "e94596b8f2e144cc96c98a144025b59d",
            "0001a7c34d50481cbe81f5c42f64f88f",
            "841cddd49e3843f782e3c8484065c9db",
            "14cd03fc60624a9a8956f2ddb6723fbc",
            "0fae0312fbbe479bb47d96196ceb872a",
            "7093d815268a4bf0bb644d16de460331",
            "dcd8192af4024438ac0f677810610cdc",
            "695bf9e619c74e20bd8ee9fb04cbfa83",
            "d7f5daccfb0248f09672ff64ac8969fb",
            "425b4b868e1840dcb809841b4616afb9",
            "9671514cfc0d4af68669f6b61b244f17",
            "6a373cc1619e48139d803a7c8893699a",
            "6d9bffe6fff44e62bb7800e75aebadf6",
            "26b123eca4484aada8721d90a22b109f",
            "bbb8318a3d4a4c72b9147477566d920b",
            "6d4c9c069597436d864c42df56a63acd",
            "52421f28af064020ab3a090c5c6f83dc",
            "7dc625a1a9944941ba8d6b025f296937",
            "d16e43d083ff41829a6f4aa029cb82d1",
            "8cc0a4d587824a118424a638f68ea48f",
            "0633e02881b24035a49a06e859f2a4bd",
            "6322813a86d64a7a8173e7c4389cf5db",
            "4ac52dc1cd324b098a3350bc1c0b598b",
            "4c7bc58ade02468190a86eb145aa5059",
            "89aff30439ad4fc88b9f9af6881ad076",
            "56d33a29cede40eb858c1809ab16f825",
            "dc8eae899842453a8137d788e4c026c6",
            "85f287d6810a4017a4899b0b6f32c9f5",
            "0610f006102547f5af6e632972fe9f2d",
            "bce0c874759842d7b7c4acb5911ce95c",
            "1e160ecc76204d2eb4e49283c0add711"
          ]
        },
        "id": "t6nEZeHisyZl",
        "outputId": "c78f1b90-011f-49af-94cd-9e17d6f63ed7"
      },
      "outputs": [
        {
          "output_type": "display_data",
          "data": {
            "text/plain": [
              "Downloading:   0%|          | 0.00/213k [00:00<?, ?B/s]"
            ],
            "application/vnd.jupyter.widget-view+json": {
              "version_major": 2,
              "version_minor": 0,
              "model_id": "6c05a784869e481c8ef1a60face5dac5"
            }
          },
          "metadata": {}
        },
        {
          "output_type": "display_data",
          "data": {
            "text/plain": [
              "Downloading:   0%|          | 0.00/29.0 [00:00<?, ?B/s]"
            ],
            "application/vnd.jupyter.widget-view+json": {
              "version_major": 2,
              "version_minor": 0,
              "model_id": "adb785ae28ab4f5fa06a6410cbd49a7f"
            }
          },
          "metadata": {}
        },
        {
          "output_type": "display_data",
          "data": {
            "text/plain": [
              "Downloading:   0%|          | 0.00/436k [00:00<?, ?B/s]"
            ],
            "application/vnd.jupyter.widget-view+json": {
              "version_major": 2,
              "version_minor": 0,
              "model_id": "425b4b868e1840dcb809841b4616afb9"
            }
          },
          "metadata": {}
        },
        {
          "output_type": "display_data",
          "data": {
            "text/plain": [
              "Downloading:   0%|          | 0.00/570 [00:00<?, ?B/s]"
            ],
            "application/vnd.jupyter.widget-view+json": {
              "version_major": 2,
              "version_minor": 0,
              "model_id": "0633e02881b24035a49a06e859f2a4bd"
            }
          },
          "metadata": {}
        }
      ],
      "source": [
        "# Initialize Tokenizer\n",
        "tokenizer = BertTokenizer.from_pretrained(BERT_MODEL_NAME, do_basic_tokenize=False)\n",
        "\n",
        "# Load Train Dataset\n",
        "train_data, train_labels, train_label2index = utils.read_conll(TRAIN_DATA_PATH, has_labels=True)\n",
        "train_inputs, train_masks, train_labels, seq_lengths = utils.data_to_tensors(train_data, \n",
        "                                                                            tokenizer, \n",
        "                                                                            max_len=SEQ_MAX_LEN, \n",
        "                                                                            labels=train_labels, \n",
        "                                                                            label2index=train_label2index,\n",
        "                                                                            pad_token_label_id=PAD_TOKEN_LABEL_ID)\n",
        "utils.save_label_dict(train_label2index, filename=LABELS_FILENAME)\n",
        "index2label = {v: k for k, v in train_label2index.items()}\n",
        "\n",
        "# Create the DataLoader for our training set.\n",
        "train_data = TensorDataset(train_inputs, train_masks, train_labels)\n",
        "train_sampler = RandomSampler(train_data)\n",
        "train_dataloader = DataLoader(train_data, sampler=train_sampler, batch_size=BATCH_SIZE)\n",
        "\n",
        "# Load Dev Dataset\n",
        "dev_data, dev_labels, _ = utils.read_conll(DEV_DATA_PATH, has_labels=True)\n",
        "dev_inputs, dev_masks, dev_labels, dev_lens = utils.data_to_tensors(dev_data, \n",
        "                                                                    tokenizer, \n",
        "                                                                    max_len=SEQ_MAX_LEN, \n",
        "                                                                    labels=dev_labels, \n",
        "                                                                    label2index=train_label2index,\n",
        "                                                                    pad_token_label_id=PAD_TOKEN_LABEL_ID)\n",
        "\n",
        "# Create the DataLoader for our Development set.\n",
        "dev_data = TensorDataset(dev_inputs, dev_masks, dev_labels, dev_lens)\n",
        "dev_sampler = RandomSampler(dev_data)\n",
        "dev_dataloader = DataLoader(dev_data, sampler=dev_sampler, batch_size=BATCH_SIZE)"
      ]
    },
    {
      "cell_type": "markdown",
      "metadata": {
        "id": "z4zDruznsyZl"
      },
      "source": [
        "## Initialize Model Components"
      ]
    },
    {
      "cell_type": "code",
      "execution_count": 11,
      "metadata": {
        "colab": {
          "base_uri": "https://localhost:8080/",
          "height": 156,
          "referenced_widgets": [
            "a6db8d7bb0b5400cafca9272b87936b5",
            "4a6371417b05404c8fcf3366ff4b7fe4",
            "c7e8034ab8514eb9b84429cedb954ce2",
            "1ddfb43668744911915f0f9f4151d4b9",
            "59a9f14658ba4c69a0d83b854b637e5c",
            "e564d658837e4a2fab458081edfd6afc",
            "4356ec91c93f4014b8bb43efab891b39",
            "28fe53bae02843a19a1dbcb6a27f9f69",
            "e8521291a689450a8ac4edf022765220",
            "a66757ad92054c5087eda7d281c22b19",
            "140c1d23ad884af9a7631ba9b51b0648"
          ]
        },
        "id": "kvO2ol3RsyZm",
        "outputId": "7820f4df-4834-475a-f6b7-0d8532283d7c"
      },
      "outputs": [
        {
          "output_type": "display_data",
          "data": {
            "text/plain": [
              "Downloading:   0%|          | 0.00/436M [00:00<?, ?B/s]"
            ],
            "application/vnd.jupyter.widget-view+json": {
              "version_major": 2,
              "version_minor": 0,
              "model_id": "a6db8d7bb0b5400cafca9272b87936b5"
            }
          },
          "metadata": {}
        },
        {
          "output_type": "stream",
          "name": "stderr",
          "text": [
            "Some weights of the model checkpoint at bert-base-cased were not used when initializing BertForTokenClassification: ['cls.predictions.transform.LayerNorm.weight', 'cls.predictions.transform.dense.bias', 'cls.predictions.transform.dense.weight', 'cls.seq_relationship.weight', 'cls.predictions.transform.LayerNorm.bias', 'cls.seq_relationship.bias', 'cls.predictions.bias', 'cls.predictions.decoder.weight']\n",
            "- This IS expected if you are initializing BertForTokenClassification from the checkpoint of a model trained on another task or with another architecture (e.g. initializing a BertForSequenceClassification model from a BertForPreTraining model).\n",
            "- This IS NOT expected if you are initializing BertForTokenClassification from the checkpoint of a model that you expect to be exactly identical (initializing a BertForSequenceClassification model from a BertForSequenceClassification model).\n",
            "Some weights of BertForTokenClassification were not initialized from the model checkpoint at bert-base-cased and are newly initialized: ['classifier.bias', 'classifier.weight']\n",
            "You should probably TRAIN this model on a down-stream task to be able to use it for predictions and inference.\n"
          ]
        }
      ],
      "source": [
        "model = BertForTokenClassification.from_pretrained(BERT_MODEL_NAME, num_labels=len(train_label2index))\n",
        "model.config.finetuning_task = 'token-classification'\n",
        "model.config.id2label = index2label\n",
        "model.config.label2id = train_label2index\n",
        "if USE_CUDA: model.cuda()\n",
        "\n",
        "# Total number of training steps is number of batches * number of epochs.\n",
        "total_steps = len(train_dataloader) * EPOCHS\n",
        "\n",
        "# Create optimizer and the learning rate scheduler.\n",
        "optimizer = AdamW(model.parameters(), lr=LEARNING_RATE, eps=1e-8)\n",
        "scheduler = get_linear_schedule_with_warmup(optimizer,\n",
        "                                        num_warmup_steps=0,\n",
        "                                        num_training_steps=total_steps)"
      ]
    },
    {
      "cell_type": "markdown",
      "metadata": {
        "id": "2xhi2zm9syZm"
      },
      "source": [
        "## Training Cycle (Fine-tunning)"
      ]
    },
    {
      "cell_type": "code",
      "execution_count": 12,
      "metadata": {
        "colab": {
          "base_uri": "https://localhost:8080/"
        },
        "id": "AMHGOgYlsyZm",
        "outputId": "89d06b0b-819f-4050-fd87-87ddea73e781"
      },
      "outputs": [
        {
          "output_type": "stream",
          "name": "stdout",
          "text": [
            "\n"
          ]
        },
        {
          "output_type": "stream",
          "name": "stderr",
          "text": [
            "INFO:__main__:\n"
          ]
        },
        {
          "output_type": "stream",
          "name": "stdout",
          "text": [
            "======== Epoch 1 / 1 ========\n"
          ]
        },
        {
          "output_type": "stream",
          "name": "stderr",
          "text": [
            "INFO:__main__:======== Epoch 1 / 1 ========\n"
          ]
        },
        {
          "output_type": "stream",
          "name": "stdout",
          "text": [
            "Training...\n"
          ]
        },
        {
          "output_type": "stream",
          "name": "stderr",
          "text": [
            "INFO:__main__:Training...\n"
          ]
        },
        {
          "output_type": "stream",
          "name": "stdout",
          "text": [
            "  Batch    10  of  3,511.    Elapsed: 0:00:05.    Loss: 1.6976174116134644.\n"
          ]
        },
        {
          "output_type": "stream",
          "name": "stderr",
          "text": [
            "INFO:__main__:  Batch    10  of  3,511.    Elapsed: 0:00:05.    Loss: 1.6976174116134644.\n"
          ]
        },
        {
          "output_type": "stream",
          "name": "stdout",
          "text": [
            "  Batch    20  of  3,511.    Elapsed: 0:00:07.    Loss: 1.1396169662475586.\n"
          ]
        },
        {
          "output_type": "stream",
          "name": "stderr",
          "text": [
            "INFO:__main__:  Batch    20  of  3,511.    Elapsed: 0:00:07.    Loss: 1.1396169662475586.\n"
          ]
        },
        {
          "output_type": "stream",
          "name": "stdout",
          "text": [
            "  Batch    30  of  3,511.    Elapsed: 0:00:09.    Loss: 0.6209182143211365.\n"
          ]
        },
        {
          "output_type": "stream",
          "name": "stderr",
          "text": [
            "INFO:__main__:  Batch    30  of  3,511.    Elapsed: 0:00:09.    Loss: 0.6209182143211365.\n"
          ]
        },
        {
          "output_type": "stream",
          "name": "stdout",
          "text": [
            "  Batch    40  of  3,511.    Elapsed: 0:00:11.    Loss: 0.7222496867179871.\n"
          ]
        },
        {
          "output_type": "stream",
          "name": "stderr",
          "text": [
            "INFO:__main__:  Batch    40  of  3,511.    Elapsed: 0:00:11.    Loss: 0.7222496867179871.\n"
          ]
        },
        {
          "output_type": "stream",
          "name": "stdout",
          "text": [
            "  Batch    50  of  3,511.    Elapsed: 0:00:13.    Loss: 0.24956214427947998.\n"
          ]
        },
        {
          "output_type": "stream",
          "name": "stderr",
          "text": [
            "INFO:__main__:  Batch    50  of  3,511.    Elapsed: 0:00:13.    Loss: 0.24956214427947998.\n"
          ]
        },
        {
          "output_type": "stream",
          "name": "stdout",
          "text": [
            "  Batch    60  of  3,511.    Elapsed: 0:00:15.    Loss: 0.8569536805152893.\n"
          ]
        },
        {
          "output_type": "stream",
          "name": "stderr",
          "text": [
            "INFO:__main__:  Batch    60  of  3,511.    Elapsed: 0:00:15.    Loss: 0.8569536805152893.\n"
          ]
        },
        {
          "output_type": "stream",
          "name": "stdout",
          "text": [
            "  Batch    70  of  3,511.    Elapsed: 0:00:16.    Loss: 0.5175203680992126.\n"
          ]
        },
        {
          "output_type": "stream",
          "name": "stderr",
          "text": [
            "INFO:__main__:  Batch    70  of  3,511.    Elapsed: 0:00:16.    Loss: 0.5175203680992126.\n"
          ]
        },
        {
          "output_type": "stream",
          "name": "stdout",
          "text": [
            "  Batch    80  of  3,511.    Elapsed: 0:00:18.    Loss: 0.2653156518936157.\n"
          ]
        },
        {
          "output_type": "stream",
          "name": "stderr",
          "text": [
            "INFO:__main__:  Batch    80  of  3,511.    Elapsed: 0:00:18.    Loss: 0.2653156518936157.\n"
          ]
        },
        {
          "output_type": "stream",
          "name": "stdout",
          "text": [
            "  Batch    90  of  3,511.    Elapsed: 0:00:20.    Loss: 0.419086754322052.\n"
          ]
        },
        {
          "output_type": "stream",
          "name": "stderr",
          "text": [
            "INFO:__main__:  Batch    90  of  3,511.    Elapsed: 0:00:20.    Loss: 0.419086754322052.\n"
          ]
        },
        {
          "output_type": "stream",
          "name": "stdout",
          "text": [
            "  Batch   100  of  3,511.    Elapsed: 0:00:22.    Loss: 0.5261414647102356.\n"
          ]
        },
        {
          "output_type": "stream",
          "name": "stderr",
          "text": [
            "INFO:__main__:  Batch   100  of  3,511.    Elapsed: 0:00:22.    Loss: 0.5261414647102356.\n"
          ]
        },
        {
          "output_type": "stream",
          "name": "stdout",
          "text": [
            "  Batch   110  of  3,511.    Elapsed: 0:00:24.    Loss: 0.31248360872268677.\n"
          ]
        },
        {
          "output_type": "stream",
          "name": "stderr",
          "text": [
            "INFO:__main__:  Batch   110  of  3,511.    Elapsed: 0:00:24.    Loss: 0.31248360872268677.\n"
          ]
        },
        {
          "output_type": "stream",
          "name": "stdout",
          "text": [
            "  Batch   120  of  3,511.    Elapsed: 0:00:26.    Loss: 0.7047669291496277.\n"
          ]
        },
        {
          "output_type": "stream",
          "name": "stderr",
          "text": [
            "INFO:__main__:  Batch   120  of  3,511.    Elapsed: 0:00:26.    Loss: 0.7047669291496277.\n"
          ]
        },
        {
          "output_type": "stream",
          "name": "stdout",
          "text": [
            "  Batch   130  of  3,511.    Elapsed: 0:00:28.    Loss: 0.22572967410087585.\n"
          ]
        },
        {
          "output_type": "stream",
          "name": "stderr",
          "text": [
            "INFO:__main__:  Batch   130  of  3,511.    Elapsed: 0:00:28.    Loss: 0.22572967410087585.\n"
          ]
        },
        {
          "output_type": "stream",
          "name": "stdout",
          "text": [
            "  Batch   140  of  3,511.    Elapsed: 0:00:30.    Loss: 0.22261522710323334.\n"
          ]
        },
        {
          "output_type": "stream",
          "name": "stderr",
          "text": [
            "INFO:__main__:  Batch   140  of  3,511.    Elapsed: 0:00:30.    Loss: 0.22261522710323334.\n"
          ]
        },
        {
          "output_type": "stream",
          "name": "stdout",
          "text": [
            "  Batch   150  of  3,511.    Elapsed: 0:00:31.    Loss: 0.1442883312702179.\n"
          ]
        },
        {
          "output_type": "stream",
          "name": "stderr",
          "text": [
            "INFO:__main__:  Batch   150  of  3,511.    Elapsed: 0:00:31.    Loss: 0.1442883312702179.\n"
          ]
        },
        {
          "output_type": "stream",
          "name": "stdout",
          "text": [
            "  Batch   160  of  3,511.    Elapsed: 0:00:33.    Loss: 0.15747001767158508.\n"
          ]
        },
        {
          "output_type": "stream",
          "name": "stderr",
          "text": [
            "INFO:__main__:  Batch   160  of  3,511.    Elapsed: 0:00:33.    Loss: 0.15747001767158508.\n"
          ]
        },
        {
          "output_type": "stream",
          "name": "stdout",
          "text": [
            "  Batch   170  of  3,511.    Elapsed: 0:00:35.    Loss: 0.6031147837638855.\n"
          ]
        },
        {
          "output_type": "stream",
          "name": "stderr",
          "text": [
            "INFO:__main__:  Batch   170  of  3,511.    Elapsed: 0:00:35.    Loss: 0.6031147837638855.\n"
          ]
        },
        {
          "output_type": "stream",
          "name": "stdout",
          "text": [
            "  Batch   180  of  3,511.    Elapsed: 0:00:37.    Loss: 0.4792969822883606.\n"
          ]
        },
        {
          "output_type": "stream",
          "name": "stderr",
          "text": [
            "INFO:__main__:  Batch   180  of  3,511.    Elapsed: 0:00:37.    Loss: 0.4792969822883606.\n"
          ]
        },
        {
          "output_type": "stream",
          "name": "stdout",
          "text": [
            "  Batch   190  of  3,511.    Elapsed: 0:00:39.    Loss: 0.20524735748767853.\n"
          ]
        },
        {
          "output_type": "stream",
          "name": "stderr",
          "text": [
            "INFO:__main__:  Batch   190  of  3,511.    Elapsed: 0:00:39.    Loss: 0.20524735748767853.\n"
          ]
        },
        {
          "output_type": "stream",
          "name": "stdout",
          "text": [
            "  Batch   200  of  3,511.    Elapsed: 0:00:41.    Loss: 0.09586215764284134.\n"
          ]
        },
        {
          "output_type": "stream",
          "name": "stderr",
          "text": [
            "INFO:__main__:  Batch   200  of  3,511.    Elapsed: 0:00:41.    Loss: 0.09586215764284134.\n"
          ]
        },
        {
          "output_type": "stream",
          "name": "stdout",
          "text": [
            "  Batch   210  of  3,511.    Elapsed: 0:00:43.    Loss: 0.16355831921100616.\n"
          ]
        },
        {
          "output_type": "stream",
          "name": "stderr",
          "text": [
            "INFO:__main__:  Batch   210  of  3,511.    Elapsed: 0:00:43.    Loss: 0.16355831921100616.\n"
          ]
        },
        {
          "output_type": "stream",
          "name": "stdout",
          "text": [
            "  Batch   220  of  3,511.    Elapsed: 0:00:45.    Loss: 0.10158085078001022.\n"
          ]
        },
        {
          "output_type": "stream",
          "name": "stderr",
          "text": [
            "INFO:__main__:  Batch   220  of  3,511.    Elapsed: 0:00:45.    Loss: 0.10158085078001022.\n"
          ]
        },
        {
          "output_type": "stream",
          "name": "stdout",
          "text": [
            "  Batch   230  of  3,511.    Elapsed: 0:00:47.    Loss: 0.36494889855384827.\n"
          ]
        },
        {
          "output_type": "stream",
          "name": "stderr",
          "text": [
            "INFO:__main__:  Batch   230  of  3,511.    Elapsed: 0:00:47.    Loss: 0.36494889855384827.\n"
          ]
        },
        {
          "output_type": "stream",
          "name": "stdout",
          "text": [
            "  Batch   240  of  3,511.    Elapsed: 0:00:49.    Loss: 0.28401634097099304.\n"
          ]
        },
        {
          "output_type": "stream",
          "name": "stderr",
          "text": [
            "INFO:__main__:  Batch   240  of  3,511.    Elapsed: 0:00:49.    Loss: 0.28401634097099304.\n"
          ]
        },
        {
          "output_type": "stream",
          "name": "stdout",
          "text": [
            "  Batch   250  of  3,511.    Elapsed: 0:00:50.    Loss: 0.25325527787208557.\n"
          ]
        },
        {
          "output_type": "stream",
          "name": "stderr",
          "text": [
            "INFO:__main__:  Batch   250  of  3,511.    Elapsed: 0:00:50.    Loss: 0.25325527787208557.\n"
          ]
        },
        {
          "output_type": "stream",
          "name": "stdout",
          "text": [
            "  Batch   260  of  3,511.    Elapsed: 0:00:52.    Loss: 0.2068926841020584.\n"
          ]
        },
        {
          "output_type": "stream",
          "name": "stderr",
          "text": [
            "INFO:__main__:  Batch   260  of  3,511.    Elapsed: 0:00:52.    Loss: 0.2068926841020584.\n"
          ]
        },
        {
          "output_type": "stream",
          "name": "stdout",
          "text": [
            "  Batch   270  of  3,511.    Elapsed: 0:00:54.    Loss: 0.11040806025266647.\n"
          ]
        },
        {
          "output_type": "stream",
          "name": "stderr",
          "text": [
            "INFO:__main__:  Batch   270  of  3,511.    Elapsed: 0:00:54.    Loss: 0.11040806025266647.\n"
          ]
        },
        {
          "output_type": "stream",
          "name": "stdout",
          "text": [
            "  Batch   280  of  3,511.    Elapsed: 0:00:56.    Loss: 0.27733081579208374.\n"
          ]
        },
        {
          "output_type": "stream",
          "name": "stderr",
          "text": [
            "INFO:__main__:  Batch   280  of  3,511.    Elapsed: 0:00:56.    Loss: 0.27733081579208374.\n"
          ]
        },
        {
          "output_type": "stream",
          "name": "stdout",
          "text": [
            "  Batch   290  of  3,511.    Elapsed: 0:00:58.    Loss: 0.019291648641228676.\n"
          ]
        },
        {
          "output_type": "stream",
          "name": "stderr",
          "text": [
            "INFO:__main__:  Batch   290  of  3,511.    Elapsed: 0:00:58.    Loss: 0.019291648641228676.\n"
          ]
        },
        {
          "output_type": "stream",
          "name": "stdout",
          "text": [
            "  Batch   300  of  3,511.    Elapsed: 0:01:00.    Loss: 0.2922499477863312.\n"
          ]
        },
        {
          "output_type": "stream",
          "name": "stderr",
          "text": [
            "INFO:__main__:  Batch   300  of  3,511.    Elapsed: 0:01:00.    Loss: 0.2922499477863312.\n"
          ]
        },
        {
          "output_type": "stream",
          "name": "stdout",
          "text": [
            "  Batch   310  of  3,511.    Elapsed: 0:01:02.    Loss: 0.1713249683380127.\n"
          ]
        },
        {
          "output_type": "stream",
          "name": "stderr",
          "text": [
            "INFO:__main__:  Batch   310  of  3,511.    Elapsed: 0:01:02.    Loss: 0.1713249683380127.\n"
          ]
        },
        {
          "output_type": "stream",
          "name": "stdout",
          "text": [
            "  Batch   320  of  3,511.    Elapsed: 0:01:04.    Loss: 0.3841073513031006.\n"
          ]
        },
        {
          "output_type": "stream",
          "name": "stderr",
          "text": [
            "INFO:__main__:  Batch   320  of  3,511.    Elapsed: 0:01:04.    Loss: 0.3841073513031006.\n"
          ]
        },
        {
          "output_type": "stream",
          "name": "stdout",
          "text": [
            "  Batch   330  of  3,511.    Elapsed: 0:01:06.    Loss: 0.16508354246616364.\n"
          ]
        },
        {
          "output_type": "stream",
          "name": "stderr",
          "text": [
            "INFO:__main__:  Batch   330  of  3,511.    Elapsed: 0:01:06.    Loss: 0.16508354246616364.\n"
          ]
        },
        {
          "output_type": "stream",
          "name": "stdout",
          "text": [
            "  Batch   340  of  3,511.    Elapsed: 0:01:08.    Loss: 0.1443835347890854.\n"
          ]
        },
        {
          "output_type": "stream",
          "name": "stderr",
          "text": [
            "INFO:__main__:  Batch   340  of  3,511.    Elapsed: 0:01:08.    Loss: 0.1443835347890854.\n"
          ]
        },
        {
          "output_type": "stream",
          "name": "stdout",
          "text": [
            "  Batch   350  of  3,511.    Elapsed: 0:01:10.    Loss: 0.12117336690425873.\n"
          ]
        },
        {
          "output_type": "stream",
          "name": "stderr",
          "text": [
            "INFO:__main__:  Batch   350  of  3,511.    Elapsed: 0:01:10.    Loss: 0.12117336690425873.\n"
          ]
        },
        {
          "output_type": "stream",
          "name": "stdout",
          "text": [
            "  Batch   360  of  3,511.    Elapsed: 0:01:12.    Loss: 0.052792228758335114.\n"
          ]
        },
        {
          "output_type": "stream",
          "name": "stderr",
          "text": [
            "INFO:__main__:  Batch   360  of  3,511.    Elapsed: 0:01:12.    Loss: 0.052792228758335114.\n"
          ]
        },
        {
          "output_type": "stream",
          "name": "stdout",
          "text": [
            "  Batch   370  of  3,511.    Elapsed: 0:01:14.    Loss: 0.056247465312480927.\n"
          ]
        },
        {
          "output_type": "stream",
          "name": "stderr",
          "text": [
            "INFO:__main__:  Batch   370  of  3,511.    Elapsed: 0:01:14.    Loss: 0.056247465312480927.\n"
          ]
        },
        {
          "output_type": "stream",
          "name": "stdout",
          "text": [
            "  Batch   380  of  3,511.    Elapsed: 0:01:16.    Loss: 0.07852163165807724.\n"
          ]
        },
        {
          "output_type": "stream",
          "name": "stderr",
          "text": [
            "INFO:__main__:  Batch   380  of  3,511.    Elapsed: 0:01:16.    Loss: 0.07852163165807724.\n"
          ]
        },
        {
          "output_type": "stream",
          "name": "stdout",
          "text": [
            "  Batch   390  of  3,511.    Elapsed: 0:01:18.    Loss: 0.11750168353319168.\n"
          ]
        },
        {
          "output_type": "stream",
          "name": "stderr",
          "text": [
            "INFO:__main__:  Batch   390  of  3,511.    Elapsed: 0:01:18.    Loss: 0.11750168353319168.\n"
          ]
        },
        {
          "output_type": "stream",
          "name": "stdout",
          "text": [
            "  Batch   400  of  3,511.    Elapsed: 0:01:20.    Loss: 0.13565848767757416.\n"
          ]
        },
        {
          "output_type": "stream",
          "name": "stderr",
          "text": [
            "INFO:__main__:  Batch   400  of  3,511.    Elapsed: 0:01:20.    Loss: 0.13565848767757416.\n"
          ]
        },
        {
          "output_type": "stream",
          "name": "stdout",
          "text": [
            "  Batch   410  of  3,511.    Elapsed: 0:01:22.    Loss: 0.12056247889995575.\n"
          ]
        },
        {
          "output_type": "stream",
          "name": "stderr",
          "text": [
            "INFO:__main__:  Batch   410  of  3,511.    Elapsed: 0:01:22.    Loss: 0.12056247889995575.\n"
          ]
        },
        {
          "output_type": "stream",
          "name": "stdout",
          "text": [
            "  Batch   420  of  3,511.    Elapsed: 0:01:24.    Loss: 0.7660216093063354.\n"
          ]
        },
        {
          "output_type": "stream",
          "name": "stderr",
          "text": [
            "INFO:__main__:  Batch   420  of  3,511.    Elapsed: 0:01:24.    Loss: 0.7660216093063354.\n"
          ]
        },
        {
          "output_type": "stream",
          "name": "stdout",
          "text": [
            "  Batch   430  of  3,511.    Elapsed: 0:01:26.    Loss: 0.08006298542022705.\n"
          ]
        },
        {
          "output_type": "stream",
          "name": "stderr",
          "text": [
            "INFO:__main__:  Batch   430  of  3,511.    Elapsed: 0:01:26.    Loss: 0.08006298542022705.\n"
          ]
        },
        {
          "output_type": "stream",
          "name": "stdout",
          "text": [
            "  Batch   440  of  3,511.    Elapsed: 0:01:28.    Loss: 0.16279412806034088.\n"
          ]
        },
        {
          "output_type": "stream",
          "name": "stderr",
          "text": [
            "INFO:__main__:  Batch   440  of  3,511.    Elapsed: 0:01:28.    Loss: 0.16279412806034088.\n"
          ]
        },
        {
          "output_type": "stream",
          "name": "stdout",
          "text": [
            "  Batch   450  of  3,511.    Elapsed: 0:01:29.    Loss: 0.0035543644335120916.\n"
          ]
        },
        {
          "output_type": "stream",
          "name": "stderr",
          "text": [
            "INFO:__main__:  Batch   450  of  3,511.    Elapsed: 0:01:29.    Loss: 0.0035543644335120916.\n"
          ]
        },
        {
          "output_type": "stream",
          "name": "stdout",
          "text": [
            "  Batch   460  of  3,511.    Elapsed: 0:01:32.    Loss: 0.02139158919453621.\n"
          ]
        },
        {
          "output_type": "stream",
          "name": "stderr",
          "text": [
            "INFO:__main__:  Batch   460  of  3,511.    Elapsed: 0:01:32.    Loss: 0.02139158919453621.\n"
          ]
        },
        {
          "output_type": "stream",
          "name": "stdout",
          "text": [
            "  Batch   470  of  3,511.    Elapsed: 0:01:34.    Loss: 0.01460353285074234.\n"
          ]
        },
        {
          "output_type": "stream",
          "name": "stderr",
          "text": [
            "INFO:__main__:  Batch   470  of  3,511.    Elapsed: 0:01:34.    Loss: 0.01460353285074234.\n"
          ]
        },
        {
          "output_type": "stream",
          "name": "stdout",
          "text": [
            "  Batch   480  of  3,511.    Elapsed: 0:01:36.    Loss: 0.22760196030139923.\n"
          ]
        },
        {
          "output_type": "stream",
          "name": "stderr",
          "text": [
            "INFO:__main__:  Batch   480  of  3,511.    Elapsed: 0:01:36.    Loss: 0.22760196030139923.\n"
          ]
        },
        {
          "output_type": "stream",
          "name": "stdout",
          "text": [
            "  Batch   490  of  3,511.    Elapsed: 0:01:38.    Loss: 0.017488328740000725.\n"
          ]
        },
        {
          "output_type": "stream",
          "name": "stderr",
          "text": [
            "INFO:__main__:  Batch   490  of  3,511.    Elapsed: 0:01:38.    Loss: 0.017488328740000725.\n"
          ]
        },
        {
          "output_type": "stream",
          "name": "stdout",
          "text": [
            "  Batch   500  of  3,511.    Elapsed: 0:01:40.    Loss: 0.174134761095047.\n"
          ]
        },
        {
          "output_type": "stream",
          "name": "stderr",
          "text": [
            "INFO:__main__:  Batch   500  of  3,511.    Elapsed: 0:01:40.    Loss: 0.174134761095047.\n"
          ]
        },
        {
          "output_type": "stream",
          "name": "stdout",
          "text": [
            "  Batch   510  of  3,511.    Elapsed: 0:01:42.    Loss: 0.019764721393585205.\n"
          ]
        },
        {
          "output_type": "stream",
          "name": "stderr",
          "text": [
            "INFO:__main__:  Batch   510  of  3,511.    Elapsed: 0:01:42.    Loss: 0.019764721393585205.\n"
          ]
        },
        {
          "output_type": "stream",
          "name": "stdout",
          "text": [
            "  Batch   520  of  3,511.    Elapsed: 0:01:44.    Loss: 0.026421761140227318.\n"
          ]
        },
        {
          "output_type": "stream",
          "name": "stderr",
          "text": [
            "INFO:__main__:  Batch   520  of  3,511.    Elapsed: 0:01:44.    Loss: 0.026421761140227318.\n"
          ]
        },
        {
          "output_type": "stream",
          "name": "stdout",
          "text": [
            "  Batch   530  of  3,511.    Elapsed: 0:01:46.    Loss: 0.06956851482391357.\n"
          ]
        },
        {
          "output_type": "stream",
          "name": "stderr",
          "text": [
            "INFO:__main__:  Batch   530  of  3,511.    Elapsed: 0:01:46.    Loss: 0.06956851482391357.\n"
          ]
        },
        {
          "output_type": "stream",
          "name": "stdout",
          "text": [
            "  Batch   540  of  3,511.    Elapsed: 0:01:48.    Loss: 0.01074819453060627.\n"
          ]
        },
        {
          "output_type": "stream",
          "name": "stderr",
          "text": [
            "INFO:__main__:  Batch   540  of  3,511.    Elapsed: 0:01:48.    Loss: 0.01074819453060627.\n"
          ]
        },
        {
          "output_type": "stream",
          "name": "stdout",
          "text": [
            "  Batch   550  of  3,511.    Elapsed: 0:01:50.    Loss: 0.037560347467660904.\n"
          ]
        },
        {
          "output_type": "stream",
          "name": "stderr",
          "text": [
            "INFO:__main__:  Batch   550  of  3,511.    Elapsed: 0:01:50.    Loss: 0.037560347467660904.\n"
          ]
        },
        {
          "output_type": "stream",
          "name": "stdout",
          "text": [
            "  Batch   560  of  3,511.    Elapsed: 0:01:52.    Loss: 0.0050928546115756035.\n"
          ]
        },
        {
          "output_type": "stream",
          "name": "stderr",
          "text": [
            "INFO:__main__:  Batch   560  of  3,511.    Elapsed: 0:01:52.    Loss: 0.0050928546115756035.\n"
          ]
        },
        {
          "output_type": "stream",
          "name": "stdout",
          "text": [
            "  Batch   570  of  3,511.    Elapsed: 0:01:54.    Loss: 0.09056445956230164.\n"
          ]
        },
        {
          "output_type": "stream",
          "name": "stderr",
          "text": [
            "INFO:__main__:  Batch   570  of  3,511.    Elapsed: 0:01:54.    Loss: 0.09056445956230164.\n"
          ]
        },
        {
          "output_type": "stream",
          "name": "stdout",
          "text": [
            "  Batch   580  of  3,511.    Elapsed: 0:01:56.    Loss: 0.008407460525631905.\n"
          ]
        },
        {
          "output_type": "stream",
          "name": "stderr",
          "text": [
            "INFO:__main__:  Batch   580  of  3,511.    Elapsed: 0:01:56.    Loss: 0.008407460525631905.\n"
          ]
        },
        {
          "output_type": "stream",
          "name": "stdout",
          "text": [
            "  Batch   590  of  3,511.    Elapsed: 0:01:58.    Loss: 0.027194105088710785.\n"
          ]
        },
        {
          "output_type": "stream",
          "name": "stderr",
          "text": [
            "INFO:__main__:  Batch   590  of  3,511.    Elapsed: 0:01:58.    Loss: 0.027194105088710785.\n"
          ]
        },
        {
          "output_type": "stream",
          "name": "stdout",
          "text": [
            "  Batch   600  of  3,511.    Elapsed: 0:02:00.    Loss: 0.029162410646677017.\n"
          ]
        },
        {
          "output_type": "stream",
          "name": "stderr",
          "text": [
            "INFO:__main__:  Batch   600  of  3,511.    Elapsed: 0:02:00.    Loss: 0.029162410646677017.\n"
          ]
        },
        {
          "output_type": "stream",
          "name": "stdout",
          "text": [
            "  Batch   610  of  3,511.    Elapsed: 0:02:02.    Loss: 0.018450357019901276.\n"
          ]
        },
        {
          "output_type": "stream",
          "name": "stderr",
          "text": [
            "INFO:__main__:  Batch   610  of  3,511.    Elapsed: 0:02:02.    Loss: 0.018450357019901276.\n"
          ]
        },
        {
          "output_type": "stream",
          "name": "stdout",
          "text": [
            "  Batch   620  of  3,511.    Elapsed: 0:02:04.    Loss: 0.034862831234931946.\n"
          ]
        },
        {
          "output_type": "stream",
          "name": "stderr",
          "text": [
            "INFO:__main__:  Batch   620  of  3,511.    Elapsed: 0:02:04.    Loss: 0.034862831234931946.\n"
          ]
        },
        {
          "output_type": "stream",
          "name": "stdout",
          "text": [
            "  Batch   630  of  3,511.    Elapsed: 0:02:06.    Loss: 0.004204375669360161.\n"
          ]
        },
        {
          "output_type": "stream",
          "name": "stderr",
          "text": [
            "INFO:__main__:  Batch   630  of  3,511.    Elapsed: 0:02:06.    Loss: 0.004204375669360161.\n"
          ]
        },
        {
          "output_type": "stream",
          "name": "stdout",
          "text": [
            "  Batch   640  of  3,511.    Elapsed: 0:02:08.    Loss: 0.0574093721807003.\n"
          ]
        },
        {
          "output_type": "stream",
          "name": "stderr",
          "text": [
            "INFO:__main__:  Batch   640  of  3,511.    Elapsed: 0:02:08.    Loss: 0.0574093721807003.\n"
          ]
        },
        {
          "output_type": "stream",
          "name": "stdout",
          "text": [
            "  Batch   650  of  3,511.    Elapsed: 0:02:10.    Loss: 0.19543328881263733.\n"
          ]
        },
        {
          "output_type": "stream",
          "name": "stderr",
          "text": [
            "INFO:__main__:  Batch   650  of  3,511.    Elapsed: 0:02:10.    Loss: 0.19543328881263733.\n"
          ]
        },
        {
          "output_type": "stream",
          "name": "stdout",
          "text": [
            "  Batch   660  of  3,511.    Elapsed: 0:02:12.    Loss: 0.09454391896724701.\n"
          ]
        },
        {
          "output_type": "stream",
          "name": "stderr",
          "text": [
            "INFO:__main__:  Batch   660  of  3,511.    Elapsed: 0:02:12.    Loss: 0.09454391896724701.\n"
          ]
        },
        {
          "output_type": "stream",
          "name": "stdout",
          "text": [
            "  Batch   670  of  3,511.    Elapsed: 0:02:14.    Loss: 0.02143709547817707.\n"
          ]
        },
        {
          "output_type": "stream",
          "name": "stderr",
          "text": [
            "INFO:__main__:  Batch   670  of  3,511.    Elapsed: 0:02:14.    Loss: 0.02143709547817707.\n"
          ]
        },
        {
          "output_type": "stream",
          "name": "stdout",
          "text": [
            "  Batch   680  of  3,511.    Elapsed: 0:02:16.    Loss: 0.06057581305503845.\n"
          ]
        },
        {
          "output_type": "stream",
          "name": "stderr",
          "text": [
            "INFO:__main__:  Batch   680  of  3,511.    Elapsed: 0:02:16.    Loss: 0.06057581305503845.\n"
          ]
        },
        {
          "output_type": "stream",
          "name": "stdout",
          "text": [
            "  Batch   690  of  3,511.    Elapsed: 0:02:18.    Loss: 0.017137255519628525.\n"
          ]
        },
        {
          "output_type": "stream",
          "name": "stderr",
          "text": [
            "INFO:__main__:  Batch   690  of  3,511.    Elapsed: 0:02:18.    Loss: 0.017137255519628525.\n"
          ]
        },
        {
          "output_type": "stream",
          "name": "stdout",
          "text": [
            "  Batch   700  of  3,511.    Elapsed: 0:02:20.    Loss: 0.004516666755080223.\n"
          ]
        },
        {
          "output_type": "stream",
          "name": "stderr",
          "text": [
            "INFO:__main__:  Batch   700  of  3,511.    Elapsed: 0:02:20.    Loss: 0.004516666755080223.\n"
          ]
        },
        {
          "output_type": "stream",
          "name": "stdout",
          "text": [
            "  Batch   710  of  3,511.    Elapsed: 0:02:22.    Loss: 0.03879706189036369.\n"
          ]
        },
        {
          "output_type": "stream",
          "name": "stderr",
          "text": [
            "INFO:__main__:  Batch   710  of  3,511.    Elapsed: 0:02:22.    Loss: 0.03879706189036369.\n"
          ]
        },
        {
          "output_type": "stream",
          "name": "stdout",
          "text": [
            "  Batch   720  of  3,511.    Elapsed: 0:02:24.    Loss: 0.024501748383045197.\n"
          ]
        },
        {
          "output_type": "stream",
          "name": "stderr",
          "text": [
            "INFO:__main__:  Batch   720  of  3,511.    Elapsed: 0:02:24.    Loss: 0.024501748383045197.\n"
          ]
        },
        {
          "output_type": "stream",
          "name": "stdout",
          "text": [
            "  Batch   730  of  3,511.    Elapsed: 0:02:26.    Loss: 0.029347676783800125.\n"
          ]
        },
        {
          "output_type": "stream",
          "name": "stderr",
          "text": [
            "INFO:__main__:  Batch   730  of  3,511.    Elapsed: 0:02:26.    Loss: 0.029347676783800125.\n"
          ]
        },
        {
          "output_type": "stream",
          "name": "stdout",
          "text": [
            "  Batch   740  of  3,511.    Elapsed: 0:02:28.    Loss: 0.05046159029006958.\n"
          ]
        },
        {
          "output_type": "stream",
          "name": "stderr",
          "text": [
            "INFO:__main__:  Batch   740  of  3,511.    Elapsed: 0:02:28.    Loss: 0.05046159029006958.\n"
          ]
        },
        {
          "output_type": "stream",
          "name": "stdout",
          "text": [
            "  Batch   750  of  3,511.    Elapsed: 0:02:30.    Loss: 0.0018635839223861694.\n"
          ]
        },
        {
          "output_type": "stream",
          "name": "stderr",
          "text": [
            "INFO:__main__:  Batch   750  of  3,511.    Elapsed: 0:02:30.    Loss: 0.0018635839223861694.\n"
          ]
        },
        {
          "output_type": "stream",
          "name": "stdout",
          "text": [
            "  Batch   760  of  3,511.    Elapsed: 0:02:32.    Loss: 0.05261796712875366.\n"
          ]
        },
        {
          "output_type": "stream",
          "name": "stderr",
          "text": [
            "INFO:__main__:  Batch   760  of  3,511.    Elapsed: 0:02:32.    Loss: 0.05261796712875366.\n"
          ]
        },
        {
          "output_type": "stream",
          "name": "stdout",
          "text": [
            "  Batch   770  of  3,511.    Elapsed: 0:02:34.    Loss: 0.005448749288916588.\n"
          ]
        },
        {
          "output_type": "stream",
          "name": "stderr",
          "text": [
            "INFO:__main__:  Batch   770  of  3,511.    Elapsed: 0:02:34.    Loss: 0.005448749288916588.\n"
          ]
        },
        {
          "output_type": "stream",
          "name": "stdout",
          "text": [
            "  Batch   780  of  3,511.    Elapsed: 0:02:36.    Loss: 0.07048948109149933.\n"
          ]
        },
        {
          "output_type": "stream",
          "name": "stderr",
          "text": [
            "INFO:__main__:  Batch   780  of  3,511.    Elapsed: 0:02:36.    Loss: 0.07048948109149933.\n"
          ]
        },
        {
          "output_type": "stream",
          "name": "stdout",
          "text": [
            "  Batch   790  of  3,511.    Elapsed: 0:02:38.    Loss: 0.011505180969834328.\n"
          ]
        },
        {
          "output_type": "stream",
          "name": "stderr",
          "text": [
            "INFO:__main__:  Batch   790  of  3,511.    Elapsed: 0:02:38.    Loss: 0.011505180969834328.\n"
          ]
        },
        {
          "output_type": "stream",
          "name": "stdout",
          "text": [
            "  Batch   800  of  3,511.    Elapsed: 0:02:40.    Loss: 0.01402499619871378.\n"
          ]
        },
        {
          "output_type": "stream",
          "name": "stderr",
          "text": [
            "INFO:__main__:  Batch   800  of  3,511.    Elapsed: 0:02:40.    Loss: 0.01402499619871378.\n"
          ]
        },
        {
          "output_type": "stream",
          "name": "stdout",
          "text": [
            "  Batch   810  of  3,511.    Elapsed: 0:02:42.    Loss: 0.0020725494250655174.\n"
          ]
        },
        {
          "output_type": "stream",
          "name": "stderr",
          "text": [
            "INFO:__main__:  Batch   810  of  3,511.    Elapsed: 0:02:42.    Loss: 0.0020725494250655174.\n"
          ]
        },
        {
          "output_type": "stream",
          "name": "stdout",
          "text": [
            "  Batch   820  of  3,511.    Elapsed: 0:02:44.    Loss: 0.003228564979508519.\n"
          ]
        },
        {
          "output_type": "stream",
          "name": "stderr",
          "text": [
            "INFO:__main__:  Batch   820  of  3,511.    Elapsed: 0:02:44.    Loss: 0.003228564979508519.\n"
          ]
        },
        {
          "output_type": "stream",
          "name": "stdout",
          "text": [
            "  Batch   830  of  3,511.    Elapsed: 0:02:46.    Loss: 0.02582581155002117.\n"
          ]
        },
        {
          "output_type": "stream",
          "name": "stderr",
          "text": [
            "INFO:__main__:  Batch   830  of  3,511.    Elapsed: 0:02:46.    Loss: 0.02582581155002117.\n"
          ]
        },
        {
          "output_type": "stream",
          "name": "stdout",
          "text": [
            "  Batch   840  of  3,511.    Elapsed: 0:02:48.    Loss: 0.006419044453650713.\n"
          ]
        },
        {
          "output_type": "stream",
          "name": "stderr",
          "text": [
            "INFO:__main__:  Batch   840  of  3,511.    Elapsed: 0:02:48.    Loss: 0.006419044453650713.\n"
          ]
        },
        {
          "output_type": "stream",
          "name": "stdout",
          "text": [
            "  Batch   850  of  3,511.    Elapsed: 0:02:50.    Loss: 0.1005885899066925.\n"
          ]
        },
        {
          "output_type": "stream",
          "name": "stderr",
          "text": [
            "INFO:__main__:  Batch   850  of  3,511.    Elapsed: 0:02:50.    Loss: 0.1005885899066925.\n"
          ]
        },
        {
          "output_type": "stream",
          "name": "stdout",
          "text": [
            "  Batch   860  of  3,511.    Elapsed: 0:02:52.    Loss: 0.0035040865186601877.\n"
          ]
        },
        {
          "output_type": "stream",
          "name": "stderr",
          "text": [
            "INFO:__main__:  Batch   860  of  3,511.    Elapsed: 0:02:52.    Loss: 0.0035040865186601877.\n"
          ]
        },
        {
          "output_type": "stream",
          "name": "stdout",
          "text": [
            "  Batch   870  of  3,511.    Elapsed: 0:02:54.    Loss: 0.05676328018307686.\n"
          ]
        },
        {
          "output_type": "stream",
          "name": "stderr",
          "text": [
            "INFO:__main__:  Batch   870  of  3,511.    Elapsed: 0:02:54.    Loss: 0.05676328018307686.\n"
          ]
        },
        {
          "output_type": "stream",
          "name": "stdout",
          "text": [
            "  Batch   880  of  3,511.    Elapsed: 0:02:56.    Loss: 0.011110770516097546.\n"
          ]
        },
        {
          "output_type": "stream",
          "name": "stderr",
          "text": [
            "INFO:__main__:  Batch   880  of  3,511.    Elapsed: 0:02:56.    Loss: 0.011110770516097546.\n"
          ]
        },
        {
          "output_type": "stream",
          "name": "stdout",
          "text": [
            "  Batch   890  of  3,511.    Elapsed: 0:02:58.    Loss: 0.023605041205883026.\n"
          ]
        },
        {
          "output_type": "stream",
          "name": "stderr",
          "text": [
            "INFO:__main__:  Batch   890  of  3,511.    Elapsed: 0:02:58.    Loss: 0.023605041205883026.\n"
          ]
        },
        {
          "output_type": "stream",
          "name": "stdout",
          "text": [
            "  Batch   900  of  3,511.    Elapsed: 0:03:00.    Loss: 0.38953617215156555.\n"
          ]
        },
        {
          "output_type": "stream",
          "name": "stderr",
          "text": [
            "INFO:__main__:  Batch   900  of  3,511.    Elapsed: 0:03:00.    Loss: 0.38953617215156555.\n"
          ]
        },
        {
          "output_type": "stream",
          "name": "stdout",
          "text": [
            "  Batch   910  of  3,511.    Elapsed: 0:03:02.    Loss: 0.162223219871521.\n"
          ]
        },
        {
          "output_type": "stream",
          "name": "stderr",
          "text": [
            "INFO:__main__:  Batch   910  of  3,511.    Elapsed: 0:03:02.    Loss: 0.162223219871521.\n"
          ]
        },
        {
          "output_type": "stream",
          "name": "stdout",
          "text": [
            "  Batch   920  of  3,511.    Elapsed: 0:03:04.    Loss: 0.36382949352264404.\n"
          ]
        },
        {
          "output_type": "stream",
          "name": "stderr",
          "text": [
            "INFO:__main__:  Batch   920  of  3,511.    Elapsed: 0:03:04.    Loss: 0.36382949352264404.\n"
          ]
        },
        {
          "output_type": "stream",
          "name": "stdout",
          "text": [
            "  Batch   930  of  3,511.    Elapsed: 0:03:06.    Loss: 0.005613065790385008.\n"
          ]
        },
        {
          "output_type": "stream",
          "name": "stderr",
          "text": [
            "INFO:__main__:  Batch   930  of  3,511.    Elapsed: 0:03:06.    Loss: 0.005613065790385008.\n"
          ]
        },
        {
          "output_type": "stream",
          "name": "stdout",
          "text": [
            "  Batch   940  of  3,511.    Elapsed: 0:03:08.    Loss: 0.08037586510181427.\n"
          ]
        },
        {
          "output_type": "stream",
          "name": "stderr",
          "text": [
            "INFO:__main__:  Batch   940  of  3,511.    Elapsed: 0:03:08.    Loss: 0.08037586510181427.\n"
          ]
        },
        {
          "output_type": "stream",
          "name": "stdout",
          "text": [
            "  Batch   950  of  3,511.    Elapsed: 0:03:10.    Loss: 0.008954748511314392.\n"
          ]
        },
        {
          "output_type": "stream",
          "name": "stderr",
          "text": [
            "INFO:__main__:  Batch   950  of  3,511.    Elapsed: 0:03:10.    Loss: 0.008954748511314392.\n"
          ]
        },
        {
          "output_type": "stream",
          "name": "stdout",
          "text": [
            "  Batch   960  of  3,511.    Elapsed: 0:03:12.    Loss: 0.23285305500030518.\n"
          ]
        },
        {
          "output_type": "stream",
          "name": "stderr",
          "text": [
            "INFO:__main__:  Batch   960  of  3,511.    Elapsed: 0:03:12.    Loss: 0.23285305500030518.\n"
          ]
        },
        {
          "output_type": "stream",
          "name": "stdout",
          "text": [
            "  Batch   970  of  3,511.    Elapsed: 0:03:14.    Loss: 0.007737790234386921.\n"
          ]
        },
        {
          "output_type": "stream",
          "name": "stderr",
          "text": [
            "INFO:__main__:  Batch   970  of  3,511.    Elapsed: 0:03:14.    Loss: 0.007737790234386921.\n"
          ]
        },
        {
          "output_type": "stream",
          "name": "stdout",
          "text": [
            "  Batch   980  of  3,511.    Elapsed: 0:03:16.    Loss: 0.4048520624637604.\n"
          ]
        },
        {
          "output_type": "stream",
          "name": "stderr",
          "text": [
            "INFO:__main__:  Batch   980  of  3,511.    Elapsed: 0:03:16.    Loss: 0.4048520624637604.\n"
          ]
        },
        {
          "output_type": "stream",
          "name": "stdout",
          "text": [
            "  Batch   990  of  3,511.    Elapsed: 0:03:18.    Loss: 0.1426420360803604.\n"
          ]
        },
        {
          "output_type": "stream",
          "name": "stderr",
          "text": [
            "INFO:__main__:  Batch   990  of  3,511.    Elapsed: 0:03:18.    Loss: 0.1426420360803604.\n"
          ]
        },
        {
          "output_type": "stream",
          "name": "stdout",
          "text": [
            "  Batch 1,000  of  3,511.    Elapsed: 0:03:20.    Loss: 0.0036626565270125866.\n"
          ]
        },
        {
          "output_type": "stream",
          "name": "stderr",
          "text": [
            "INFO:__main__:  Batch 1,000  of  3,511.    Elapsed: 0:03:20.    Loss: 0.0036626565270125866.\n"
          ]
        },
        {
          "output_type": "stream",
          "name": "stdout",
          "text": [
            "  Batch 1,010  of  3,511.    Elapsed: 0:03:22.    Loss: 0.06676875799894333.\n"
          ]
        },
        {
          "output_type": "stream",
          "name": "stderr",
          "text": [
            "INFO:__main__:  Batch 1,010  of  3,511.    Elapsed: 0:03:22.    Loss: 0.06676875799894333.\n"
          ]
        },
        {
          "output_type": "stream",
          "name": "stdout",
          "text": [
            "  Batch 1,020  of  3,511.    Elapsed: 0:03:24.    Loss: 0.1407952904701233.\n"
          ]
        },
        {
          "output_type": "stream",
          "name": "stderr",
          "text": [
            "INFO:__main__:  Batch 1,020  of  3,511.    Elapsed: 0:03:24.    Loss: 0.1407952904701233.\n"
          ]
        },
        {
          "output_type": "stream",
          "name": "stdout",
          "text": [
            "  Batch 1,030  of  3,511.    Elapsed: 0:03:27.    Loss: 0.15947207808494568.\n"
          ]
        },
        {
          "output_type": "stream",
          "name": "stderr",
          "text": [
            "INFO:__main__:  Batch 1,030  of  3,511.    Elapsed: 0:03:27.    Loss: 0.15947207808494568.\n"
          ]
        },
        {
          "output_type": "stream",
          "name": "stdout",
          "text": [
            "  Batch 1,040  of  3,511.    Elapsed: 0:03:29.    Loss: 0.060453273355960846.\n"
          ]
        },
        {
          "output_type": "stream",
          "name": "stderr",
          "text": [
            "INFO:__main__:  Batch 1,040  of  3,511.    Elapsed: 0:03:29.    Loss: 0.060453273355960846.\n"
          ]
        },
        {
          "output_type": "stream",
          "name": "stdout",
          "text": [
            "  Batch 1,050  of  3,511.    Elapsed: 0:03:31.    Loss: 0.009764449670910835.\n"
          ]
        },
        {
          "output_type": "stream",
          "name": "stderr",
          "text": [
            "INFO:__main__:  Batch 1,050  of  3,511.    Elapsed: 0:03:31.    Loss: 0.009764449670910835.\n"
          ]
        },
        {
          "output_type": "stream",
          "name": "stdout",
          "text": [
            "  Batch 1,060  of  3,511.    Elapsed: 0:03:33.    Loss: 0.17115719616413116.\n"
          ]
        },
        {
          "output_type": "stream",
          "name": "stderr",
          "text": [
            "INFO:__main__:  Batch 1,060  of  3,511.    Elapsed: 0:03:33.    Loss: 0.17115719616413116.\n"
          ]
        },
        {
          "output_type": "stream",
          "name": "stdout",
          "text": [
            "  Batch 1,070  of  3,511.    Elapsed: 0:03:35.    Loss: 0.005514279007911682.\n"
          ]
        },
        {
          "output_type": "stream",
          "name": "stderr",
          "text": [
            "INFO:__main__:  Batch 1,070  of  3,511.    Elapsed: 0:03:35.    Loss: 0.005514279007911682.\n"
          ]
        },
        {
          "output_type": "stream",
          "name": "stdout",
          "text": [
            "  Batch 1,080  of  3,511.    Elapsed: 0:03:37.    Loss: 0.003422901500016451.\n"
          ]
        },
        {
          "output_type": "stream",
          "name": "stderr",
          "text": [
            "INFO:__main__:  Batch 1,080  of  3,511.    Elapsed: 0:03:37.    Loss: 0.003422901500016451.\n"
          ]
        },
        {
          "output_type": "stream",
          "name": "stdout",
          "text": [
            "  Batch 1,090  of  3,511.    Elapsed: 0:03:39.    Loss: 0.020052354782819748.\n"
          ]
        },
        {
          "output_type": "stream",
          "name": "stderr",
          "text": [
            "INFO:__main__:  Batch 1,090  of  3,511.    Elapsed: 0:03:39.    Loss: 0.020052354782819748.\n"
          ]
        },
        {
          "output_type": "stream",
          "name": "stdout",
          "text": [
            "  Batch 1,100  of  3,511.    Elapsed: 0:03:41.    Loss: 0.008411294780671597.\n"
          ]
        },
        {
          "output_type": "stream",
          "name": "stderr",
          "text": [
            "INFO:__main__:  Batch 1,100  of  3,511.    Elapsed: 0:03:41.    Loss: 0.008411294780671597.\n"
          ]
        },
        {
          "output_type": "stream",
          "name": "stdout",
          "text": [
            "  Batch 1,110  of  3,511.    Elapsed: 0:03:43.    Loss: 0.002305454807356.\n"
          ]
        },
        {
          "output_type": "stream",
          "name": "stderr",
          "text": [
            "INFO:__main__:  Batch 1,110  of  3,511.    Elapsed: 0:03:43.    Loss: 0.002305454807356.\n"
          ]
        },
        {
          "output_type": "stream",
          "name": "stdout",
          "text": [
            "  Batch 1,120  of  3,511.    Elapsed: 0:03:45.    Loss: 0.0745462104678154.\n"
          ]
        },
        {
          "output_type": "stream",
          "name": "stderr",
          "text": [
            "INFO:__main__:  Batch 1,120  of  3,511.    Elapsed: 0:03:45.    Loss: 0.0745462104678154.\n"
          ]
        },
        {
          "output_type": "stream",
          "name": "stdout",
          "text": [
            "  Batch 1,130  of  3,511.    Elapsed: 0:03:47.    Loss: 0.00670242914929986.\n"
          ]
        },
        {
          "output_type": "stream",
          "name": "stderr",
          "text": [
            "INFO:__main__:  Batch 1,130  of  3,511.    Elapsed: 0:03:47.    Loss: 0.00670242914929986.\n"
          ]
        },
        {
          "output_type": "stream",
          "name": "stdout",
          "text": [
            "  Batch 1,140  of  3,511.    Elapsed: 0:03:49.    Loss: 0.1218651607632637.\n"
          ]
        },
        {
          "output_type": "stream",
          "name": "stderr",
          "text": [
            "INFO:__main__:  Batch 1,140  of  3,511.    Elapsed: 0:03:49.    Loss: 0.1218651607632637.\n"
          ]
        },
        {
          "output_type": "stream",
          "name": "stdout",
          "text": [
            "  Batch 1,150  of  3,511.    Elapsed: 0:03:51.    Loss: 0.0075169457122683525.\n"
          ]
        },
        {
          "output_type": "stream",
          "name": "stderr",
          "text": [
            "INFO:__main__:  Batch 1,150  of  3,511.    Elapsed: 0:03:51.    Loss: 0.0075169457122683525.\n"
          ]
        },
        {
          "output_type": "stream",
          "name": "stdout",
          "text": [
            "  Batch 1,160  of  3,511.    Elapsed: 0:03:53.    Loss: 0.0033024775329977274.\n"
          ]
        },
        {
          "output_type": "stream",
          "name": "stderr",
          "text": [
            "INFO:__main__:  Batch 1,160  of  3,511.    Elapsed: 0:03:53.    Loss: 0.0033024775329977274.\n"
          ]
        },
        {
          "output_type": "stream",
          "name": "stdout",
          "text": [
            "  Batch 1,170  of  3,511.    Elapsed: 0:03:55.    Loss: 0.14227646589279175.\n"
          ]
        },
        {
          "output_type": "stream",
          "name": "stderr",
          "text": [
            "INFO:__main__:  Batch 1,170  of  3,511.    Elapsed: 0:03:55.    Loss: 0.14227646589279175.\n"
          ]
        },
        {
          "output_type": "stream",
          "name": "stdout",
          "text": [
            "  Batch 1,180  of  3,511.    Elapsed: 0:03:57.    Loss: 0.4274655878543854.\n"
          ]
        },
        {
          "output_type": "stream",
          "name": "stderr",
          "text": [
            "INFO:__main__:  Batch 1,180  of  3,511.    Elapsed: 0:03:57.    Loss: 0.4274655878543854.\n"
          ]
        },
        {
          "output_type": "stream",
          "name": "stdout",
          "text": [
            "  Batch 1,190  of  3,511.    Elapsed: 0:03:59.    Loss: 0.10496386885643005.\n"
          ]
        },
        {
          "output_type": "stream",
          "name": "stderr",
          "text": [
            "INFO:__main__:  Batch 1,190  of  3,511.    Elapsed: 0:03:59.    Loss: 0.10496386885643005.\n"
          ]
        },
        {
          "output_type": "stream",
          "name": "stdout",
          "text": [
            "  Batch 1,200  of  3,511.    Elapsed: 0:04:01.    Loss: 0.2043755203485489.\n"
          ]
        },
        {
          "output_type": "stream",
          "name": "stderr",
          "text": [
            "INFO:__main__:  Batch 1,200  of  3,511.    Elapsed: 0:04:01.    Loss: 0.2043755203485489.\n"
          ]
        },
        {
          "output_type": "stream",
          "name": "stdout",
          "text": [
            "  Batch 1,210  of  3,511.    Elapsed: 0:04:03.    Loss: 0.09054719656705856.\n"
          ]
        },
        {
          "output_type": "stream",
          "name": "stderr",
          "text": [
            "INFO:__main__:  Batch 1,210  of  3,511.    Elapsed: 0:04:03.    Loss: 0.09054719656705856.\n"
          ]
        },
        {
          "output_type": "stream",
          "name": "stdout",
          "text": [
            "  Batch 1,220  of  3,511.    Elapsed: 0:04:05.    Loss: 0.0017677246360108256.\n"
          ]
        },
        {
          "output_type": "stream",
          "name": "stderr",
          "text": [
            "INFO:__main__:  Batch 1,220  of  3,511.    Elapsed: 0:04:05.    Loss: 0.0017677246360108256.\n"
          ]
        },
        {
          "output_type": "stream",
          "name": "stdout",
          "text": [
            "  Batch 1,230  of  3,511.    Elapsed: 0:04:07.    Loss: 0.006684960797429085.\n"
          ]
        },
        {
          "output_type": "stream",
          "name": "stderr",
          "text": [
            "INFO:__main__:  Batch 1,230  of  3,511.    Elapsed: 0:04:07.    Loss: 0.006684960797429085.\n"
          ]
        },
        {
          "output_type": "stream",
          "name": "stdout",
          "text": [
            "  Batch 1,240  of  3,511.    Elapsed: 0:04:09.    Loss: 0.14675775170326233.\n"
          ]
        },
        {
          "output_type": "stream",
          "name": "stderr",
          "text": [
            "INFO:__main__:  Batch 1,240  of  3,511.    Elapsed: 0:04:09.    Loss: 0.14675775170326233.\n"
          ]
        },
        {
          "output_type": "stream",
          "name": "stdout",
          "text": [
            "  Batch 1,250  of  3,511.    Elapsed: 0:04:11.    Loss: 0.0007718796841800213.\n"
          ]
        },
        {
          "output_type": "stream",
          "name": "stderr",
          "text": [
            "INFO:__main__:  Batch 1,250  of  3,511.    Elapsed: 0:04:11.    Loss: 0.0007718796841800213.\n"
          ]
        },
        {
          "output_type": "stream",
          "name": "stdout",
          "text": [
            "  Batch 1,260  of  3,511.    Elapsed: 0:04:13.    Loss: 0.009454943239688873.\n"
          ]
        },
        {
          "output_type": "stream",
          "name": "stderr",
          "text": [
            "INFO:__main__:  Batch 1,260  of  3,511.    Elapsed: 0:04:13.    Loss: 0.009454943239688873.\n"
          ]
        },
        {
          "output_type": "stream",
          "name": "stdout",
          "text": [
            "  Batch 1,270  of  3,511.    Elapsed: 0:04:15.    Loss: 0.01960821822285652.\n"
          ]
        },
        {
          "output_type": "stream",
          "name": "stderr",
          "text": [
            "INFO:__main__:  Batch 1,270  of  3,511.    Elapsed: 0:04:15.    Loss: 0.01960821822285652.\n"
          ]
        },
        {
          "output_type": "stream",
          "name": "stdout",
          "text": [
            "  Batch 1,280  of  3,511.    Elapsed: 0:04:17.    Loss: 0.003633605083450675.\n"
          ]
        },
        {
          "output_type": "stream",
          "name": "stderr",
          "text": [
            "INFO:__main__:  Batch 1,280  of  3,511.    Elapsed: 0:04:17.    Loss: 0.003633605083450675.\n"
          ]
        },
        {
          "output_type": "stream",
          "name": "stdout",
          "text": [
            "  Batch 1,290  of  3,511.    Elapsed: 0:04:19.    Loss: 0.001384045695886016.\n"
          ]
        },
        {
          "output_type": "stream",
          "name": "stderr",
          "text": [
            "INFO:__main__:  Batch 1,290  of  3,511.    Elapsed: 0:04:19.    Loss: 0.001384045695886016.\n"
          ]
        },
        {
          "output_type": "stream",
          "name": "stdout",
          "text": [
            "  Batch 1,300  of  3,511.    Elapsed: 0:04:21.    Loss: 0.1484023630619049.\n"
          ]
        },
        {
          "output_type": "stream",
          "name": "stderr",
          "text": [
            "INFO:__main__:  Batch 1,300  of  3,511.    Elapsed: 0:04:21.    Loss: 0.1484023630619049.\n"
          ]
        },
        {
          "output_type": "stream",
          "name": "stdout",
          "text": [
            "  Batch 1,310  of  3,511.    Elapsed: 0:04:23.    Loss: 0.014622580260038376.\n"
          ]
        },
        {
          "output_type": "stream",
          "name": "stderr",
          "text": [
            "INFO:__main__:  Batch 1,310  of  3,511.    Elapsed: 0:04:23.    Loss: 0.014622580260038376.\n"
          ]
        },
        {
          "output_type": "stream",
          "name": "stdout",
          "text": [
            "  Batch 1,320  of  3,511.    Elapsed: 0:04:25.    Loss: 0.2153118997812271.\n"
          ]
        },
        {
          "output_type": "stream",
          "name": "stderr",
          "text": [
            "INFO:__main__:  Batch 1,320  of  3,511.    Elapsed: 0:04:25.    Loss: 0.2153118997812271.\n"
          ]
        },
        {
          "output_type": "stream",
          "name": "stdout",
          "text": [
            "  Batch 1,330  of  3,511.    Elapsed: 0:04:27.    Loss: 0.010424396954476833.\n"
          ]
        },
        {
          "output_type": "stream",
          "name": "stderr",
          "text": [
            "INFO:__main__:  Batch 1,330  of  3,511.    Elapsed: 0:04:27.    Loss: 0.010424396954476833.\n"
          ]
        },
        {
          "output_type": "stream",
          "name": "stdout",
          "text": [
            "  Batch 1,340  of  3,511.    Elapsed: 0:04:29.    Loss: 0.019214965403079987.\n"
          ]
        },
        {
          "output_type": "stream",
          "name": "stderr",
          "text": [
            "INFO:__main__:  Batch 1,340  of  3,511.    Elapsed: 0:04:29.    Loss: 0.019214965403079987.\n"
          ]
        },
        {
          "output_type": "stream",
          "name": "stdout",
          "text": [
            "  Batch 1,350  of  3,511.    Elapsed: 0:04:31.    Loss: 0.04250047355890274.\n"
          ]
        },
        {
          "output_type": "stream",
          "name": "stderr",
          "text": [
            "INFO:__main__:  Batch 1,350  of  3,511.    Elapsed: 0:04:31.    Loss: 0.04250047355890274.\n"
          ]
        },
        {
          "output_type": "stream",
          "name": "stdout",
          "text": [
            "  Batch 1,360  of  3,511.    Elapsed: 0:04:33.    Loss: 0.0009599771001376212.\n"
          ]
        },
        {
          "output_type": "stream",
          "name": "stderr",
          "text": [
            "INFO:__main__:  Batch 1,360  of  3,511.    Elapsed: 0:04:33.    Loss: 0.0009599771001376212.\n"
          ]
        },
        {
          "output_type": "stream",
          "name": "stdout",
          "text": [
            "  Batch 1,370  of  3,511.    Elapsed: 0:04:35.    Loss: 0.15104897320270538.\n"
          ]
        },
        {
          "output_type": "stream",
          "name": "stderr",
          "text": [
            "INFO:__main__:  Batch 1,370  of  3,511.    Elapsed: 0:04:35.    Loss: 0.15104897320270538.\n"
          ]
        },
        {
          "output_type": "stream",
          "name": "stdout",
          "text": [
            "  Batch 1,380  of  3,511.    Elapsed: 0:04:37.    Loss: 0.0029363345820456743.\n"
          ]
        },
        {
          "output_type": "stream",
          "name": "stderr",
          "text": [
            "INFO:__main__:  Batch 1,380  of  3,511.    Elapsed: 0:04:37.    Loss: 0.0029363345820456743.\n"
          ]
        },
        {
          "output_type": "stream",
          "name": "stdout",
          "text": [
            "  Batch 1,390  of  3,511.    Elapsed: 0:04:39.    Loss: 0.07153639942407608.\n"
          ]
        },
        {
          "output_type": "stream",
          "name": "stderr",
          "text": [
            "INFO:__main__:  Batch 1,390  of  3,511.    Elapsed: 0:04:39.    Loss: 0.07153639942407608.\n"
          ]
        },
        {
          "output_type": "stream",
          "name": "stdout",
          "text": [
            "  Batch 1,400  of  3,511.    Elapsed: 0:04:41.    Loss: 0.06847013533115387.\n"
          ]
        },
        {
          "output_type": "stream",
          "name": "stderr",
          "text": [
            "INFO:__main__:  Batch 1,400  of  3,511.    Elapsed: 0:04:41.    Loss: 0.06847013533115387.\n"
          ]
        },
        {
          "output_type": "stream",
          "name": "stdout",
          "text": [
            "  Batch 1,410  of  3,511.    Elapsed: 0:04:43.    Loss: 0.013663689605891705.\n"
          ]
        },
        {
          "output_type": "stream",
          "name": "stderr",
          "text": [
            "INFO:__main__:  Batch 1,410  of  3,511.    Elapsed: 0:04:43.    Loss: 0.013663689605891705.\n"
          ]
        },
        {
          "output_type": "stream",
          "name": "stdout",
          "text": [
            "  Batch 1,420  of  3,511.    Elapsed: 0:04:45.    Loss: 0.006487883627414703.\n"
          ]
        },
        {
          "output_type": "stream",
          "name": "stderr",
          "text": [
            "INFO:__main__:  Batch 1,420  of  3,511.    Elapsed: 0:04:45.    Loss: 0.006487883627414703.\n"
          ]
        },
        {
          "output_type": "stream",
          "name": "stdout",
          "text": [
            "  Batch 1,430  of  3,511.    Elapsed: 0:04:47.    Loss: 0.0035145652946084738.\n"
          ]
        },
        {
          "output_type": "stream",
          "name": "stderr",
          "text": [
            "INFO:__main__:  Batch 1,430  of  3,511.    Elapsed: 0:04:47.    Loss: 0.0035145652946084738.\n"
          ]
        },
        {
          "output_type": "stream",
          "name": "stdout",
          "text": [
            "  Batch 1,440  of  3,511.    Elapsed: 0:04:49.    Loss: 0.0020806370303034782.\n"
          ]
        },
        {
          "output_type": "stream",
          "name": "stderr",
          "text": [
            "INFO:__main__:  Batch 1,440  of  3,511.    Elapsed: 0:04:49.    Loss: 0.0020806370303034782.\n"
          ]
        },
        {
          "output_type": "stream",
          "name": "stdout",
          "text": [
            "  Batch 1,450  of  3,511.    Elapsed: 0:04:51.    Loss: 0.016170937567949295.\n"
          ]
        },
        {
          "output_type": "stream",
          "name": "stderr",
          "text": [
            "INFO:__main__:  Batch 1,450  of  3,511.    Elapsed: 0:04:51.    Loss: 0.016170937567949295.\n"
          ]
        },
        {
          "output_type": "stream",
          "name": "stdout",
          "text": [
            "  Batch 1,460  of  3,511.    Elapsed: 0:04:53.    Loss: 0.24904417991638184.\n"
          ]
        },
        {
          "output_type": "stream",
          "name": "stderr",
          "text": [
            "INFO:__main__:  Batch 1,460  of  3,511.    Elapsed: 0:04:53.    Loss: 0.24904417991638184.\n"
          ]
        },
        {
          "output_type": "stream",
          "name": "stdout",
          "text": [
            "  Batch 1,470  of  3,511.    Elapsed: 0:04:55.    Loss: 0.00990259274840355.\n"
          ]
        },
        {
          "output_type": "stream",
          "name": "stderr",
          "text": [
            "INFO:__main__:  Batch 1,470  of  3,511.    Elapsed: 0:04:55.    Loss: 0.00990259274840355.\n"
          ]
        },
        {
          "output_type": "stream",
          "name": "stdout",
          "text": [
            "  Batch 1,480  of  3,511.    Elapsed: 0:04:58.    Loss: 0.16500365734100342.\n"
          ]
        },
        {
          "output_type": "stream",
          "name": "stderr",
          "text": [
            "INFO:__main__:  Batch 1,480  of  3,511.    Elapsed: 0:04:58.    Loss: 0.16500365734100342.\n"
          ]
        },
        {
          "output_type": "stream",
          "name": "stdout",
          "text": [
            "  Batch 1,490  of  3,511.    Elapsed: 0:05:00.    Loss: 0.01368439756333828.\n"
          ]
        },
        {
          "output_type": "stream",
          "name": "stderr",
          "text": [
            "INFO:__main__:  Batch 1,490  of  3,511.    Elapsed: 0:05:00.    Loss: 0.01368439756333828.\n"
          ]
        },
        {
          "output_type": "stream",
          "name": "stdout",
          "text": [
            "  Batch 1,500  of  3,511.    Elapsed: 0:05:02.    Loss: 0.0020694236736744642.\n"
          ]
        },
        {
          "output_type": "stream",
          "name": "stderr",
          "text": [
            "INFO:__main__:  Batch 1,500  of  3,511.    Elapsed: 0:05:02.    Loss: 0.0020694236736744642.\n"
          ]
        },
        {
          "output_type": "stream",
          "name": "stdout",
          "text": [
            "  Batch 1,510  of  3,511.    Elapsed: 0:05:04.    Loss: 0.07019449025392532.\n"
          ]
        },
        {
          "output_type": "stream",
          "name": "stderr",
          "text": [
            "INFO:__main__:  Batch 1,510  of  3,511.    Elapsed: 0:05:04.    Loss: 0.07019449025392532.\n"
          ]
        },
        {
          "output_type": "stream",
          "name": "stdout",
          "text": [
            "  Batch 1,520  of  3,511.    Elapsed: 0:05:06.    Loss: 0.20286893844604492.\n"
          ]
        },
        {
          "output_type": "stream",
          "name": "stderr",
          "text": [
            "INFO:__main__:  Batch 1,520  of  3,511.    Elapsed: 0:05:06.    Loss: 0.20286893844604492.\n"
          ]
        },
        {
          "output_type": "stream",
          "name": "stdout",
          "text": [
            "  Batch 1,530  of  3,511.    Elapsed: 0:05:08.    Loss: 0.017907818779349327.\n"
          ]
        },
        {
          "output_type": "stream",
          "name": "stderr",
          "text": [
            "INFO:__main__:  Batch 1,530  of  3,511.    Elapsed: 0:05:08.    Loss: 0.017907818779349327.\n"
          ]
        },
        {
          "output_type": "stream",
          "name": "stdout",
          "text": [
            "  Batch 1,540  of  3,511.    Elapsed: 0:05:10.    Loss: 0.17876678705215454.\n"
          ]
        },
        {
          "output_type": "stream",
          "name": "stderr",
          "text": [
            "INFO:__main__:  Batch 1,540  of  3,511.    Elapsed: 0:05:10.    Loss: 0.17876678705215454.\n"
          ]
        },
        {
          "output_type": "stream",
          "name": "stdout",
          "text": [
            "  Batch 1,550  of  3,511.    Elapsed: 0:05:12.    Loss: 0.04322240501642227.\n"
          ]
        },
        {
          "output_type": "stream",
          "name": "stderr",
          "text": [
            "INFO:__main__:  Batch 1,550  of  3,511.    Elapsed: 0:05:12.    Loss: 0.04322240501642227.\n"
          ]
        },
        {
          "output_type": "stream",
          "name": "stdout",
          "text": [
            "  Batch 1,560  of  3,511.    Elapsed: 0:05:14.    Loss: 0.006219141650944948.\n"
          ]
        },
        {
          "output_type": "stream",
          "name": "stderr",
          "text": [
            "INFO:__main__:  Batch 1,560  of  3,511.    Elapsed: 0:05:14.    Loss: 0.006219141650944948.\n"
          ]
        },
        {
          "output_type": "stream",
          "name": "stdout",
          "text": [
            "  Batch 1,570  of  3,511.    Elapsed: 0:05:16.    Loss: 0.09178806096315384.\n"
          ]
        },
        {
          "output_type": "stream",
          "name": "stderr",
          "text": [
            "INFO:__main__:  Batch 1,570  of  3,511.    Elapsed: 0:05:16.    Loss: 0.09178806096315384.\n"
          ]
        },
        {
          "output_type": "stream",
          "name": "stdout",
          "text": [
            "  Batch 1,580  of  3,511.    Elapsed: 0:05:18.    Loss: 0.49405428767204285.\n"
          ]
        },
        {
          "output_type": "stream",
          "name": "stderr",
          "text": [
            "INFO:__main__:  Batch 1,580  of  3,511.    Elapsed: 0:05:18.    Loss: 0.49405428767204285.\n"
          ]
        },
        {
          "output_type": "stream",
          "name": "stdout",
          "text": [
            "  Batch 1,590  of  3,511.    Elapsed: 0:05:20.    Loss: 0.002014400437474251.\n"
          ]
        },
        {
          "output_type": "stream",
          "name": "stderr",
          "text": [
            "INFO:__main__:  Batch 1,590  of  3,511.    Elapsed: 0:05:20.    Loss: 0.002014400437474251.\n"
          ]
        },
        {
          "output_type": "stream",
          "name": "stdout",
          "text": [
            "  Batch 1,600  of  3,511.    Elapsed: 0:05:22.    Loss: 0.11115589737892151.\n"
          ]
        },
        {
          "output_type": "stream",
          "name": "stderr",
          "text": [
            "INFO:__main__:  Batch 1,600  of  3,511.    Elapsed: 0:05:22.    Loss: 0.11115589737892151.\n"
          ]
        },
        {
          "output_type": "stream",
          "name": "stdout",
          "text": [
            "  Batch 1,610  of  3,511.    Elapsed: 0:05:24.    Loss: 0.03119075670838356.\n"
          ]
        },
        {
          "output_type": "stream",
          "name": "stderr",
          "text": [
            "INFO:__main__:  Batch 1,610  of  3,511.    Elapsed: 0:05:24.    Loss: 0.03119075670838356.\n"
          ]
        },
        {
          "output_type": "stream",
          "name": "stdout",
          "text": [
            "  Batch 1,620  of  3,511.    Elapsed: 0:05:26.    Loss: 0.05337638035416603.\n"
          ]
        },
        {
          "output_type": "stream",
          "name": "stderr",
          "text": [
            "INFO:__main__:  Batch 1,620  of  3,511.    Elapsed: 0:05:26.    Loss: 0.05337638035416603.\n"
          ]
        },
        {
          "output_type": "stream",
          "name": "stdout",
          "text": [
            "  Batch 1,630  of  3,511.    Elapsed: 0:05:28.    Loss: 0.23967064917087555.\n"
          ]
        },
        {
          "output_type": "stream",
          "name": "stderr",
          "text": [
            "INFO:__main__:  Batch 1,630  of  3,511.    Elapsed: 0:05:28.    Loss: 0.23967064917087555.\n"
          ]
        },
        {
          "output_type": "stream",
          "name": "stdout",
          "text": [
            "  Batch 1,640  of  3,511.    Elapsed: 0:05:30.    Loss: 0.03159865364432335.\n"
          ]
        },
        {
          "output_type": "stream",
          "name": "stderr",
          "text": [
            "INFO:__main__:  Batch 1,640  of  3,511.    Elapsed: 0:05:30.    Loss: 0.03159865364432335.\n"
          ]
        },
        {
          "output_type": "stream",
          "name": "stdout",
          "text": [
            "  Batch 1,650  of  3,511.    Elapsed: 0:05:32.    Loss: 0.008845320902764797.\n"
          ]
        },
        {
          "output_type": "stream",
          "name": "stderr",
          "text": [
            "INFO:__main__:  Batch 1,650  of  3,511.    Elapsed: 0:05:32.    Loss: 0.008845320902764797.\n"
          ]
        },
        {
          "output_type": "stream",
          "name": "stdout",
          "text": [
            "  Batch 1,660  of  3,511.    Elapsed: 0:05:34.    Loss: 0.16391362249851227.\n"
          ]
        },
        {
          "output_type": "stream",
          "name": "stderr",
          "text": [
            "INFO:__main__:  Batch 1,660  of  3,511.    Elapsed: 0:05:34.    Loss: 0.16391362249851227.\n"
          ]
        },
        {
          "output_type": "stream",
          "name": "stdout",
          "text": [
            "  Batch 1,670  of  3,511.    Elapsed: 0:05:36.    Loss: 0.041581932455301285.\n"
          ]
        },
        {
          "output_type": "stream",
          "name": "stderr",
          "text": [
            "INFO:__main__:  Batch 1,670  of  3,511.    Elapsed: 0:05:36.    Loss: 0.041581932455301285.\n"
          ]
        },
        {
          "output_type": "stream",
          "name": "stdout",
          "text": [
            "  Batch 1,680  of  3,511.    Elapsed: 0:05:38.    Loss: 0.0019377610879018903.\n"
          ]
        },
        {
          "output_type": "stream",
          "name": "stderr",
          "text": [
            "INFO:__main__:  Batch 1,680  of  3,511.    Elapsed: 0:05:38.    Loss: 0.0019377610879018903.\n"
          ]
        },
        {
          "output_type": "stream",
          "name": "stdout",
          "text": [
            "  Batch 1,690  of  3,511.    Elapsed: 0:05:40.    Loss: 0.16001500189304352.\n"
          ]
        },
        {
          "output_type": "stream",
          "name": "stderr",
          "text": [
            "INFO:__main__:  Batch 1,690  of  3,511.    Elapsed: 0:05:40.    Loss: 0.16001500189304352.\n"
          ]
        },
        {
          "output_type": "stream",
          "name": "stdout",
          "text": [
            "  Batch 1,700  of  3,511.    Elapsed: 0:05:42.    Loss: 0.12280895560979843.\n"
          ]
        },
        {
          "output_type": "stream",
          "name": "stderr",
          "text": [
            "INFO:__main__:  Batch 1,700  of  3,511.    Elapsed: 0:05:42.    Loss: 0.12280895560979843.\n"
          ]
        },
        {
          "output_type": "stream",
          "name": "stdout",
          "text": [
            "  Batch 1,710  of  3,511.    Elapsed: 0:05:44.    Loss: 0.16698284447193146.\n"
          ]
        },
        {
          "output_type": "stream",
          "name": "stderr",
          "text": [
            "INFO:__main__:  Batch 1,710  of  3,511.    Elapsed: 0:05:44.    Loss: 0.16698284447193146.\n"
          ]
        },
        {
          "output_type": "stream",
          "name": "stdout",
          "text": [
            "  Batch 1,720  of  3,511.    Elapsed: 0:05:46.    Loss: 0.0006871182122267783.\n"
          ]
        },
        {
          "output_type": "stream",
          "name": "stderr",
          "text": [
            "INFO:__main__:  Batch 1,720  of  3,511.    Elapsed: 0:05:46.    Loss: 0.0006871182122267783.\n"
          ]
        },
        {
          "output_type": "stream",
          "name": "stdout",
          "text": [
            "  Batch 1,730  of  3,511.    Elapsed: 0:05:48.    Loss: 0.02260281704366207.\n"
          ]
        },
        {
          "output_type": "stream",
          "name": "stderr",
          "text": [
            "INFO:__main__:  Batch 1,730  of  3,511.    Elapsed: 0:05:48.    Loss: 0.02260281704366207.\n"
          ]
        },
        {
          "output_type": "stream",
          "name": "stdout",
          "text": [
            "  Batch 1,740  of  3,511.    Elapsed: 0:05:50.    Loss: 0.0304967500269413.\n"
          ]
        },
        {
          "output_type": "stream",
          "name": "stderr",
          "text": [
            "INFO:__main__:  Batch 1,740  of  3,511.    Elapsed: 0:05:50.    Loss: 0.0304967500269413.\n"
          ]
        },
        {
          "output_type": "stream",
          "name": "stdout",
          "text": [
            "  Batch 1,750  of  3,511.    Elapsed: 0:05:52.    Loss: 0.4311744272708893.\n"
          ]
        },
        {
          "output_type": "stream",
          "name": "stderr",
          "text": [
            "INFO:__main__:  Batch 1,750  of  3,511.    Elapsed: 0:05:52.    Loss: 0.4311744272708893.\n"
          ]
        },
        {
          "output_type": "stream",
          "name": "stdout",
          "text": [
            "  Batch 1,760  of  3,511.    Elapsed: 0:05:54.    Loss: 0.015624783001840115.\n"
          ]
        },
        {
          "output_type": "stream",
          "name": "stderr",
          "text": [
            "INFO:__main__:  Batch 1,760  of  3,511.    Elapsed: 0:05:54.    Loss: 0.015624783001840115.\n"
          ]
        },
        {
          "output_type": "stream",
          "name": "stdout",
          "text": [
            "  Batch 1,770  of  3,511.    Elapsed: 0:05:56.    Loss: 0.06425376981496811.\n"
          ]
        },
        {
          "output_type": "stream",
          "name": "stderr",
          "text": [
            "INFO:__main__:  Batch 1,770  of  3,511.    Elapsed: 0:05:56.    Loss: 0.06425376981496811.\n"
          ]
        },
        {
          "output_type": "stream",
          "name": "stdout",
          "text": [
            "  Batch 1,780  of  3,511.    Elapsed: 0:05:58.    Loss: 0.11039326339960098.\n"
          ]
        },
        {
          "output_type": "stream",
          "name": "stderr",
          "text": [
            "INFO:__main__:  Batch 1,780  of  3,511.    Elapsed: 0:05:58.    Loss: 0.11039326339960098.\n"
          ]
        },
        {
          "output_type": "stream",
          "name": "stdout",
          "text": [
            "  Batch 1,790  of  3,511.    Elapsed: 0:06:00.    Loss: 0.052446700632572174.\n"
          ]
        },
        {
          "output_type": "stream",
          "name": "stderr",
          "text": [
            "INFO:__main__:  Batch 1,790  of  3,511.    Elapsed: 0:06:00.    Loss: 0.052446700632572174.\n"
          ]
        },
        {
          "output_type": "stream",
          "name": "stdout",
          "text": [
            "  Batch 1,800  of  3,511.    Elapsed: 0:06:02.    Loss: 0.07156027853488922.\n"
          ]
        },
        {
          "output_type": "stream",
          "name": "stderr",
          "text": [
            "INFO:__main__:  Batch 1,800  of  3,511.    Elapsed: 0:06:02.    Loss: 0.07156027853488922.\n"
          ]
        },
        {
          "output_type": "stream",
          "name": "stdout",
          "text": [
            "  Batch 1,810  of  3,511.    Elapsed: 0:06:04.    Loss: 0.09873978793621063.\n"
          ]
        },
        {
          "output_type": "stream",
          "name": "stderr",
          "text": [
            "INFO:__main__:  Batch 1,810  of  3,511.    Elapsed: 0:06:04.    Loss: 0.09873978793621063.\n"
          ]
        },
        {
          "output_type": "stream",
          "name": "stdout",
          "text": [
            "  Batch 1,820  of  3,511.    Elapsed: 0:06:06.    Loss: 0.002946790773421526.\n"
          ]
        },
        {
          "output_type": "stream",
          "name": "stderr",
          "text": [
            "INFO:__main__:  Batch 1,820  of  3,511.    Elapsed: 0:06:06.    Loss: 0.002946790773421526.\n"
          ]
        },
        {
          "output_type": "stream",
          "name": "stdout",
          "text": [
            "  Batch 1,830  of  3,511.    Elapsed: 0:06:08.    Loss: 0.002788216108456254.\n"
          ]
        },
        {
          "output_type": "stream",
          "name": "stderr",
          "text": [
            "INFO:__main__:  Batch 1,830  of  3,511.    Elapsed: 0:06:08.    Loss: 0.002788216108456254.\n"
          ]
        },
        {
          "output_type": "stream",
          "name": "stdout",
          "text": [
            "  Batch 1,840  of  3,511.    Elapsed: 0:06:10.    Loss: 0.009503772482275963.\n"
          ]
        },
        {
          "output_type": "stream",
          "name": "stderr",
          "text": [
            "INFO:__main__:  Batch 1,840  of  3,511.    Elapsed: 0:06:10.    Loss: 0.009503772482275963.\n"
          ]
        },
        {
          "output_type": "stream",
          "name": "stdout",
          "text": [
            "  Batch 1,850  of  3,511.    Elapsed: 0:06:12.    Loss: 0.11967960745096207.\n"
          ]
        },
        {
          "output_type": "stream",
          "name": "stderr",
          "text": [
            "INFO:__main__:  Batch 1,850  of  3,511.    Elapsed: 0:06:12.    Loss: 0.11967960745096207.\n"
          ]
        },
        {
          "output_type": "stream",
          "name": "stdout",
          "text": [
            "  Batch 1,860  of  3,511.    Elapsed: 0:06:14.    Loss: 0.06447038799524307.\n"
          ]
        },
        {
          "output_type": "stream",
          "name": "stderr",
          "text": [
            "INFO:__main__:  Batch 1,860  of  3,511.    Elapsed: 0:06:14.    Loss: 0.06447038799524307.\n"
          ]
        },
        {
          "output_type": "stream",
          "name": "stdout",
          "text": [
            "  Batch 1,870  of  3,511.    Elapsed: 0:06:16.    Loss: 0.0917675644159317.\n"
          ]
        },
        {
          "output_type": "stream",
          "name": "stderr",
          "text": [
            "INFO:__main__:  Batch 1,870  of  3,511.    Elapsed: 0:06:16.    Loss: 0.0917675644159317.\n"
          ]
        },
        {
          "output_type": "stream",
          "name": "stdout",
          "text": [
            "  Batch 1,880  of  3,511.    Elapsed: 0:06:18.    Loss: 0.018296359106898308.\n"
          ]
        },
        {
          "output_type": "stream",
          "name": "stderr",
          "text": [
            "INFO:__main__:  Batch 1,880  of  3,511.    Elapsed: 0:06:18.    Loss: 0.018296359106898308.\n"
          ]
        },
        {
          "output_type": "stream",
          "name": "stdout",
          "text": [
            "  Batch 1,890  of  3,511.    Elapsed: 0:06:20.    Loss: 0.0011888828594237566.\n"
          ]
        },
        {
          "output_type": "stream",
          "name": "stderr",
          "text": [
            "INFO:__main__:  Batch 1,890  of  3,511.    Elapsed: 0:06:20.    Loss: 0.0011888828594237566.\n"
          ]
        },
        {
          "output_type": "stream",
          "name": "stdout",
          "text": [
            "  Batch 1,900  of  3,511.    Elapsed: 0:06:22.    Loss: 0.002997094765305519.\n"
          ]
        },
        {
          "output_type": "stream",
          "name": "stderr",
          "text": [
            "INFO:__main__:  Batch 1,900  of  3,511.    Elapsed: 0:06:22.    Loss: 0.002997094765305519.\n"
          ]
        },
        {
          "output_type": "stream",
          "name": "stdout",
          "text": [
            "  Batch 1,910  of  3,511.    Elapsed: 0:06:24.    Loss: 0.00126680638641119.\n"
          ]
        },
        {
          "output_type": "stream",
          "name": "stderr",
          "text": [
            "INFO:__main__:  Batch 1,910  of  3,511.    Elapsed: 0:06:24.    Loss: 0.00126680638641119.\n"
          ]
        },
        {
          "output_type": "stream",
          "name": "stdout",
          "text": [
            "  Batch 1,920  of  3,511.    Elapsed: 0:06:26.    Loss: 0.001470837160013616.\n"
          ]
        },
        {
          "output_type": "stream",
          "name": "stderr",
          "text": [
            "INFO:__main__:  Batch 1,920  of  3,511.    Elapsed: 0:06:26.    Loss: 0.001470837160013616.\n"
          ]
        },
        {
          "output_type": "stream",
          "name": "stdout",
          "text": [
            "  Batch 1,930  of  3,511.    Elapsed: 0:06:28.    Loss: 0.0017100642435252666.\n"
          ]
        },
        {
          "output_type": "stream",
          "name": "stderr",
          "text": [
            "INFO:__main__:  Batch 1,930  of  3,511.    Elapsed: 0:06:28.    Loss: 0.0017100642435252666.\n"
          ]
        },
        {
          "output_type": "stream",
          "name": "stdout",
          "text": [
            "  Batch 1,940  of  3,511.    Elapsed: 0:06:30.    Loss: 0.011366937309503555.\n"
          ]
        },
        {
          "output_type": "stream",
          "name": "stderr",
          "text": [
            "INFO:__main__:  Batch 1,940  of  3,511.    Elapsed: 0:06:30.    Loss: 0.011366937309503555.\n"
          ]
        },
        {
          "output_type": "stream",
          "name": "stdout",
          "text": [
            "  Batch 1,950  of  3,511.    Elapsed: 0:06:32.    Loss: 0.04736766219139099.\n"
          ]
        },
        {
          "output_type": "stream",
          "name": "stderr",
          "text": [
            "INFO:__main__:  Batch 1,950  of  3,511.    Elapsed: 0:06:32.    Loss: 0.04736766219139099.\n"
          ]
        },
        {
          "output_type": "stream",
          "name": "stdout",
          "text": [
            "  Batch 1,960  of  3,511.    Elapsed: 0:06:34.    Loss: 0.08116048574447632.\n"
          ]
        },
        {
          "output_type": "stream",
          "name": "stderr",
          "text": [
            "INFO:__main__:  Batch 1,960  of  3,511.    Elapsed: 0:06:34.    Loss: 0.08116048574447632.\n"
          ]
        },
        {
          "output_type": "stream",
          "name": "stdout",
          "text": [
            "  Batch 1,970  of  3,511.    Elapsed: 0:06:36.    Loss: 0.14443138241767883.\n"
          ]
        },
        {
          "output_type": "stream",
          "name": "stderr",
          "text": [
            "INFO:__main__:  Batch 1,970  of  3,511.    Elapsed: 0:06:36.    Loss: 0.14443138241767883.\n"
          ]
        },
        {
          "output_type": "stream",
          "name": "stdout",
          "text": [
            "  Batch 1,980  of  3,511.    Elapsed: 0:06:39.    Loss: 0.01843666099011898.\n"
          ]
        },
        {
          "output_type": "stream",
          "name": "stderr",
          "text": [
            "INFO:__main__:  Batch 1,980  of  3,511.    Elapsed: 0:06:39.    Loss: 0.01843666099011898.\n"
          ]
        },
        {
          "output_type": "stream",
          "name": "stdout",
          "text": [
            "  Batch 1,990  of  3,511.    Elapsed: 0:06:41.    Loss: 0.046019624918699265.\n"
          ]
        },
        {
          "output_type": "stream",
          "name": "stderr",
          "text": [
            "INFO:__main__:  Batch 1,990  of  3,511.    Elapsed: 0:06:41.    Loss: 0.046019624918699265.\n"
          ]
        },
        {
          "output_type": "stream",
          "name": "stdout",
          "text": [
            "  Batch 2,000  of  3,511.    Elapsed: 0:06:43.    Loss: 0.0009895458351820707.\n"
          ]
        },
        {
          "output_type": "stream",
          "name": "stderr",
          "text": [
            "INFO:__main__:  Batch 2,000  of  3,511.    Elapsed: 0:06:43.    Loss: 0.0009895458351820707.\n"
          ]
        },
        {
          "output_type": "stream",
          "name": "stdout",
          "text": [
            "  Batch 2,010  of  3,511.    Elapsed: 0:06:45.    Loss: 0.2711479961872101.\n"
          ]
        },
        {
          "output_type": "stream",
          "name": "stderr",
          "text": [
            "INFO:__main__:  Batch 2,010  of  3,511.    Elapsed: 0:06:45.    Loss: 0.2711479961872101.\n"
          ]
        },
        {
          "output_type": "stream",
          "name": "stdout",
          "text": [
            "  Batch 2,020  of  3,511.    Elapsed: 0:06:47.    Loss: 0.015654658898711205.\n"
          ]
        },
        {
          "output_type": "stream",
          "name": "stderr",
          "text": [
            "INFO:__main__:  Batch 2,020  of  3,511.    Elapsed: 0:06:47.    Loss: 0.015654658898711205.\n"
          ]
        },
        {
          "output_type": "stream",
          "name": "stdout",
          "text": [
            "  Batch 2,030  of  3,511.    Elapsed: 0:06:49.    Loss: 0.3903971314430237.\n"
          ]
        },
        {
          "output_type": "stream",
          "name": "stderr",
          "text": [
            "INFO:__main__:  Batch 2,030  of  3,511.    Elapsed: 0:06:49.    Loss: 0.3903971314430237.\n"
          ]
        },
        {
          "output_type": "stream",
          "name": "stdout",
          "text": [
            "  Batch 2,040  of  3,511.    Elapsed: 0:06:51.    Loss: 0.0028488365933299065.\n"
          ]
        },
        {
          "output_type": "stream",
          "name": "stderr",
          "text": [
            "INFO:__main__:  Batch 2,040  of  3,511.    Elapsed: 0:06:51.    Loss: 0.0028488365933299065.\n"
          ]
        },
        {
          "output_type": "stream",
          "name": "stdout",
          "text": [
            "  Batch 2,050  of  3,511.    Elapsed: 0:06:53.    Loss: 0.29278647899627686.\n"
          ]
        },
        {
          "output_type": "stream",
          "name": "stderr",
          "text": [
            "INFO:__main__:  Batch 2,050  of  3,511.    Elapsed: 0:06:53.    Loss: 0.29278647899627686.\n"
          ]
        },
        {
          "output_type": "stream",
          "name": "stdout",
          "text": [
            "  Batch 2,060  of  3,511.    Elapsed: 0:06:55.    Loss: 0.3058425188064575.\n"
          ]
        },
        {
          "output_type": "stream",
          "name": "stderr",
          "text": [
            "INFO:__main__:  Batch 2,060  of  3,511.    Elapsed: 0:06:55.    Loss: 0.3058425188064575.\n"
          ]
        },
        {
          "output_type": "stream",
          "name": "stdout",
          "text": [
            "  Batch 2,070  of  3,511.    Elapsed: 0:06:57.    Loss: 0.010895016603171825.\n"
          ]
        },
        {
          "output_type": "stream",
          "name": "stderr",
          "text": [
            "INFO:__main__:  Batch 2,070  of  3,511.    Elapsed: 0:06:57.    Loss: 0.010895016603171825.\n"
          ]
        },
        {
          "output_type": "stream",
          "name": "stdout",
          "text": [
            "  Batch 2,080  of  3,511.    Elapsed: 0:06:59.    Loss: 0.0008499835385009646.\n"
          ]
        },
        {
          "output_type": "stream",
          "name": "stderr",
          "text": [
            "INFO:__main__:  Batch 2,080  of  3,511.    Elapsed: 0:06:59.    Loss: 0.0008499835385009646.\n"
          ]
        },
        {
          "output_type": "stream",
          "name": "stdout",
          "text": [
            "  Batch 2,090  of  3,511.    Elapsed: 0:07:01.    Loss: 0.013375634327530861.\n"
          ]
        },
        {
          "output_type": "stream",
          "name": "stderr",
          "text": [
            "INFO:__main__:  Batch 2,090  of  3,511.    Elapsed: 0:07:01.    Loss: 0.013375634327530861.\n"
          ]
        },
        {
          "output_type": "stream",
          "name": "stdout",
          "text": [
            "  Batch 2,100  of  3,511.    Elapsed: 0:07:03.    Loss: 0.007073374465107918.\n"
          ]
        },
        {
          "output_type": "stream",
          "name": "stderr",
          "text": [
            "INFO:__main__:  Batch 2,100  of  3,511.    Elapsed: 0:07:03.    Loss: 0.007073374465107918.\n"
          ]
        },
        {
          "output_type": "stream",
          "name": "stdout",
          "text": [
            "  Batch 2,110  of  3,511.    Elapsed: 0:07:05.    Loss: 0.06513278931379318.\n"
          ]
        },
        {
          "output_type": "stream",
          "name": "stderr",
          "text": [
            "INFO:__main__:  Batch 2,110  of  3,511.    Elapsed: 0:07:05.    Loss: 0.06513278931379318.\n"
          ]
        },
        {
          "output_type": "stream",
          "name": "stdout",
          "text": [
            "  Batch 2,120  of  3,511.    Elapsed: 0:07:07.    Loss: 0.0062570953741669655.\n"
          ]
        },
        {
          "output_type": "stream",
          "name": "stderr",
          "text": [
            "INFO:__main__:  Batch 2,120  of  3,511.    Elapsed: 0:07:07.    Loss: 0.0062570953741669655.\n"
          ]
        },
        {
          "output_type": "stream",
          "name": "stdout",
          "text": [
            "  Batch 2,130  of  3,511.    Elapsed: 0:07:09.    Loss: 0.02112773433327675.\n"
          ]
        },
        {
          "output_type": "stream",
          "name": "stderr",
          "text": [
            "INFO:__main__:  Batch 2,130  of  3,511.    Elapsed: 0:07:09.    Loss: 0.02112773433327675.\n"
          ]
        },
        {
          "output_type": "stream",
          "name": "stdout",
          "text": [
            "  Batch 2,140  of  3,511.    Elapsed: 0:07:11.    Loss: 0.65620356798172.\n"
          ]
        },
        {
          "output_type": "stream",
          "name": "stderr",
          "text": [
            "INFO:__main__:  Batch 2,140  of  3,511.    Elapsed: 0:07:11.    Loss: 0.65620356798172.\n"
          ]
        },
        {
          "output_type": "stream",
          "name": "stdout",
          "text": [
            "  Batch 2,150  of  3,511.    Elapsed: 0:07:13.    Loss: 0.0022873810958117247.\n"
          ]
        },
        {
          "output_type": "stream",
          "name": "stderr",
          "text": [
            "INFO:__main__:  Batch 2,150  of  3,511.    Elapsed: 0:07:13.    Loss: 0.0022873810958117247.\n"
          ]
        },
        {
          "output_type": "stream",
          "name": "stdout",
          "text": [
            "  Batch 2,160  of  3,511.    Elapsed: 0:07:15.    Loss: 0.002543074544519186.\n"
          ]
        },
        {
          "output_type": "stream",
          "name": "stderr",
          "text": [
            "INFO:__main__:  Batch 2,160  of  3,511.    Elapsed: 0:07:15.    Loss: 0.002543074544519186.\n"
          ]
        },
        {
          "output_type": "stream",
          "name": "stdout",
          "text": [
            "  Batch 2,170  of  3,511.    Elapsed: 0:07:17.    Loss: 0.1506359577178955.\n"
          ]
        },
        {
          "output_type": "stream",
          "name": "stderr",
          "text": [
            "INFO:__main__:  Batch 2,170  of  3,511.    Elapsed: 0:07:17.    Loss: 0.1506359577178955.\n"
          ]
        },
        {
          "output_type": "stream",
          "name": "stdout",
          "text": [
            "  Batch 2,180  of  3,511.    Elapsed: 0:07:19.    Loss: 0.08230693638324738.\n"
          ]
        },
        {
          "output_type": "stream",
          "name": "stderr",
          "text": [
            "INFO:__main__:  Batch 2,180  of  3,511.    Elapsed: 0:07:19.    Loss: 0.08230693638324738.\n"
          ]
        },
        {
          "output_type": "stream",
          "name": "stdout",
          "text": [
            "  Batch 2,190  of  3,511.    Elapsed: 0:07:21.    Loss: 0.010869587771594524.\n"
          ]
        },
        {
          "output_type": "stream",
          "name": "stderr",
          "text": [
            "INFO:__main__:  Batch 2,190  of  3,511.    Elapsed: 0:07:21.    Loss: 0.010869587771594524.\n"
          ]
        },
        {
          "output_type": "stream",
          "name": "stdout",
          "text": [
            "  Batch 2,200  of  3,511.    Elapsed: 0:07:23.    Loss: 0.0012931203236803412.\n"
          ]
        },
        {
          "output_type": "stream",
          "name": "stderr",
          "text": [
            "INFO:__main__:  Batch 2,200  of  3,511.    Elapsed: 0:07:23.    Loss: 0.0012931203236803412.\n"
          ]
        },
        {
          "output_type": "stream",
          "name": "stdout",
          "text": [
            "  Batch 2,210  of  3,511.    Elapsed: 0:07:25.    Loss: 0.0029067115392535925.\n"
          ]
        },
        {
          "output_type": "stream",
          "name": "stderr",
          "text": [
            "INFO:__main__:  Batch 2,210  of  3,511.    Elapsed: 0:07:25.    Loss: 0.0029067115392535925.\n"
          ]
        },
        {
          "output_type": "stream",
          "name": "stdout",
          "text": [
            "  Batch 2,220  of  3,511.    Elapsed: 0:07:27.    Loss: 0.0026358666364103556.\n"
          ]
        },
        {
          "output_type": "stream",
          "name": "stderr",
          "text": [
            "INFO:__main__:  Batch 2,220  of  3,511.    Elapsed: 0:07:27.    Loss: 0.0026358666364103556.\n"
          ]
        },
        {
          "output_type": "stream",
          "name": "stdout",
          "text": [
            "  Batch 2,230  of  3,511.    Elapsed: 0:07:29.    Loss: 0.1166590079665184.\n"
          ]
        },
        {
          "output_type": "stream",
          "name": "stderr",
          "text": [
            "INFO:__main__:  Batch 2,230  of  3,511.    Elapsed: 0:07:29.    Loss: 0.1166590079665184.\n"
          ]
        },
        {
          "output_type": "stream",
          "name": "stdout",
          "text": [
            "  Batch 2,240  of  3,511.    Elapsed: 0:07:31.    Loss: 0.007111766841262579.\n"
          ]
        },
        {
          "output_type": "stream",
          "name": "stderr",
          "text": [
            "INFO:__main__:  Batch 2,240  of  3,511.    Elapsed: 0:07:31.    Loss: 0.007111766841262579.\n"
          ]
        },
        {
          "output_type": "stream",
          "name": "stdout",
          "text": [
            "  Batch 2,250  of  3,511.    Elapsed: 0:07:33.    Loss: 0.01067402120679617.\n"
          ]
        },
        {
          "output_type": "stream",
          "name": "stderr",
          "text": [
            "INFO:__main__:  Batch 2,250  of  3,511.    Elapsed: 0:07:33.    Loss: 0.01067402120679617.\n"
          ]
        },
        {
          "output_type": "stream",
          "name": "stdout",
          "text": [
            "  Batch 2,260  of  3,511.    Elapsed: 0:07:35.    Loss: 0.006140320096164942.\n"
          ]
        },
        {
          "output_type": "stream",
          "name": "stderr",
          "text": [
            "INFO:__main__:  Batch 2,260  of  3,511.    Elapsed: 0:07:35.    Loss: 0.006140320096164942.\n"
          ]
        },
        {
          "output_type": "stream",
          "name": "stdout",
          "text": [
            "  Batch 2,270  of  3,511.    Elapsed: 0:07:37.    Loss: 0.07245441526174545.\n"
          ]
        },
        {
          "output_type": "stream",
          "name": "stderr",
          "text": [
            "INFO:__main__:  Batch 2,270  of  3,511.    Elapsed: 0:07:37.    Loss: 0.07245441526174545.\n"
          ]
        },
        {
          "output_type": "stream",
          "name": "stdout",
          "text": [
            "  Batch 2,280  of  3,511.    Elapsed: 0:07:39.    Loss: 0.0007633147179149091.\n"
          ]
        },
        {
          "output_type": "stream",
          "name": "stderr",
          "text": [
            "INFO:__main__:  Batch 2,280  of  3,511.    Elapsed: 0:07:39.    Loss: 0.0007633147179149091.\n"
          ]
        },
        {
          "output_type": "stream",
          "name": "stdout",
          "text": [
            "  Batch 2,290  of  3,511.    Elapsed: 0:07:41.    Loss: 0.002630910836160183.\n"
          ]
        },
        {
          "output_type": "stream",
          "name": "stderr",
          "text": [
            "INFO:__main__:  Batch 2,290  of  3,511.    Elapsed: 0:07:41.    Loss: 0.002630910836160183.\n"
          ]
        },
        {
          "output_type": "stream",
          "name": "stdout",
          "text": [
            "  Batch 2,300  of  3,511.    Elapsed: 0:07:43.    Loss: 0.08339059352874756.\n"
          ]
        },
        {
          "output_type": "stream",
          "name": "stderr",
          "text": [
            "INFO:__main__:  Batch 2,300  of  3,511.    Elapsed: 0:07:43.    Loss: 0.08339059352874756.\n"
          ]
        },
        {
          "output_type": "stream",
          "name": "stdout",
          "text": [
            "  Batch 2,310  of  3,511.    Elapsed: 0:07:45.    Loss: 0.009614714421331882.\n"
          ]
        },
        {
          "output_type": "stream",
          "name": "stderr",
          "text": [
            "INFO:__main__:  Batch 2,310  of  3,511.    Elapsed: 0:07:45.    Loss: 0.009614714421331882.\n"
          ]
        },
        {
          "output_type": "stream",
          "name": "stdout",
          "text": [
            "  Batch 2,320  of  3,511.    Elapsed: 0:07:47.    Loss: 0.0026821247301995754.\n"
          ]
        },
        {
          "output_type": "stream",
          "name": "stderr",
          "text": [
            "INFO:__main__:  Batch 2,320  of  3,511.    Elapsed: 0:07:47.    Loss: 0.0026821247301995754.\n"
          ]
        },
        {
          "output_type": "stream",
          "name": "stdout",
          "text": [
            "  Batch 2,330  of  3,511.    Elapsed: 0:07:49.    Loss: 0.000922642822843045.\n"
          ]
        },
        {
          "output_type": "stream",
          "name": "stderr",
          "text": [
            "INFO:__main__:  Batch 2,330  of  3,511.    Elapsed: 0:07:49.    Loss: 0.000922642822843045.\n"
          ]
        },
        {
          "output_type": "stream",
          "name": "stdout",
          "text": [
            "  Batch 2,340  of  3,511.    Elapsed: 0:07:51.    Loss: 0.42751967906951904.\n"
          ]
        },
        {
          "output_type": "stream",
          "name": "stderr",
          "text": [
            "INFO:__main__:  Batch 2,340  of  3,511.    Elapsed: 0:07:51.    Loss: 0.42751967906951904.\n"
          ]
        },
        {
          "output_type": "stream",
          "name": "stdout",
          "text": [
            "  Batch 2,350  of  3,511.    Elapsed: 0:07:53.    Loss: 0.0019152802415192127.\n"
          ]
        },
        {
          "output_type": "stream",
          "name": "stderr",
          "text": [
            "INFO:__main__:  Batch 2,350  of  3,511.    Elapsed: 0:07:53.    Loss: 0.0019152802415192127.\n"
          ]
        },
        {
          "output_type": "stream",
          "name": "stdout",
          "text": [
            "  Batch 2,360  of  3,511.    Elapsed: 0:07:55.    Loss: 0.0010276727844029665.\n"
          ]
        },
        {
          "output_type": "stream",
          "name": "stderr",
          "text": [
            "INFO:__main__:  Batch 2,360  of  3,511.    Elapsed: 0:07:55.    Loss: 0.0010276727844029665.\n"
          ]
        },
        {
          "output_type": "stream",
          "name": "stdout",
          "text": [
            "  Batch 2,370  of  3,511.    Elapsed: 0:07:57.    Loss: 0.03579854220151901.\n"
          ]
        },
        {
          "output_type": "stream",
          "name": "stderr",
          "text": [
            "INFO:__main__:  Batch 2,370  of  3,511.    Elapsed: 0:07:57.    Loss: 0.03579854220151901.\n"
          ]
        },
        {
          "output_type": "stream",
          "name": "stdout",
          "text": [
            "  Batch 2,380  of  3,511.    Elapsed: 0:07:59.    Loss: 0.000891086005140096.\n"
          ]
        },
        {
          "output_type": "stream",
          "name": "stderr",
          "text": [
            "INFO:__main__:  Batch 2,380  of  3,511.    Elapsed: 0:07:59.    Loss: 0.000891086005140096.\n"
          ]
        },
        {
          "output_type": "stream",
          "name": "stdout",
          "text": [
            "  Batch 2,390  of  3,511.    Elapsed: 0:08:01.    Loss: 0.21459807455539703.\n"
          ]
        },
        {
          "output_type": "stream",
          "name": "stderr",
          "text": [
            "INFO:__main__:  Batch 2,390  of  3,511.    Elapsed: 0:08:01.    Loss: 0.21459807455539703.\n"
          ]
        },
        {
          "output_type": "stream",
          "name": "stdout",
          "text": [
            "  Batch 2,400  of  3,511.    Elapsed: 0:08:03.    Loss: 0.10570412129163742.\n"
          ]
        },
        {
          "output_type": "stream",
          "name": "stderr",
          "text": [
            "INFO:__main__:  Batch 2,400  of  3,511.    Elapsed: 0:08:03.    Loss: 0.10570412129163742.\n"
          ]
        },
        {
          "output_type": "stream",
          "name": "stdout",
          "text": [
            "  Batch 2,410  of  3,511.    Elapsed: 0:08:05.    Loss: 0.01064054761081934.\n"
          ]
        },
        {
          "output_type": "stream",
          "name": "stderr",
          "text": [
            "INFO:__main__:  Batch 2,410  of  3,511.    Elapsed: 0:08:05.    Loss: 0.01064054761081934.\n"
          ]
        },
        {
          "output_type": "stream",
          "name": "stdout",
          "text": [
            "  Batch 2,420  of  3,511.    Elapsed: 0:08:07.    Loss: 0.002133796224370599.\n"
          ]
        },
        {
          "output_type": "stream",
          "name": "stderr",
          "text": [
            "INFO:__main__:  Batch 2,420  of  3,511.    Elapsed: 0:08:07.    Loss: 0.002133796224370599.\n"
          ]
        },
        {
          "output_type": "stream",
          "name": "stdout",
          "text": [
            "  Batch 2,430  of  3,511.    Elapsed: 0:08:09.    Loss: 0.004071757197380066.\n"
          ]
        },
        {
          "output_type": "stream",
          "name": "stderr",
          "text": [
            "INFO:__main__:  Batch 2,430  of  3,511.    Elapsed: 0:08:09.    Loss: 0.004071757197380066.\n"
          ]
        },
        {
          "output_type": "stream",
          "name": "stdout",
          "text": [
            "  Batch 2,440  of  3,511.    Elapsed: 0:08:11.    Loss: 0.008140264078974724.\n"
          ]
        },
        {
          "output_type": "stream",
          "name": "stderr",
          "text": [
            "INFO:__main__:  Batch 2,440  of  3,511.    Elapsed: 0:08:11.    Loss: 0.008140264078974724.\n"
          ]
        },
        {
          "output_type": "stream",
          "name": "stdout",
          "text": [
            "  Batch 2,450  of  3,511.    Elapsed: 0:08:14.    Loss: 0.0009828737238422036.\n"
          ]
        },
        {
          "output_type": "stream",
          "name": "stderr",
          "text": [
            "INFO:__main__:  Batch 2,450  of  3,511.    Elapsed: 0:08:14.    Loss: 0.0009828737238422036.\n"
          ]
        },
        {
          "output_type": "stream",
          "name": "stdout",
          "text": [
            "  Batch 2,460  of  3,511.    Elapsed: 0:08:16.    Loss: 0.07706992328166962.\n"
          ]
        },
        {
          "output_type": "stream",
          "name": "stderr",
          "text": [
            "INFO:__main__:  Batch 2,460  of  3,511.    Elapsed: 0:08:16.    Loss: 0.07706992328166962.\n"
          ]
        },
        {
          "output_type": "stream",
          "name": "stdout",
          "text": [
            "  Batch 2,470  of  3,511.    Elapsed: 0:08:18.    Loss: 0.0011311196722090244.\n"
          ]
        },
        {
          "output_type": "stream",
          "name": "stderr",
          "text": [
            "INFO:__main__:  Batch 2,470  of  3,511.    Elapsed: 0:08:18.    Loss: 0.0011311196722090244.\n"
          ]
        },
        {
          "output_type": "stream",
          "name": "stdout",
          "text": [
            "  Batch 2,480  of  3,511.    Elapsed: 0:08:20.    Loss: 0.31192082166671753.\n"
          ]
        },
        {
          "output_type": "stream",
          "name": "stderr",
          "text": [
            "INFO:__main__:  Batch 2,480  of  3,511.    Elapsed: 0:08:20.    Loss: 0.31192082166671753.\n"
          ]
        },
        {
          "output_type": "stream",
          "name": "stdout",
          "text": [
            "  Batch 2,490  of  3,511.    Elapsed: 0:08:22.    Loss: 0.0007920891512185335.\n"
          ]
        },
        {
          "output_type": "stream",
          "name": "stderr",
          "text": [
            "INFO:__main__:  Batch 2,490  of  3,511.    Elapsed: 0:08:22.    Loss: 0.0007920891512185335.\n"
          ]
        },
        {
          "output_type": "stream",
          "name": "stdout",
          "text": [
            "  Batch 2,500  of  3,511.    Elapsed: 0:08:24.    Loss: 0.003418609732761979.\n"
          ]
        },
        {
          "output_type": "stream",
          "name": "stderr",
          "text": [
            "INFO:__main__:  Batch 2,500  of  3,511.    Elapsed: 0:08:24.    Loss: 0.003418609732761979.\n"
          ]
        },
        {
          "output_type": "stream",
          "name": "stdout",
          "text": [
            "  Batch 2,510  of  3,511.    Elapsed: 0:08:26.    Loss: 0.028880812227725983.\n"
          ]
        },
        {
          "output_type": "stream",
          "name": "stderr",
          "text": [
            "INFO:__main__:  Batch 2,510  of  3,511.    Elapsed: 0:08:26.    Loss: 0.028880812227725983.\n"
          ]
        },
        {
          "output_type": "stream",
          "name": "stdout",
          "text": [
            "  Batch 2,520  of  3,511.    Elapsed: 0:08:28.    Loss: 0.010470114648342133.\n"
          ]
        },
        {
          "output_type": "stream",
          "name": "stderr",
          "text": [
            "INFO:__main__:  Batch 2,520  of  3,511.    Elapsed: 0:08:28.    Loss: 0.010470114648342133.\n"
          ]
        },
        {
          "output_type": "stream",
          "name": "stdout",
          "text": [
            "  Batch 2,530  of  3,511.    Elapsed: 0:08:30.    Loss: 0.0053149256855249405.\n"
          ]
        },
        {
          "output_type": "stream",
          "name": "stderr",
          "text": [
            "INFO:__main__:  Batch 2,530  of  3,511.    Elapsed: 0:08:30.    Loss: 0.0053149256855249405.\n"
          ]
        },
        {
          "output_type": "stream",
          "name": "stdout",
          "text": [
            "  Batch 2,540  of  3,511.    Elapsed: 0:08:32.    Loss: 0.0008125829044729471.\n"
          ]
        },
        {
          "output_type": "stream",
          "name": "stderr",
          "text": [
            "INFO:__main__:  Batch 2,540  of  3,511.    Elapsed: 0:08:32.    Loss: 0.0008125829044729471.\n"
          ]
        },
        {
          "output_type": "stream",
          "name": "stdout",
          "text": [
            "  Batch 2,550  of  3,511.    Elapsed: 0:08:34.    Loss: 0.1060604527592659.\n"
          ]
        },
        {
          "output_type": "stream",
          "name": "stderr",
          "text": [
            "INFO:__main__:  Batch 2,550  of  3,511.    Elapsed: 0:08:34.    Loss: 0.1060604527592659.\n"
          ]
        },
        {
          "output_type": "stream",
          "name": "stdout",
          "text": [
            "  Batch 2,560  of  3,511.    Elapsed: 0:08:36.    Loss: 0.007421157322824001.\n"
          ]
        },
        {
          "output_type": "stream",
          "name": "stderr",
          "text": [
            "INFO:__main__:  Batch 2,560  of  3,511.    Elapsed: 0:08:36.    Loss: 0.007421157322824001.\n"
          ]
        },
        {
          "output_type": "stream",
          "name": "stdout",
          "text": [
            "  Batch 2,570  of  3,511.    Elapsed: 0:08:38.    Loss: 0.003899193136021495.\n"
          ]
        },
        {
          "output_type": "stream",
          "name": "stderr",
          "text": [
            "INFO:__main__:  Batch 2,570  of  3,511.    Elapsed: 0:08:38.    Loss: 0.003899193136021495.\n"
          ]
        },
        {
          "output_type": "stream",
          "name": "stdout",
          "text": [
            "  Batch 2,580  of  3,511.    Elapsed: 0:08:40.    Loss: 0.03458888828754425.\n"
          ]
        },
        {
          "output_type": "stream",
          "name": "stderr",
          "text": [
            "INFO:__main__:  Batch 2,580  of  3,511.    Elapsed: 0:08:40.    Loss: 0.03458888828754425.\n"
          ]
        },
        {
          "output_type": "stream",
          "name": "stdout",
          "text": [
            "  Batch 2,590  of  3,511.    Elapsed: 0:08:42.    Loss: 0.10569116473197937.\n"
          ]
        },
        {
          "output_type": "stream",
          "name": "stderr",
          "text": [
            "INFO:__main__:  Batch 2,590  of  3,511.    Elapsed: 0:08:42.    Loss: 0.10569116473197937.\n"
          ]
        },
        {
          "output_type": "stream",
          "name": "stdout",
          "text": [
            "  Batch 2,600  of  3,511.    Elapsed: 0:08:44.    Loss: 0.6393467783927917.\n"
          ]
        },
        {
          "output_type": "stream",
          "name": "stderr",
          "text": [
            "INFO:__main__:  Batch 2,600  of  3,511.    Elapsed: 0:08:44.    Loss: 0.6393467783927917.\n"
          ]
        },
        {
          "output_type": "stream",
          "name": "stdout",
          "text": [
            "  Batch 2,610  of  3,511.    Elapsed: 0:08:46.    Loss: 0.13657917082309723.\n"
          ]
        },
        {
          "output_type": "stream",
          "name": "stderr",
          "text": [
            "INFO:__main__:  Batch 2,610  of  3,511.    Elapsed: 0:08:46.    Loss: 0.13657917082309723.\n"
          ]
        },
        {
          "output_type": "stream",
          "name": "stdout",
          "text": [
            "  Batch 2,620  of  3,511.    Elapsed: 0:08:48.    Loss: 0.0340149812400341.\n"
          ]
        },
        {
          "output_type": "stream",
          "name": "stderr",
          "text": [
            "INFO:__main__:  Batch 2,620  of  3,511.    Elapsed: 0:08:48.    Loss: 0.0340149812400341.\n"
          ]
        },
        {
          "output_type": "stream",
          "name": "stdout",
          "text": [
            "  Batch 2,630  of  3,511.    Elapsed: 0:08:50.    Loss: 0.014191250316798687.\n"
          ]
        },
        {
          "output_type": "stream",
          "name": "stderr",
          "text": [
            "INFO:__main__:  Batch 2,630  of  3,511.    Elapsed: 0:08:50.    Loss: 0.014191250316798687.\n"
          ]
        },
        {
          "output_type": "stream",
          "name": "stdout",
          "text": [
            "  Batch 2,640  of  3,511.    Elapsed: 0:08:52.    Loss: 0.0040389541536569595.\n"
          ]
        },
        {
          "output_type": "stream",
          "name": "stderr",
          "text": [
            "INFO:__main__:  Batch 2,640  of  3,511.    Elapsed: 0:08:52.    Loss: 0.0040389541536569595.\n"
          ]
        },
        {
          "output_type": "stream",
          "name": "stdout",
          "text": [
            "  Batch 2,650  of  3,511.    Elapsed: 0:08:54.    Loss: 0.25964081287384033.\n"
          ]
        },
        {
          "output_type": "stream",
          "name": "stderr",
          "text": [
            "INFO:__main__:  Batch 2,650  of  3,511.    Elapsed: 0:08:54.    Loss: 0.25964081287384033.\n"
          ]
        },
        {
          "output_type": "stream",
          "name": "stdout",
          "text": [
            "  Batch 2,660  of  3,511.    Elapsed: 0:08:56.    Loss: 0.011901771649718285.\n"
          ]
        },
        {
          "output_type": "stream",
          "name": "stderr",
          "text": [
            "INFO:__main__:  Batch 2,660  of  3,511.    Elapsed: 0:08:56.    Loss: 0.011901771649718285.\n"
          ]
        },
        {
          "output_type": "stream",
          "name": "stdout",
          "text": [
            "  Batch 2,670  of  3,511.    Elapsed: 0:08:58.    Loss: 0.25410789251327515.\n"
          ]
        },
        {
          "output_type": "stream",
          "name": "stderr",
          "text": [
            "INFO:__main__:  Batch 2,670  of  3,511.    Elapsed: 0:08:58.    Loss: 0.25410789251327515.\n"
          ]
        },
        {
          "output_type": "stream",
          "name": "stdout",
          "text": [
            "  Batch 2,680  of  3,511.    Elapsed: 0:09:00.    Loss: 0.10710716247558594.\n"
          ]
        },
        {
          "output_type": "stream",
          "name": "stderr",
          "text": [
            "INFO:__main__:  Batch 2,680  of  3,511.    Elapsed: 0:09:00.    Loss: 0.10710716247558594.\n"
          ]
        },
        {
          "output_type": "stream",
          "name": "stdout",
          "text": [
            "  Batch 2,690  of  3,511.    Elapsed: 0:09:02.    Loss: 0.10762135684490204.\n"
          ]
        },
        {
          "output_type": "stream",
          "name": "stderr",
          "text": [
            "INFO:__main__:  Batch 2,690  of  3,511.    Elapsed: 0:09:02.    Loss: 0.10762135684490204.\n"
          ]
        },
        {
          "output_type": "stream",
          "name": "stdout",
          "text": [
            "  Batch 2,700  of  3,511.    Elapsed: 0:09:04.    Loss: 0.005032761953771114.\n"
          ]
        },
        {
          "output_type": "stream",
          "name": "stderr",
          "text": [
            "INFO:__main__:  Batch 2,700  of  3,511.    Elapsed: 0:09:04.    Loss: 0.005032761953771114.\n"
          ]
        },
        {
          "output_type": "stream",
          "name": "stdout",
          "text": [
            "  Batch 2,710  of  3,511.    Elapsed: 0:09:06.    Loss: 0.015292435884475708.\n"
          ]
        },
        {
          "output_type": "stream",
          "name": "stderr",
          "text": [
            "INFO:__main__:  Batch 2,710  of  3,511.    Elapsed: 0:09:06.    Loss: 0.015292435884475708.\n"
          ]
        },
        {
          "output_type": "stream",
          "name": "stdout",
          "text": [
            "  Batch 2,720  of  3,511.    Elapsed: 0:09:08.    Loss: 0.040391065180301666.\n"
          ]
        },
        {
          "output_type": "stream",
          "name": "stderr",
          "text": [
            "INFO:__main__:  Batch 2,720  of  3,511.    Elapsed: 0:09:08.    Loss: 0.040391065180301666.\n"
          ]
        },
        {
          "output_type": "stream",
          "name": "stdout",
          "text": [
            "  Batch 2,730  of  3,511.    Elapsed: 0:09:10.    Loss: 0.14964208006858826.\n"
          ]
        },
        {
          "output_type": "stream",
          "name": "stderr",
          "text": [
            "INFO:__main__:  Batch 2,730  of  3,511.    Elapsed: 0:09:10.    Loss: 0.14964208006858826.\n"
          ]
        },
        {
          "output_type": "stream",
          "name": "stdout",
          "text": [
            "  Batch 2,740  of  3,511.    Elapsed: 0:09:12.    Loss: 0.0012219093041494489.\n"
          ]
        },
        {
          "output_type": "stream",
          "name": "stderr",
          "text": [
            "INFO:__main__:  Batch 2,740  of  3,511.    Elapsed: 0:09:12.    Loss: 0.0012219093041494489.\n"
          ]
        },
        {
          "output_type": "stream",
          "name": "stdout",
          "text": [
            "  Batch 2,750  of  3,511.    Elapsed: 0:09:14.    Loss: 0.0011091686319559813.\n"
          ]
        },
        {
          "output_type": "stream",
          "name": "stderr",
          "text": [
            "INFO:__main__:  Batch 2,750  of  3,511.    Elapsed: 0:09:14.    Loss: 0.0011091686319559813.\n"
          ]
        },
        {
          "output_type": "stream",
          "name": "stdout",
          "text": [
            "  Batch 2,760  of  3,511.    Elapsed: 0:09:16.    Loss: 0.0024373438209295273.\n"
          ]
        },
        {
          "output_type": "stream",
          "name": "stderr",
          "text": [
            "INFO:__main__:  Batch 2,760  of  3,511.    Elapsed: 0:09:16.    Loss: 0.0024373438209295273.\n"
          ]
        },
        {
          "output_type": "stream",
          "name": "stdout",
          "text": [
            "  Batch 2,770  of  3,511.    Elapsed: 0:09:18.    Loss: 0.596392035484314.\n"
          ]
        },
        {
          "output_type": "stream",
          "name": "stderr",
          "text": [
            "INFO:__main__:  Batch 2,770  of  3,511.    Elapsed: 0:09:18.    Loss: 0.596392035484314.\n"
          ]
        },
        {
          "output_type": "stream",
          "name": "stdout",
          "text": [
            "  Batch 2,780  of  3,511.    Elapsed: 0:09:20.    Loss: 0.008075003512203693.\n"
          ]
        },
        {
          "output_type": "stream",
          "name": "stderr",
          "text": [
            "INFO:__main__:  Batch 2,780  of  3,511.    Elapsed: 0:09:20.    Loss: 0.008075003512203693.\n"
          ]
        },
        {
          "output_type": "stream",
          "name": "stdout",
          "text": [
            "  Batch 2,790  of  3,511.    Elapsed: 0:09:22.    Loss: 0.05626533180475235.\n"
          ]
        },
        {
          "output_type": "stream",
          "name": "stderr",
          "text": [
            "INFO:__main__:  Batch 2,790  of  3,511.    Elapsed: 0:09:22.    Loss: 0.05626533180475235.\n"
          ]
        },
        {
          "output_type": "stream",
          "name": "stdout",
          "text": [
            "  Batch 2,800  of  3,511.    Elapsed: 0:09:24.    Loss: 0.02031298726797104.\n"
          ]
        },
        {
          "output_type": "stream",
          "name": "stderr",
          "text": [
            "INFO:__main__:  Batch 2,800  of  3,511.    Elapsed: 0:09:24.    Loss: 0.02031298726797104.\n"
          ]
        },
        {
          "output_type": "stream",
          "name": "stdout",
          "text": [
            "  Batch 2,810  of  3,511.    Elapsed: 0:09:26.    Loss: 0.043681927025318146.\n"
          ]
        },
        {
          "output_type": "stream",
          "name": "stderr",
          "text": [
            "INFO:__main__:  Batch 2,810  of  3,511.    Elapsed: 0:09:26.    Loss: 0.043681927025318146.\n"
          ]
        },
        {
          "output_type": "stream",
          "name": "stdout",
          "text": [
            "  Batch 2,820  of  3,511.    Elapsed: 0:09:28.    Loss: 0.7768053412437439.\n"
          ]
        },
        {
          "output_type": "stream",
          "name": "stderr",
          "text": [
            "INFO:__main__:  Batch 2,820  of  3,511.    Elapsed: 0:09:28.    Loss: 0.7768053412437439.\n"
          ]
        },
        {
          "output_type": "stream",
          "name": "stdout",
          "text": [
            "  Batch 2,830  of  3,511.    Elapsed: 0:09:30.    Loss: 0.002421396318823099.\n"
          ]
        },
        {
          "output_type": "stream",
          "name": "stderr",
          "text": [
            "INFO:__main__:  Batch 2,830  of  3,511.    Elapsed: 0:09:30.    Loss: 0.002421396318823099.\n"
          ]
        },
        {
          "output_type": "stream",
          "name": "stdout",
          "text": [
            "  Batch 2,840  of  3,511.    Elapsed: 0:09:32.    Loss: 0.26396557688713074.\n"
          ]
        },
        {
          "output_type": "stream",
          "name": "stderr",
          "text": [
            "INFO:__main__:  Batch 2,840  of  3,511.    Elapsed: 0:09:32.    Loss: 0.26396557688713074.\n"
          ]
        },
        {
          "output_type": "stream",
          "name": "stdout",
          "text": [
            "  Batch 2,850  of  3,511.    Elapsed: 0:09:34.    Loss: 0.204570010304451.\n"
          ]
        },
        {
          "output_type": "stream",
          "name": "stderr",
          "text": [
            "INFO:__main__:  Batch 2,850  of  3,511.    Elapsed: 0:09:34.    Loss: 0.204570010304451.\n"
          ]
        },
        {
          "output_type": "stream",
          "name": "stdout",
          "text": [
            "  Batch 2,860  of  3,511.    Elapsed: 0:09:36.    Loss: 0.11809167265892029.\n"
          ]
        },
        {
          "output_type": "stream",
          "name": "stderr",
          "text": [
            "INFO:__main__:  Batch 2,860  of  3,511.    Elapsed: 0:09:36.    Loss: 0.11809167265892029.\n"
          ]
        },
        {
          "output_type": "stream",
          "name": "stdout",
          "text": [
            "  Batch 2,870  of  3,511.    Elapsed: 0:09:38.    Loss: 0.014562364667654037.\n"
          ]
        },
        {
          "output_type": "stream",
          "name": "stderr",
          "text": [
            "INFO:__main__:  Batch 2,870  of  3,511.    Elapsed: 0:09:38.    Loss: 0.014562364667654037.\n"
          ]
        },
        {
          "output_type": "stream",
          "name": "stdout",
          "text": [
            "  Batch 2,880  of  3,511.    Elapsed: 0:09:41.    Loss: 0.29696425795555115.\n"
          ]
        },
        {
          "output_type": "stream",
          "name": "stderr",
          "text": [
            "INFO:__main__:  Batch 2,880  of  3,511.    Elapsed: 0:09:41.    Loss: 0.29696425795555115.\n"
          ]
        },
        {
          "output_type": "stream",
          "name": "stdout",
          "text": [
            "  Batch 2,890  of  3,511.    Elapsed: 0:09:43.    Loss: 0.039950717240571976.\n"
          ]
        },
        {
          "output_type": "stream",
          "name": "stderr",
          "text": [
            "INFO:__main__:  Batch 2,890  of  3,511.    Elapsed: 0:09:43.    Loss: 0.039950717240571976.\n"
          ]
        },
        {
          "output_type": "stream",
          "name": "stdout",
          "text": [
            "  Batch 2,900  of  3,511.    Elapsed: 0:09:45.    Loss: 0.01910148374736309.\n"
          ]
        },
        {
          "output_type": "stream",
          "name": "stderr",
          "text": [
            "INFO:__main__:  Batch 2,900  of  3,511.    Elapsed: 0:09:45.    Loss: 0.01910148374736309.\n"
          ]
        },
        {
          "output_type": "stream",
          "name": "stdout",
          "text": [
            "  Batch 2,910  of  3,511.    Elapsed: 0:09:47.    Loss: 0.007643087767064571.\n"
          ]
        },
        {
          "output_type": "stream",
          "name": "stderr",
          "text": [
            "INFO:__main__:  Batch 2,910  of  3,511.    Elapsed: 0:09:47.    Loss: 0.007643087767064571.\n"
          ]
        },
        {
          "output_type": "stream",
          "name": "stdout",
          "text": [
            "  Batch 2,920  of  3,511.    Elapsed: 0:09:49.    Loss: 0.009611207991838455.\n"
          ]
        },
        {
          "output_type": "stream",
          "name": "stderr",
          "text": [
            "INFO:__main__:  Batch 2,920  of  3,511.    Elapsed: 0:09:49.    Loss: 0.009611207991838455.\n"
          ]
        },
        {
          "output_type": "stream",
          "name": "stdout",
          "text": [
            "  Batch 2,930  of  3,511.    Elapsed: 0:09:51.    Loss: 0.009881311096251011.\n"
          ]
        },
        {
          "output_type": "stream",
          "name": "stderr",
          "text": [
            "INFO:__main__:  Batch 2,930  of  3,511.    Elapsed: 0:09:51.    Loss: 0.009881311096251011.\n"
          ]
        },
        {
          "output_type": "stream",
          "name": "stdout",
          "text": [
            "  Batch 2,940  of  3,511.    Elapsed: 0:09:53.    Loss: 0.10330847650766373.\n"
          ]
        },
        {
          "output_type": "stream",
          "name": "stderr",
          "text": [
            "INFO:__main__:  Batch 2,940  of  3,511.    Elapsed: 0:09:53.    Loss: 0.10330847650766373.\n"
          ]
        },
        {
          "output_type": "stream",
          "name": "stdout",
          "text": [
            "  Batch 2,950  of  3,511.    Elapsed: 0:09:55.    Loss: 0.012107963673770428.\n"
          ]
        },
        {
          "output_type": "stream",
          "name": "stderr",
          "text": [
            "INFO:__main__:  Batch 2,950  of  3,511.    Elapsed: 0:09:55.    Loss: 0.012107963673770428.\n"
          ]
        },
        {
          "output_type": "stream",
          "name": "stdout",
          "text": [
            "  Batch 2,960  of  3,511.    Elapsed: 0:09:57.    Loss: 0.07409972697496414.\n"
          ]
        },
        {
          "output_type": "stream",
          "name": "stderr",
          "text": [
            "INFO:__main__:  Batch 2,960  of  3,511.    Elapsed: 0:09:57.    Loss: 0.07409972697496414.\n"
          ]
        },
        {
          "output_type": "stream",
          "name": "stdout",
          "text": [
            "  Batch 2,970  of  3,511.    Elapsed: 0:09:59.    Loss: 0.0034280726686120033.\n"
          ]
        },
        {
          "output_type": "stream",
          "name": "stderr",
          "text": [
            "INFO:__main__:  Batch 2,970  of  3,511.    Elapsed: 0:09:59.    Loss: 0.0034280726686120033.\n"
          ]
        },
        {
          "output_type": "stream",
          "name": "stdout",
          "text": [
            "  Batch 2,980  of  3,511.    Elapsed: 0:10:01.    Loss: 0.07574869692325592.\n"
          ]
        },
        {
          "output_type": "stream",
          "name": "stderr",
          "text": [
            "INFO:__main__:  Batch 2,980  of  3,511.    Elapsed: 0:10:01.    Loss: 0.07574869692325592.\n"
          ]
        },
        {
          "output_type": "stream",
          "name": "stdout",
          "text": [
            "  Batch 2,990  of  3,511.    Elapsed: 0:10:03.    Loss: 0.0019790276419371367.\n"
          ]
        },
        {
          "output_type": "stream",
          "name": "stderr",
          "text": [
            "INFO:__main__:  Batch 2,990  of  3,511.    Elapsed: 0:10:03.    Loss: 0.0019790276419371367.\n"
          ]
        },
        {
          "output_type": "stream",
          "name": "stdout",
          "text": [
            "  Batch 3,000  of  3,511.    Elapsed: 0:10:05.    Loss: 0.001935844891704619.\n"
          ]
        },
        {
          "output_type": "stream",
          "name": "stderr",
          "text": [
            "INFO:__main__:  Batch 3,000  of  3,511.    Elapsed: 0:10:05.    Loss: 0.001935844891704619.\n"
          ]
        },
        {
          "output_type": "stream",
          "name": "stdout",
          "text": [
            "  Batch 3,010  of  3,511.    Elapsed: 0:10:07.    Loss: 0.002657803473994136.\n"
          ]
        },
        {
          "output_type": "stream",
          "name": "stderr",
          "text": [
            "INFO:__main__:  Batch 3,010  of  3,511.    Elapsed: 0:10:07.    Loss: 0.002657803473994136.\n"
          ]
        },
        {
          "output_type": "stream",
          "name": "stdout",
          "text": [
            "  Batch 3,020  of  3,511.    Elapsed: 0:10:09.    Loss: 0.0022155095357447863.\n"
          ]
        },
        {
          "output_type": "stream",
          "name": "stderr",
          "text": [
            "INFO:__main__:  Batch 3,020  of  3,511.    Elapsed: 0:10:09.    Loss: 0.0022155095357447863.\n"
          ]
        },
        {
          "output_type": "stream",
          "name": "stdout",
          "text": [
            "  Batch 3,030  of  3,511.    Elapsed: 0:10:11.    Loss: 0.027403488755226135.\n"
          ]
        },
        {
          "output_type": "stream",
          "name": "stderr",
          "text": [
            "INFO:__main__:  Batch 3,030  of  3,511.    Elapsed: 0:10:11.    Loss: 0.027403488755226135.\n"
          ]
        },
        {
          "output_type": "stream",
          "name": "stdout",
          "text": [
            "  Batch 3,040  of  3,511.    Elapsed: 0:10:13.    Loss: 0.004426510073244572.\n"
          ]
        },
        {
          "output_type": "stream",
          "name": "stderr",
          "text": [
            "INFO:__main__:  Batch 3,040  of  3,511.    Elapsed: 0:10:13.    Loss: 0.004426510073244572.\n"
          ]
        },
        {
          "output_type": "stream",
          "name": "stdout",
          "text": [
            "  Batch 3,050  of  3,511.    Elapsed: 0:10:15.    Loss: 0.0005750430282205343.\n"
          ]
        },
        {
          "output_type": "stream",
          "name": "stderr",
          "text": [
            "INFO:__main__:  Batch 3,050  of  3,511.    Elapsed: 0:10:15.    Loss: 0.0005750430282205343.\n"
          ]
        },
        {
          "output_type": "stream",
          "name": "stdout",
          "text": [
            "  Batch 3,060  of  3,511.    Elapsed: 0:10:17.    Loss: 0.12510935962200165.\n"
          ]
        },
        {
          "output_type": "stream",
          "name": "stderr",
          "text": [
            "INFO:__main__:  Batch 3,060  of  3,511.    Elapsed: 0:10:17.    Loss: 0.12510935962200165.\n"
          ]
        },
        {
          "output_type": "stream",
          "name": "stdout",
          "text": [
            "  Batch 3,070  of  3,511.    Elapsed: 0:10:19.    Loss: 0.07746100425720215.\n"
          ]
        },
        {
          "output_type": "stream",
          "name": "stderr",
          "text": [
            "INFO:__main__:  Batch 3,070  of  3,511.    Elapsed: 0:10:19.    Loss: 0.07746100425720215.\n"
          ]
        },
        {
          "output_type": "stream",
          "name": "stdout",
          "text": [
            "  Batch 3,080  of  3,511.    Elapsed: 0:10:21.    Loss: 0.918493926525116.\n"
          ]
        },
        {
          "output_type": "stream",
          "name": "stderr",
          "text": [
            "INFO:__main__:  Batch 3,080  of  3,511.    Elapsed: 0:10:21.    Loss: 0.918493926525116.\n"
          ]
        },
        {
          "output_type": "stream",
          "name": "stdout",
          "text": [
            "  Batch 3,090  of  3,511.    Elapsed: 0:10:23.    Loss: 0.0017087433952838182.\n"
          ]
        },
        {
          "output_type": "stream",
          "name": "stderr",
          "text": [
            "INFO:__main__:  Batch 3,090  of  3,511.    Elapsed: 0:10:23.    Loss: 0.0017087433952838182.\n"
          ]
        },
        {
          "output_type": "stream",
          "name": "stdout",
          "text": [
            "  Batch 3,100  of  3,511.    Elapsed: 0:10:25.    Loss: 0.07781770825386047.\n"
          ]
        },
        {
          "output_type": "stream",
          "name": "stderr",
          "text": [
            "INFO:__main__:  Batch 3,100  of  3,511.    Elapsed: 0:10:25.    Loss: 0.07781770825386047.\n"
          ]
        },
        {
          "output_type": "stream",
          "name": "stdout",
          "text": [
            "  Batch 3,110  of  3,511.    Elapsed: 0:10:27.    Loss: 0.07477109879255295.\n"
          ]
        },
        {
          "output_type": "stream",
          "name": "stderr",
          "text": [
            "INFO:__main__:  Batch 3,110  of  3,511.    Elapsed: 0:10:27.    Loss: 0.07477109879255295.\n"
          ]
        },
        {
          "output_type": "stream",
          "name": "stdout",
          "text": [
            "  Batch 3,120  of  3,511.    Elapsed: 0:10:29.    Loss: 0.0018571874825283885.\n"
          ]
        },
        {
          "output_type": "stream",
          "name": "stderr",
          "text": [
            "INFO:__main__:  Batch 3,120  of  3,511.    Elapsed: 0:10:29.    Loss: 0.0018571874825283885.\n"
          ]
        },
        {
          "output_type": "stream",
          "name": "stdout",
          "text": [
            "  Batch 3,130  of  3,511.    Elapsed: 0:10:31.    Loss: 0.00391137832775712.\n"
          ]
        },
        {
          "output_type": "stream",
          "name": "stderr",
          "text": [
            "INFO:__main__:  Batch 3,130  of  3,511.    Elapsed: 0:10:31.    Loss: 0.00391137832775712.\n"
          ]
        },
        {
          "output_type": "stream",
          "name": "stdout",
          "text": [
            "  Batch 3,140  of  3,511.    Elapsed: 0:10:33.    Loss: 0.3623102903366089.\n"
          ]
        },
        {
          "output_type": "stream",
          "name": "stderr",
          "text": [
            "INFO:__main__:  Batch 3,140  of  3,511.    Elapsed: 0:10:33.    Loss: 0.3623102903366089.\n"
          ]
        },
        {
          "output_type": "stream",
          "name": "stdout",
          "text": [
            "  Batch 3,150  of  3,511.    Elapsed: 0:10:35.    Loss: 0.09272760152816772.\n"
          ]
        },
        {
          "output_type": "stream",
          "name": "stderr",
          "text": [
            "INFO:__main__:  Batch 3,150  of  3,511.    Elapsed: 0:10:35.    Loss: 0.09272760152816772.\n"
          ]
        },
        {
          "output_type": "stream",
          "name": "stdout",
          "text": [
            "  Batch 3,160  of  3,511.    Elapsed: 0:10:37.    Loss: 0.011314399540424347.\n"
          ]
        },
        {
          "output_type": "stream",
          "name": "stderr",
          "text": [
            "INFO:__main__:  Batch 3,160  of  3,511.    Elapsed: 0:10:37.    Loss: 0.011314399540424347.\n"
          ]
        },
        {
          "output_type": "stream",
          "name": "stdout",
          "text": [
            "  Batch 3,170  of  3,511.    Elapsed: 0:10:39.    Loss: 0.10824904590845108.\n"
          ]
        },
        {
          "output_type": "stream",
          "name": "stderr",
          "text": [
            "INFO:__main__:  Batch 3,170  of  3,511.    Elapsed: 0:10:39.    Loss: 0.10824904590845108.\n"
          ]
        },
        {
          "output_type": "stream",
          "name": "stdout",
          "text": [
            "  Batch 3,180  of  3,511.    Elapsed: 0:10:41.    Loss: 0.21352234482765198.\n"
          ]
        },
        {
          "output_type": "stream",
          "name": "stderr",
          "text": [
            "INFO:__main__:  Batch 3,180  of  3,511.    Elapsed: 0:10:41.    Loss: 0.21352234482765198.\n"
          ]
        },
        {
          "output_type": "stream",
          "name": "stdout",
          "text": [
            "  Batch 3,190  of  3,511.    Elapsed: 0:10:43.    Loss: 0.004826729651540518.\n"
          ]
        },
        {
          "output_type": "stream",
          "name": "stderr",
          "text": [
            "INFO:__main__:  Batch 3,190  of  3,511.    Elapsed: 0:10:43.    Loss: 0.004826729651540518.\n"
          ]
        },
        {
          "output_type": "stream",
          "name": "stdout",
          "text": [
            "  Batch 3,200  of  3,511.    Elapsed: 0:10:45.    Loss: 0.006423965562134981.\n"
          ]
        },
        {
          "output_type": "stream",
          "name": "stderr",
          "text": [
            "INFO:__main__:  Batch 3,200  of  3,511.    Elapsed: 0:10:45.    Loss: 0.006423965562134981.\n"
          ]
        },
        {
          "output_type": "stream",
          "name": "stdout",
          "text": [
            "  Batch 3,210  of  3,511.    Elapsed: 0:10:47.    Loss: 0.0011061136610805988.\n"
          ]
        },
        {
          "output_type": "stream",
          "name": "stderr",
          "text": [
            "INFO:__main__:  Batch 3,210  of  3,511.    Elapsed: 0:10:47.    Loss: 0.0011061136610805988.\n"
          ]
        },
        {
          "output_type": "stream",
          "name": "stdout",
          "text": [
            "  Batch 3,220  of  3,511.    Elapsed: 0:10:49.    Loss: 0.02626100368797779.\n"
          ]
        },
        {
          "output_type": "stream",
          "name": "stderr",
          "text": [
            "INFO:__main__:  Batch 3,220  of  3,511.    Elapsed: 0:10:49.    Loss: 0.02626100368797779.\n"
          ]
        },
        {
          "output_type": "stream",
          "name": "stdout",
          "text": [
            "  Batch 3,230  of  3,511.    Elapsed: 0:10:51.    Loss: 0.1264292448759079.\n"
          ]
        },
        {
          "output_type": "stream",
          "name": "stderr",
          "text": [
            "INFO:__main__:  Batch 3,230  of  3,511.    Elapsed: 0:10:51.    Loss: 0.1264292448759079.\n"
          ]
        },
        {
          "output_type": "stream",
          "name": "stdout",
          "text": [
            "  Batch 3,240  of  3,511.    Elapsed: 0:10:53.    Loss: 0.01986679434776306.\n"
          ]
        },
        {
          "output_type": "stream",
          "name": "stderr",
          "text": [
            "INFO:__main__:  Batch 3,240  of  3,511.    Elapsed: 0:10:53.    Loss: 0.01986679434776306.\n"
          ]
        },
        {
          "output_type": "stream",
          "name": "stdout",
          "text": [
            "  Batch 3,250  of  3,511.    Elapsed: 0:10:55.    Loss: 0.003204491687938571.\n"
          ]
        },
        {
          "output_type": "stream",
          "name": "stderr",
          "text": [
            "INFO:__main__:  Batch 3,250  of  3,511.    Elapsed: 0:10:55.    Loss: 0.003204491687938571.\n"
          ]
        },
        {
          "output_type": "stream",
          "name": "stdout",
          "text": [
            "  Batch 3,260  of  3,511.    Elapsed: 0:10:57.    Loss: 0.004490170627832413.\n"
          ]
        },
        {
          "output_type": "stream",
          "name": "stderr",
          "text": [
            "INFO:__main__:  Batch 3,260  of  3,511.    Elapsed: 0:10:57.    Loss: 0.004490170627832413.\n"
          ]
        },
        {
          "output_type": "stream",
          "name": "stdout",
          "text": [
            "  Batch 3,270  of  3,511.    Elapsed: 0:10:59.    Loss: 0.012403398752212524.\n"
          ]
        },
        {
          "output_type": "stream",
          "name": "stderr",
          "text": [
            "INFO:__main__:  Batch 3,270  of  3,511.    Elapsed: 0:10:59.    Loss: 0.012403398752212524.\n"
          ]
        },
        {
          "output_type": "stream",
          "name": "stdout",
          "text": [
            "  Batch 3,280  of  3,511.    Elapsed: 0:11:01.    Loss: 0.0032345561776310205.\n"
          ]
        },
        {
          "output_type": "stream",
          "name": "stderr",
          "text": [
            "INFO:__main__:  Batch 3,280  of  3,511.    Elapsed: 0:11:01.    Loss: 0.0032345561776310205.\n"
          ]
        },
        {
          "output_type": "stream",
          "name": "stdout",
          "text": [
            "  Batch 3,290  of  3,511.    Elapsed: 0:11:03.    Loss: 0.16168458759784698.\n"
          ]
        },
        {
          "output_type": "stream",
          "name": "stderr",
          "text": [
            "INFO:__main__:  Batch 3,290  of  3,511.    Elapsed: 0:11:03.    Loss: 0.16168458759784698.\n"
          ]
        },
        {
          "output_type": "stream",
          "name": "stdout",
          "text": [
            "  Batch 3,300  of  3,511.    Elapsed: 0:11:05.    Loss: 0.036690082401037216.\n"
          ]
        },
        {
          "output_type": "stream",
          "name": "stderr",
          "text": [
            "INFO:__main__:  Batch 3,300  of  3,511.    Elapsed: 0:11:05.    Loss: 0.036690082401037216.\n"
          ]
        },
        {
          "output_type": "stream",
          "name": "stdout",
          "text": [
            "  Batch 3,310  of  3,511.    Elapsed: 0:11:07.    Loss: 0.0030912263318896294.\n"
          ]
        },
        {
          "output_type": "stream",
          "name": "stderr",
          "text": [
            "INFO:__main__:  Batch 3,310  of  3,511.    Elapsed: 0:11:07.    Loss: 0.0030912263318896294.\n"
          ]
        },
        {
          "output_type": "stream",
          "name": "stdout",
          "text": [
            "  Batch 3,320  of  3,511.    Elapsed: 0:11:09.    Loss: 0.0016204912681132555.\n"
          ]
        },
        {
          "output_type": "stream",
          "name": "stderr",
          "text": [
            "INFO:__main__:  Batch 3,320  of  3,511.    Elapsed: 0:11:09.    Loss: 0.0016204912681132555.\n"
          ]
        },
        {
          "output_type": "stream",
          "name": "stdout",
          "text": [
            "  Batch 3,330  of  3,511.    Elapsed: 0:11:11.    Loss: 0.0005395843763835728.\n"
          ]
        },
        {
          "output_type": "stream",
          "name": "stderr",
          "text": [
            "INFO:__main__:  Batch 3,330  of  3,511.    Elapsed: 0:11:11.    Loss: 0.0005395843763835728.\n"
          ]
        },
        {
          "output_type": "stream",
          "name": "stdout",
          "text": [
            "  Batch 3,340  of  3,511.    Elapsed: 0:11:13.    Loss: 0.0611162967979908.\n"
          ]
        },
        {
          "output_type": "stream",
          "name": "stderr",
          "text": [
            "INFO:__main__:  Batch 3,340  of  3,511.    Elapsed: 0:11:13.    Loss: 0.0611162967979908.\n"
          ]
        },
        {
          "output_type": "stream",
          "name": "stdout",
          "text": [
            "  Batch 3,350  of  3,511.    Elapsed: 0:11:15.    Loss: 0.04582192003726959.\n"
          ]
        },
        {
          "output_type": "stream",
          "name": "stderr",
          "text": [
            "INFO:__main__:  Batch 3,350  of  3,511.    Elapsed: 0:11:15.    Loss: 0.04582192003726959.\n"
          ]
        },
        {
          "output_type": "stream",
          "name": "stdout",
          "text": [
            "  Batch 3,360  of  3,511.    Elapsed: 0:11:17.    Loss: 0.002743271877989173.\n"
          ]
        },
        {
          "output_type": "stream",
          "name": "stderr",
          "text": [
            "INFO:__main__:  Batch 3,360  of  3,511.    Elapsed: 0:11:17.    Loss: 0.002743271877989173.\n"
          ]
        },
        {
          "output_type": "stream",
          "name": "stdout",
          "text": [
            "  Batch 3,370  of  3,511.    Elapsed: 0:11:19.    Loss: 0.005378224886953831.\n"
          ]
        },
        {
          "output_type": "stream",
          "name": "stderr",
          "text": [
            "INFO:__main__:  Batch 3,370  of  3,511.    Elapsed: 0:11:19.    Loss: 0.005378224886953831.\n"
          ]
        },
        {
          "output_type": "stream",
          "name": "stdout",
          "text": [
            "  Batch 3,380  of  3,511.    Elapsed: 0:11:21.    Loss: 0.010866865515708923.\n"
          ]
        },
        {
          "output_type": "stream",
          "name": "stderr",
          "text": [
            "INFO:__main__:  Batch 3,380  of  3,511.    Elapsed: 0:11:21.    Loss: 0.010866865515708923.\n"
          ]
        },
        {
          "output_type": "stream",
          "name": "stdout",
          "text": [
            "  Batch 3,390  of  3,511.    Elapsed: 0:11:24.    Loss: 0.15181778371334076.\n"
          ]
        },
        {
          "output_type": "stream",
          "name": "stderr",
          "text": [
            "INFO:__main__:  Batch 3,390  of  3,511.    Elapsed: 0:11:24.    Loss: 0.15181778371334076.\n"
          ]
        },
        {
          "output_type": "stream",
          "name": "stdout",
          "text": [
            "  Batch 3,400  of  3,511.    Elapsed: 0:11:26.    Loss: 0.007967664860188961.\n"
          ]
        },
        {
          "output_type": "stream",
          "name": "stderr",
          "text": [
            "INFO:__main__:  Batch 3,400  of  3,511.    Elapsed: 0:11:26.    Loss: 0.007967664860188961.\n"
          ]
        },
        {
          "output_type": "stream",
          "name": "stdout",
          "text": [
            "  Batch 3,410  of  3,511.    Elapsed: 0:11:28.    Loss: 0.005804580170661211.\n"
          ]
        },
        {
          "output_type": "stream",
          "name": "stderr",
          "text": [
            "INFO:__main__:  Batch 3,410  of  3,511.    Elapsed: 0:11:28.    Loss: 0.005804580170661211.\n"
          ]
        },
        {
          "output_type": "stream",
          "name": "stdout",
          "text": [
            "  Batch 3,420  of  3,511.    Elapsed: 0:11:30.    Loss: 0.009806791320443153.\n"
          ]
        },
        {
          "output_type": "stream",
          "name": "stderr",
          "text": [
            "INFO:__main__:  Batch 3,420  of  3,511.    Elapsed: 0:11:30.    Loss: 0.009806791320443153.\n"
          ]
        },
        {
          "output_type": "stream",
          "name": "stdout",
          "text": [
            "  Batch 3,430  of  3,511.    Elapsed: 0:11:32.    Loss: 0.0012318103108555079.\n"
          ]
        },
        {
          "output_type": "stream",
          "name": "stderr",
          "text": [
            "INFO:__main__:  Batch 3,430  of  3,511.    Elapsed: 0:11:32.    Loss: 0.0012318103108555079.\n"
          ]
        },
        {
          "output_type": "stream",
          "name": "stdout",
          "text": [
            "  Batch 3,440  of  3,511.    Elapsed: 0:11:34.    Loss: 0.012055043131113052.\n"
          ]
        },
        {
          "output_type": "stream",
          "name": "stderr",
          "text": [
            "INFO:__main__:  Batch 3,440  of  3,511.    Elapsed: 0:11:34.    Loss: 0.012055043131113052.\n"
          ]
        },
        {
          "output_type": "stream",
          "name": "stdout",
          "text": [
            "  Batch 3,450  of  3,511.    Elapsed: 0:11:36.    Loss: 0.02879965677857399.\n"
          ]
        },
        {
          "output_type": "stream",
          "name": "stderr",
          "text": [
            "INFO:__main__:  Batch 3,450  of  3,511.    Elapsed: 0:11:36.    Loss: 0.02879965677857399.\n"
          ]
        },
        {
          "output_type": "stream",
          "name": "stdout",
          "text": [
            "  Batch 3,460  of  3,511.    Elapsed: 0:11:38.    Loss: 0.0010050947312265635.\n"
          ]
        },
        {
          "output_type": "stream",
          "name": "stderr",
          "text": [
            "INFO:__main__:  Batch 3,460  of  3,511.    Elapsed: 0:11:38.    Loss: 0.0010050947312265635.\n"
          ]
        },
        {
          "output_type": "stream",
          "name": "stdout",
          "text": [
            "  Batch 3,470  of  3,511.    Elapsed: 0:11:40.    Loss: 0.002521806163713336.\n"
          ]
        },
        {
          "output_type": "stream",
          "name": "stderr",
          "text": [
            "INFO:__main__:  Batch 3,470  of  3,511.    Elapsed: 0:11:40.    Loss: 0.002521806163713336.\n"
          ]
        },
        {
          "output_type": "stream",
          "name": "stdout",
          "text": [
            "  Batch 3,480  of  3,511.    Elapsed: 0:11:42.    Loss: 0.0693742036819458.\n"
          ]
        },
        {
          "output_type": "stream",
          "name": "stderr",
          "text": [
            "INFO:__main__:  Batch 3,480  of  3,511.    Elapsed: 0:11:42.    Loss: 0.0693742036819458.\n"
          ]
        },
        {
          "output_type": "stream",
          "name": "stdout",
          "text": [
            "  Batch 3,490  of  3,511.    Elapsed: 0:11:44.    Loss: 0.0022691418416798115.\n"
          ]
        },
        {
          "output_type": "stream",
          "name": "stderr",
          "text": [
            "INFO:__main__:  Batch 3,490  of  3,511.    Elapsed: 0:11:44.    Loss: 0.0022691418416798115.\n"
          ]
        },
        {
          "output_type": "stream",
          "name": "stdout",
          "text": [
            "  Batch 3,500  of  3,511.    Elapsed: 0:11:46.    Loss: 0.3464435636997223.\n"
          ]
        },
        {
          "output_type": "stream",
          "name": "stderr",
          "text": [
            "INFO:__main__:  Batch 3,500  of  3,511.    Elapsed: 0:11:46.    Loss: 0.3464435636997223.\n"
          ]
        },
        {
          "output_type": "stream",
          "name": "stdout",
          "text": [
            "  Batch 3,510  of  3,511.    Elapsed: 0:11:48.    Loss: 0.0014636715641245246.\n"
          ]
        },
        {
          "output_type": "stream",
          "name": "stderr",
          "text": [
            "INFO:__main__:  Batch 3,510  of  3,511.    Elapsed: 0:11:48.    Loss: 0.0014636715641245246.\n"
          ]
        },
        {
          "output_type": "stream",
          "name": "stdout",
          "text": [
            "\n"
          ]
        },
        {
          "output_type": "stream",
          "name": "stderr",
          "text": [
            "INFO:__main__:\n"
          ]
        },
        {
          "output_type": "stream",
          "name": "stdout",
          "text": [
            "  Average training loss: 0.1085\n"
          ]
        },
        {
          "output_type": "stream",
          "name": "stderr",
          "text": [
            "INFO:__main__:  Average training loss: 0.1085\n"
          ]
        },
        {
          "output_type": "stream",
          "name": "stdout",
          "text": [
            "  Training Epoch took: 0:11:48\n"
          ]
        },
        {
          "output_type": "stream",
          "name": "stderr",
          "text": [
            "INFO:__main__:  Training Epoch took: 0:11:48\n"
          ]
        },
        {
          "output_type": "stream",
          "name": "stdout",
          "text": [
            "  Validation Loss: 0.05\n"
          ]
        },
        {
          "output_type": "stream",
          "name": "stderr",
          "text": [
            "INFO:__main__:  Validation Loss: 0.05\n"
          ]
        },
        {
          "output_type": "stream",
          "name": "stdout",
          "text": [
            "  Precision: 91.90 || Recall: 92.93 || F1: 92.41\n"
          ]
        },
        {
          "output_type": "stream",
          "name": "stderr",
          "text": [
            "INFO:__main__:  Precision: 91.90 || Recall: 92.93 || F1: 92.41\n"
          ]
        },
        {
          "output_type": "stream",
          "name": "stdout",
          "text": [
            "  Validation took: 0:00:52\n"
          ]
        },
        {
          "output_type": "stream",
          "name": "stderr",
          "text": [
            "INFO:__main__:  Validation took: 0:00:52\n"
          ]
        },
        {
          "output_type": "stream",
          "name": "stdout",
          "text": [
            "\n"
          ]
        },
        {
          "output_type": "stream",
          "name": "stderr",
          "text": [
            "INFO:__main__:\n"
          ]
        },
        {
          "output_type": "stream",
          "name": "stdout",
          "text": [
            "Training complete!\n"
          ]
        },
        {
          "output_type": "stream",
          "name": "stderr",
          "text": [
            "INFO:__main__:Training complete!\n"
          ]
        }
      ],
      "source": [
        "loss_trn_values, loss_dev_values = [], []\n",
        "\n",
        "\n",
        "for epoch_i in range(1, EPOCHS+1):\n",
        "    # Perform one full pass over the training set.\n",
        "    logger.info(\"\")\n",
        "    logger.info('======== Epoch {:} / {:} ========'.format(epoch_i, EPOCHS))\n",
        "    logger.info('Training...')\n",
        "\n",
        "    t0 = time.time()\n",
        "    total_loss = 0\n",
        "    model.train()\n",
        "\n",
        "    # For each batch of training data...\n",
        "    for step, batch in enumerate(train_dataloader):\n",
        "        b_input_ids = batch[0].to(device)\n",
        "        b_input_mask = batch[1].to(device)\n",
        "        b_labels = batch[2].to(device)\n",
        "\n",
        "        model.zero_grad()\n",
        "\n",
        "        # Perform a forward pass (evaluate the model on this training batch).\n",
        "        outputs = model(b_input_ids, attention_mask=b_input_mask, labels=b_labels)\n",
        "        loss = outputs[0]\n",
        "        total_loss += loss.item()\n",
        "\n",
        "        # Perform a backward pass to calculate the gradients.\n",
        "        loss.backward()\n",
        "\n",
        "        # Clip the norm of the gradients to 1.0.\n",
        "        torch.nn.utils.clip_grad_norm_(model.parameters(), GRADIENT_CLIP)\n",
        "\n",
        "        # Update parameters\n",
        "        optimizer.step()\n",
        "        scheduler.step()\n",
        "\n",
        "        # Progress update\n",
        "        if step % PRINT_INFO_EVERY == 0 and step != 0:\n",
        "            # Calculate elapsed time in minutes.\n",
        "            elapsed = utils.format_time(time.time() - t0)\n",
        "            # Report progress.\n",
        "            logger.info('  Batch {:>5,}  of  {:>5,}.    Elapsed: {:}.    Loss: {}.'.format(step, len(train_dataloader),\n",
        "                                                                                            elapsed, loss.item()))\n",
        "\n",
        "    # Calculate the average loss over the training data.\n",
        "    avg_train_loss = total_loss / len(train_dataloader)\n",
        "\n",
        "    # Store the loss value for plotting the learning curve.\n",
        "    loss_trn_values.append(avg_train_loss)\n",
        "\n",
        "    logger.info(\"\")\n",
        "    logger.info(\"  Average training loss: {0:.4f}\".format(avg_train_loss))\n",
        "    logger.info(\"  Training Epoch took: {:}\".format(utils.format_time(time.time() - t0)))\n",
        "\n",
        "    # ========================================\n",
        "    #               Validation\n",
        "    # ========================================\n",
        "    # After the completion of each training epoch, measure our performance on our validation set.\n",
        "    t0 = time.time()\n",
        "    results, preds_list = utils.evaluate_bert_model(dev_dataloader, BATCH_SIZE, model, tokenizer, index2label, PAD_TOKEN_LABEL_ID, prefix=\"Validation Set\")\n",
        "    loss_dev_values.append(results['loss'])\n",
        "    logger.info(\"  Validation Loss: {0:.2f}\".format(results['loss']))\n",
        "    logger.info(\"  Precision: {0:.2f} || Recall: {1:.2f} || F1: {2:.2f}\".format(results['precision']*100, results['recall']*100, results['f1']*100))\n",
        "    logger.info(\"  Validation took: {:}\".format(utils.format_time(time.time() - t0)))\n",
        "\n",
        "\n",
        "    # Save Checkpoint for this Epoch\n",
        "    utils.save_model(f\"{SAVE_MODEL_DIR}/EPOCH_{epoch_i}\", {\"args\":[]}, model, tokenizer)\n",
        "\n",
        "\n",
        "utils.save_losses(loss_trn_values, filename=LOSS_TRN_FILENAME)\n",
        "utils.save_losses(loss_dev_values, filename=LOSS_DEV_FILENAME)\n",
        "logger.info(\"\")\n",
        "logger.info(\"Training complete!\")"
      ]
    },
    {
      "cell_type": "markdown",
      "metadata": {
        "id": "_jI3pbcKsyZm"
      },
      "source": [
        "# Use Fine-tuned Model for Predictions"
      ]
    },
    {
      "cell_type": "code",
      "execution_count": 13,
      "metadata": {
        "id": "_wqst4JZsyZm"
      },
      "outputs": [],
      "source": [
        "from transformers import pipeline\n",
        "from torch.utils.data import SequentialSampler\n",
        "\n",
        "GPU_IX=0\n",
        "device, USE_CUDA = utils.get_torch_device(GPU_IX)\n",
        "FILE_HAS_GOLD = True\n",
        "SEQ_MAX_LEN = 256\n",
        "BATCH_SIZE = 4\n",
        "# IMPORTANT NOTE: We predict on the dev set to make the results comparable with your previous models from this course\n",
        "TEST_DATA_PATH = \"/content/datas/conll2003.test.conll\" # \"data/conll2003.dev.conll\"\n",
        "# TEST_DATA_PATH = \"data/trial_unk_data.conll\"\n",
        "MODEL_DIR = \"saved_models/\"\n",
        "LOAD_EPOCH = 1\n",
        "INPUTS_PATH=f\"{MODEL_DIR}/EPOCH_{LOAD_EPOCH}/model_inputs.txt\"\n",
        "OUTPUTS_PATH=f\"{MODEL_DIR}/EPOCH_{LOAD_EPOCH}/model_outputs.txt\"\n",
        "PAD_TOKEN_LABEL_ID = CrossEntropyLoss().ignore_index # -100\n",
        "\n",
        "console_hdlr = logging.StreamHandler(sys.stdout)\n",
        "file_hdlr = logging.FileHandler(filename=f\"{MODEL_DIR}/EPOCH_{LOAD_EPOCH}/BERT_TokenClassifier_predictions.log\")\n",
        "logging.basicConfig(handlers=[console_hdlr, file_hdlr])\n",
        "logger = logging.getLogger(__name__)\n",
        "logger.setLevel(logging.INFO)"
      ]
    },
    {
      "cell_type": "markdown",
      "metadata": {
        "id": "71PYZMzMsyZm"
      },
      "source": [
        "## Load Pre-trained Model"
      ]
    },
    {
      "cell_type": "code",
      "execution_count": 14,
      "metadata": {
        "id": "kwtyjvMXsyZm"
      },
      "outputs": [],
      "source": [
        "model, tokenizer = utils.load_model(BertForTokenClassification, BertTokenizer, f\"{MODEL_DIR}/EPOCH_{LOAD_EPOCH}\")\n",
        "label2index = utils.load_label_dict(f\"{MODEL_DIR}/label2index.json\")\n",
        "index2label = {v:k for k,v in label2index.items()}"
      ]
    },
    {
      "cell_type": "markdown",
      "metadata": {
        "id": "jHivh1HXsyZn"
      },
      "source": [
        "## Load File for Predictions "
      ]
    },
    {
      "cell_type": "code",
      "execution_count": 15,
      "metadata": {
        "id": "azF_T-YAsyZn"
      },
      "outputs": [],
      "source": [
        "test_data, test_labels, _ = utils.read_conll(TEST_DATA_PATH, has_labels=FILE_HAS_GOLD)\n",
        "prediction_inputs, prediction_masks, gold_labels, seq_lens = utils.data_to_tensors(test_data, \n",
        "                                                                                   tokenizer, \n",
        "                                                                                   max_len=SEQ_MAX_LEN, \n",
        "                                                                                   labels=test_labels, \n",
        "                                                                                   label2index=label2index)"
      ]
    },
    {
      "cell_type": "code",
      "execution_count": 16,
      "metadata": {
        "id": "ErP60tKzztUs"
      },
      "outputs": [],
      "source": [
        "gold = []\n",
        "for ls in test_labels:\n",
        "  gold.extend(ls)"
      ]
    },
    {
      "cell_type": "markdown",
      "metadata": {
        "id": "mWvjPEnNsyZn"
      },
      "source": [
        "## Make Predictions"
      ]
    },
    {
      "cell_type": "code",
      "execution_count": 17,
      "metadata": {
        "colab": {
          "base_uri": "https://localhost:8080/"
        },
        "id": "eVvU6VhqsyZn",
        "outputId": "b8a82b7d-b83d-4368-a792-4a9bdba13ff8"
      },
      "outputs": [
        {
          "output_type": "stream",
          "name": "stdout",
          "text": [
            "Predicting labels for 3,453 test sentences...\n"
          ]
        },
        {
          "output_type": "stream",
          "name": "stderr",
          "text": [
            "INFO:__main__:Predicting labels for 3,453 test sentences...\n"
          ]
        },
        {
          "output_type": "stream",
          "name": "stdout",
          "text": [
            "  Test Loss: 0.13\n"
          ]
        },
        {
          "output_type": "stream",
          "name": "stderr",
          "text": [
            "INFO:__main__:  Test Loss: 0.13\n"
          ]
        },
        {
          "output_type": "stream",
          "name": "stdout",
          "text": [
            "  Precision: 89.14 || Recall: 90.72 || F1: 89.93\n"
          ]
        },
        {
          "output_type": "stream",
          "name": "stderr",
          "text": [
            "INFO:__main__:  Precision: 89.14 || Recall: 90.72 || F1: 89.93\n"
          ]
        }
      ],
      "source": [
        "if FILE_HAS_GOLD:\n",
        "    prediction_data = TensorDataset(prediction_inputs, prediction_masks, gold_labels, seq_lens)\n",
        "    prediction_sampler = SequentialSampler(prediction_data)\n",
        "    prediction_dataloader = DataLoader(prediction_data, sampler=prediction_sampler, batch_size=BATCH_SIZE)\n",
        "\n",
        "    logger.info('Predicting labels for {:,} test sentences...'.format(len(prediction_inputs)))\n",
        "    \n",
        "    results, preds_list = utils.evaluate_bert_model(prediction_dataloader, BATCH_SIZE, model, tokenizer, index2label, \n",
        "                                                        PAD_TOKEN_LABEL_ID, full_report=True, prefix=\"Test Set\")\n",
        "    logger.info(\"  Test Loss: {0:.2f}\".format(results['loss']))\n",
        "    logger.info(\"  Precision: {0:.2f} || Recall: {1:.2f} || F1: {2:.2f}\".format(results['precision']*100, results['recall']*100, results['f1']*100))\n",
        "\n",
        "\n",
        "    preds = []\n",
        "    with open(OUTPUTS_PATH, \"w\") as fout:\n",
        "        with open(INPUTS_PATH, \"w\") as fin:\n",
        "            for sent, pred in preds_list:\n",
        "              preds.extend(pred)\n",
        "              fin.write(\" \".join(sent)+\"\\n\")\n",
        "              fout.write(\" \".join(pred)+\"\\n\")\n",
        "\n",
        "else:\n",
        "    # https://huggingface.co/transformers/main_classes/pipelines.html#transformers.TokenClassificationPipeline\n",
        "    logger.info('Predicting labels for {:,} test sentences...'.format(len(test_data)))\n",
        "    if not USE_CUDA: GPU_IX = -1\n",
        "    nlp = pipeline('token-classification', model=model, tokenizer=tokenizer, device=GPU_IX)\n",
        "    nlp.ignore_labels = []\n",
        "    with open(OUTPUTS_PATH, \"w\") as fout:\n",
        "        with open(INPUTS_PATH, \"w\") as fin:\n",
        "            for seq_ix, seq in enumerate(test_data):\n",
        "                sentence = \" \".join(seq)\n",
        "                predicted_labels = []\n",
        "                output_obj = nlp(sentence)\n",
        "                # [print(o) for o in output_obj]\n",
        "                for tok in output_obj:\n",
        "                    if '##' not in tok['word']:\n",
        "                        predicted_labels.append(tok['entity'])\n",
        "                logger.info(f\"\\n----- {seq_ix+1} -----\\n{seq}\\nPRED:{predicted_labels}\")\n",
        "                fin.write(sentence+\"\\n\")\n",
        "                fout.write(\" \".join(predicted_labels)+\"\\n\")"
      ]
    },
    {
      "cell_type": "code",
      "execution_count": 18,
      "metadata": {
        "colab": {
          "base_uri": "https://localhost:8080/"
        },
        "id": "_62P4la50Csq",
        "outputId": "9292c179-98c5-4e27-9e96-d98921ffafb1"
      },
      "outputs": [
        {
          "output_type": "stream",
          "name": "stdout",
          "text": [
            "              precision    recall  f1-score   support\n",
            "\n",
            "       B-LOC       0.93      0.93      0.93      1668\n",
            "      B-MISC       0.81      0.80      0.81       702\n",
            "       B-ORG       0.89      0.91      0.90      1661\n",
            "       B-PER       0.97      0.96      0.96      1617\n",
            "       I-LOC       0.87      0.89      0.88       257\n",
            "      I-MISC       0.65      0.73      0.69       216\n",
            "       I-ORG       0.86      0.93      0.89       835\n",
            "       I-PER       0.98      0.99      0.99      1156\n",
            "           O       1.00      0.99      0.99     38323\n",
            "\n",
            "    accuracy                           0.98     46435\n",
            "   macro avg       0.88      0.90      0.89     46435\n",
            "weighted avg       0.98      0.98      0.98     46435\n",
            "\n"
          ]
        }
      ],
      "source": [
        "print(classification_report(gold, preds))"
      ]
    },
    {
      "cell_type": "code",
      "execution_count": null,
      "metadata": {
        "id": "slFD0pBA0I1c"
      },
      "outputs": [],
      "source": []
    }
  ],
  "metadata": {
    "accelerator": "GPU",
    "colab": {
      "provenance": []
    },
    "gpuClass": "standard",
    "kernelspec": {
      "display_name": "Python 3.8.13 ('ML_TA')",
      "language": "python",
      "name": "python3"
    },
    "language_info": {
      "codemirror_mode": {
        "name": "ipython",
        "version": 3
      },
      "file_extension": ".py",
      "mimetype": "text/x-python",
      "name": "python",
      "nbconvert_exporter": "python",
      "pygments_lexer": "ipython3",
      "version": "3.8.13"
    },
    "orig_nbformat": 4,
    "vscode": {
      "interpreter": {
        "hash": "81f0a34a8bb36b523c37aa1f7ca9b0fbfa110ff3f44918ea7a75f102437a2ef0"
      }
    },
    "widgets": {
      "application/vnd.jupyter.widget-state+json": {
        "6c05a784869e481c8ef1a60face5dac5": {
          "model_module": "@jupyter-widgets/controls",
          "model_name": "HBoxModel",
          "model_module_version": "1.5.0",
          "state": {
            "_dom_classes": [],
            "_model_module": "@jupyter-widgets/controls",
            "_model_module_version": "1.5.0",
            "_model_name": "HBoxModel",
            "_view_count": null,
            "_view_module": "@jupyter-widgets/controls",
            "_view_module_version": "1.5.0",
            "_view_name": "HBoxView",
            "box_style": "",
            "children": [
              "IPY_MODEL_5fba7949224c4b2ea51a9307c7eae0bc",
              "IPY_MODEL_5309a733065944419419d36354bb50f8",
              "IPY_MODEL_e81acfd10b404291973360c7194fcfce"
            ],
            "layout": "IPY_MODEL_565e8c3df46b48f0a3500e4b2768d122"
          }
        },
        "5fba7949224c4b2ea51a9307c7eae0bc": {
          "model_module": "@jupyter-widgets/controls",
          "model_name": "HTMLModel",
          "model_module_version": "1.5.0",
          "state": {
            "_dom_classes": [],
            "_model_module": "@jupyter-widgets/controls",
            "_model_module_version": "1.5.0",
            "_model_name": "HTMLModel",
            "_view_count": null,
            "_view_module": "@jupyter-widgets/controls",
            "_view_module_version": "1.5.0",
            "_view_name": "HTMLView",
            "description": "",
            "description_tooltip": null,
            "layout": "IPY_MODEL_ab6e6234bc4e4f47ac179df6d04d99b6",
            "placeholder": "​",
            "style": "IPY_MODEL_27ad3c3f069541a884e779d30e2d8406",
            "value": "Downloading: 100%"
          }
        },
        "5309a733065944419419d36354bb50f8": {
          "model_module": "@jupyter-widgets/controls",
          "model_name": "FloatProgressModel",
          "model_module_version": "1.5.0",
          "state": {
            "_dom_classes": [],
            "_model_module": "@jupyter-widgets/controls",
            "_model_module_version": "1.5.0",
            "_model_name": "FloatProgressModel",
            "_view_count": null,
            "_view_module": "@jupyter-widgets/controls",
            "_view_module_version": "1.5.0",
            "_view_name": "ProgressView",
            "bar_style": "success",
            "description": "",
            "description_tooltip": null,
            "layout": "IPY_MODEL_74b19abc930c48af944f54d20cb00449",
            "max": 213450,
            "min": 0,
            "orientation": "horizontal",
            "style": "IPY_MODEL_c0c1cf7c3c8a4def8501c2607d0d8551",
            "value": 213450
          }
        },
        "e81acfd10b404291973360c7194fcfce": {
          "model_module": "@jupyter-widgets/controls",
          "model_name": "HTMLModel",
          "model_module_version": "1.5.0",
          "state": {
            "_dom_classes": [],
            "_model_module": "@jupyter-widgets/controls",
            "_model_module_version": "1.5.0",
            "_model_name": "HTMLModel",
            "_view_count": null,
            "_view_module": "@jupyter-widgets/controls",
            "_view_module_version": "1.5.0",
            "_view_name": "HTMLView",
            "description": "",
            "description_tooltip": null,
            "layout": "IPY_MODEL_fef0bf8a0e594b4fa7bb53ed8ffc53dd",
            "placeholder": "​",
            "style": "IPY_MODEL_ecb234a52d1c4cb8afcb980aca8222d2",
            "value": " 213k/213k [00:00&lt;00:00, 624kB/s]"
          }
        },
        "565e8c3df46b48f0a3500e4b2768d122": {
          "model_module": "@jupyter-widgets/base",
          "model_name": "LayoutModel",
          "model_module_version": "1.2.0",
          "state": {
            "_model_module": "@jupyter-widgets/base",
            "_model_module_version": "1.2.0",
            "_model_name": "LayoutModel",
            "_view_count": null,
            "_view_module": "@jupyter-widgets/base",
            "_view_module_version": "1.2.0",
            "_view_name": "LayoutView",
            "align_content": null,
            "align_items": null,
            "align_self": null,
            "border": null,
            "bottom": null,
            "display": null,
            "flex": null,
            "flex_flow": null,
            "grid_area": null,
            "grid_auto_columns": null,
            "grid_auto_flow": null,
            "grid_auto_rows": null,
            "grid_column": null,
            "grid_gap": null,
            "grid_row": null,
            "grid_template_areas": null,
            "grid_template_columns": null,
            "grid_template_rows": null,
            "height": null,
            "justify_content": null,
            "justify_items": null,
            "left": null,
            "margin": null,
            "max_height": null,
            "max_width": null,
            "min_height": null,
            "min_width": null,
            "object_fit": null,
            "object_position": null,
            "order": null,
            "overflow": null,
            "overflow_x": null,
            "overflow_y": null,
            "padding": null,
            "right": null,
            "top": null,
            "visibility": null,
            "width": null
          }
        },
        "ab6e6234bc4e4f47ac179df6d04d99b6": {
          "model_module": "@jupyter-widgets/base",
          "model_name": "LayoutModel",
          "model_module_version": "1.2.0",
          "state": {
            "_model_module": "@jupyter-widgets/base",
            "_model_module_version": "1.2.0",
            "_model_name": "LayoutModel",
            "_view_count": null,
            "_view_module": "@jupyter-widgets/base",
            "_view_module_version": "1.2.0",
            "_view_name": "LayoutView",
            "align_content": null,
            "align_items": null,
            "align_self": null,
            "border": null,
            "bottom": null,
            "display": null,
            "flex": null,
            "flex_flow": null,
            "grid_area": null,
            "grid_auto_columns": null,
            "grid_auto_flow": null,
            "grid_auto_rows": null,
            "grid_column": null,
            "grid_gap": null,
            "grid_row": null,
            "grid_template_areas": null,
            "grid_template_columns": null,
            "grid_template_rows": null,
            "height": null,
            "justify_content": null,
            "justify_items": null,
            "left": null,
            "margin": null,
            "max_height": null,
            "max_width": null,
            "min_height": null,
            "min_width": null,
            "object_fit": null,
            "object_position": null,
            "order": null,
            "overflow": null,
            "overflow_x": null,
            "overflow_y": null,
            "padding": null,
            "right": null,
            "top": null,
            "visibility": null,
            "width": null
          }
        },
        "27ad3c3f069541a884e779d30e2d8406": {
          "model_module": "@jupyter-widgets/controls",
          "model_name": "DescriptionStyleModel",
          "model_module_version": "1.5.0",
          "state": {
            "_model_module": "@jupyter-widgets/controls",
            "_model_module_version": "1.5.0",
            "_model_name": "DescriptionStyleModel",
            "_view_count": null,
            "_view_module": "@jupyter-widgets/base",
            "_view_module_version": "1.2.0",
            "_view_name": "StyleView",
            "description_width": ""
          }
        },
        "74b19abc930c48af944f54d20cb00449": {
          "model_module": "@jupyter-widgets/base",
          "model_name": "LayoutModel",
          "model_module_version": "1.2.0",
          "state": {
            "_model_module": "@jupyter-widgets/base",
            "_model_module_version": "1.2.0",
            "_model_name": "LayoutModel",
            "_view_count": null,
            "_view_module": "@jupyter-widgets/base",
            "_view_module_version": "1.2.0",
            "_view_name": "LayoutView",
            "align_content": null,
            "align_items": null,
            "align_self": null,
            "border": null,
            "bottom": null,
            "display": null,
            "flex": null,
            "flex_flow": null,
            "grid_area": null,
            "grid_auto_columns": null,
            "grid_auto_flow": null,
            "grid_auto_rows": null,
            "grid_column": null,
            "grid_gap": null,
            "grid_row": null,
            "grid_template_areas": null,
            "grid_template_columns": null,
            "grid_template_rows": null,
            "height": null,
            "justify_content": null,
            "justify_items": null,
            "left": null,
            "margin": null,
            "max_height": null,
            "max_width": null,
            "min_height": null,
            "min_width": null,
            "object_fit": null,
            "object_position": null,
            "order": null,
            "overflow": null,
            "overflow_x": null,
            "overflow_y": null,
            "padding": null,
            "right": null,
            "top": null,
            "visibility": null,
            "width": null
          }
        },
        "c0c1cf7c3c8a4def8501c2607d0d8551": {
          "model_module": "@jupyter-widgets/controls",
          "model_name": "ProgressStyleModel",
          "model_module_version": "1.5.0",
          "state": {
            "_model_module": "@jupyter-widgets/controls",
            "_model_module_version": "1.5.0",
            "_model_name": "ProgressStyleModel",
            "_view_count": null,
            "_view_module": "@jupyter-widgets/base",
            "_view_module_version": "1.2.0",
            "_view_name": "StyleView",
            "bar_color": null,
            "description_width": ""
          }
        },
        "fef0bf8a0e594b4fa7bb53ed8ffc53dd": {
          "model_module": "@jupyter-widgets/base",
          "model_name": "LayoutModel",
          "model_module_version": "1.2.0",
          "state": {
            "_model_module": "@jupyter-widgets/base",
            "_model_module_version": "1.2.0",
            "_model_name": "LayoutModel",
            "_view_count": null,
            "_view_module": "@jupyter-widgets/base",
            "_view_module_version": "1.2.0",
            "_view_name": "LayoutView",
            "align_content": null,
            "align_items": null,
            "align_self": null,
            "border": null,
            "bottom": null,
            "display": null,
            "flex": null,
            "flex_flow": null,
            "grid_area": null,
            "grid_auto_columns": null,
            "grid_auto_flow": null,
            "grid_auto_rows": null,
            "grid_column": null,
            "grid_gap": null,
            "grid_row": null,
            "grid_template_areas": null,
            "grid_template_columns": null,
            "grid_template_rows": null,
            "height": null,
            "justify_content": null,
            "justify_items": null,
            "left": null,
            "margin": null,
            "max_height": null,
            "max_width": null,
            "min_height": null,
            "min_width": null,
            "object_fit": null,
            "object_position": null,
            "order": null,
            "overflow": null,
            "overflow_x": null,
            "overflow_y": null,
            "padding": null,
            "right": null,
            "top": null,
            "visibility": null,
            "width": null
          }
        },
        "ecb234a52d1c4cb8afcb980aca8222d2": {
          "model_module": "@jupyter-widgets/controls",
          "model_name": "DescriptionStyleModel",
          "model_module_version": "1.5.0",
          "state": {
            "_model_module": "@jupyter-widgets/controls",
            "_model_module_version": "1.5.0",
            "_model_name": "DescriptionStyleModel",
            "_view_count": null,
            "_view_module": "@jupyter-widgets/base",
            "_view_module_version": "1.2.0",
            "_view_name": "StyleView",
            "description_width": ""
          }
        },
        "adb785ae28ab4f5fa06a6410cbd49a7f": {
          "model_module": "@jupyter-widgets/controls",
          "model_name": "HBoxModel",
          "model_module_version": "1.5.0",
          "state": {
            "_dom_classes": [],
            "_model_module": "@jupyter-widgets/controls",
            "_model_module_version": "1.5.0",
            "_model_name": "HBoxModel",
            "_view_count": null,
            "_view_module": "@jupyter-widgets/controls",
            "_view_module_version": "1.5.0",
            "_view_name": "HBoxView",
            "box_style": "",
            "children": [
              "IPY_MODEL_7297e119c57e48bcb3c96940c84294ac",
              "IPY_MODEL_e94596b8f2e144cc96c98a144025b59d",
              "IPY_MODEL_0001a7c34d50481cbe81f5c42f64f88f"
            ],
            "layout": "IPY_MODEL_841cddd49e3843f782e3c8484065c9db"
          }
        },
        "7297e119c57e48bcb3c96940c84294ac": {
          "model_module": "@jupyter-widgets/controls",
          "model_name": "HTMLModel",
          "model_module_version": "1.5.0",
          "state": {
            "_dom_classes": [],
            "_model_module": "@jupyter-widgets/controls",
            "_model_module_version": "1.5.0",
            "_model_name": "HTMLModel",
            "_view_count": null,
            "_view_module": "@jupyter-widgets/controls",
            "_view_module_version": "1.5.0",
            "_view_name": "HTMLView",
            "description": "",
            "description_tooltip": null,
            "layout": "IPY_MODEL_14cd03fc60624a9a8956f2ddb6723fbc",
            "placeholder": "​",
            "style": "IPY_MODEL_0fae0312fbbe479bb47d96196ceb872a",
            "value": "Downloading: 100%"
          }
        },
        "e94596b8f2e144cc96c98a144025b59d": {
          "model_module": "@jupyter-widgets/controls",
          "model_name": "FloatProgressModel",
          "model_module_version": "1.5.0",
          "state": {
            "_dom_classes": [],
            "_model_module": "@jupyter-widgets/controls",
            "_model_module_version": "1.5.0",
            "_model_name": "FloatProgressModel",
            "_view_count": null,
            "_view_module": "@jupyter-widgets/controls",
            "_view_module_version": "1.5.0",
            "_view_name": "ProgressView",
            "bar_style": "success",
            "description": "",
            "description_tooltip": null,
            "layout": "IPY_MODEL_7093d815268a4bf0bb644d16de460331",
            "max": 29,
            "min": 0,
            "orientation": "horizontal",
            "style": "IPY_MODEL_dcd8192af4024438ac0f677810610cdc",
            "value": 29
          }
        },
        "0001a7c34d50481cbe81f5c42f64f88f": {
          "model_module": "@jupyter-widgets/controls",
          "model_name": "HTMLModel",
          "model_module_version": "1.5.0",
          "state": {
            "_dom_classes": [],
            "_model_module": "@jupyter-widgets/controls",
            "_model_module_version": "1.5.0",
            "_model_name": "HTMLModel",
            "_view_count": null,
            "_view_module": "@jupyter-widgets/controls",
            "_view_module_version": "1.5.0",
            "_view_name": "HTMLView",
            "description": "",
            "description_tooltip": null,
            "layout": "IPY_MODEL_695bf9e619c74e20bd8ee9fb04cbfa83",
            "placeholder": "​",
            "style": "IPY_MODEL_d7f5daccfb0248f09672ff64ac8969fb",
            "value": " 29.0/29.0 [00:00&lt;00:00, 1.07kB/s]"
          }
        },
        "841cddd49e3843f782e3c8484065c9db": {
          "model_module": "@jupyter-widgets/base",
          "model_name": "LayoutModel",
          "model_module_version": "1.2.0",
          "state": {
            "_model_module": "@jupyter-widgets/base",
            "_model_module_version": "1.2.0",
            "_model_name": "LayoutModel",
            "_view_count": null,
            "_view_module": "@jupyter-widgets/base",
            "_view_module_version": "1.2.0",
            "_view_name": "LayoutView",
            "align_content": null,
            "align_items": null,
            "align_self": null,
            "border": null,
            "bottom": null,
            "display": null,
            "flex": null,
            "flex_flow": null,
            "grid_area": null,
            "grid_auto_columns": null,
            "grid_auto_flow": null,
            "grid_auto_rows": null,
            "grid_column": null,
            "grid_gap": null,
            "grid_row": null,
            "grid_template_areas": null,
            "grid_template_columns": null,
            "grid_template_rows": null,
            "height": null,
            "justify_content": null,
            "justify_items": null,
            "left": null,
            "margin": null,
            "max_height": null,
            "max_width": null,
            "min_height": null,
            "min_width": null,
            "object_fit": null,
            "object_position": null,
            "order": null,
            "overflow": null,
            "overflow_x": null,
            "overflow_y": null,
            "padding": null,
            "right": null,
            "top": null,
            "visibility": null,
            "width": null
          }
        },
        "14cd03fc60624a9a8956f2ddb6723fbc": {
          "model_module": "@jupyter-widgets/base",
          "model_name": "LayoutModel",
          "model_module_version": "1.2.0",
          "state": {
            "_model_module": "@jupyter-widgets/base",
            "_model_module_version": "1.2.0",
            "_model_name": "LayoutModel",
            "_view_count": null,
            "_view_module": "@jupyter-widgets/base",
            "_view_module_version": "1.2.0",
            "_view_name": "LayoutView",
            "align_content": null,
            "align_items": null,
            "align_self": null,
            "border": null,
            "bottom": null,
            "display": null,
            "flex": null,
            "flex_flow": null,
            "grid_area": null,
            "grid_auto_columns": null,
            "grid_auto_flow": null,
            "grid_auto_rows": null,
            "grid_column": null,
            "grid_gap": null,
            "grid_row": null,
            "grid_template_areas": null,
            "grid_template_columns": null,
            "grid_template_rows": null,
            "height": null,
            "justify_content": null,
            "justify_items": null,
            "left": null,
            "margin": null,
            "max_height": null,
            "max_width": null,
            "min_height": null,
            "min_width": null,
            "object_fit": null,
            "object_position": null,
            "order": null,
            "overflow": null,
            "overflow_x": null,
            "overflow_y": null,
            "padding": null,
            "right": null,
            "top": null,
            "visibility": null,
            "width": null
          }
        },
        "0fae0312fbbe479bb47d96196ceb872a": {
          "model_module": "@jupyter-widgets/controls",
          "model_name": "DescriptionStyleModel",
          "model_module_version": "1.5.0",
          "state": {
            "_model_module": "@jupyter-widgets/controls",
            "_model_module_version": "1.5.0",
            "_model_name": "DescriptionStyleModel",
            "_view_count": null,
            "_view_module": "@jupyter-widgets/base",
            "_view_module_version": "1.2.0",
            "_view_name": "StyleView",
            "description_width": ""
          }
        },
        "7093d815268a4bf0bb644d16de460331": {
          "model_module": "@jupyter-widgets/base",
          "model_name": "LayoutModel",
          "model_module_version": "1.2.0",
          "state": {
            "_model_module": "@jupyter-widgets/base",
            "_model_module_version": "1.2.0",
            "_model_name": "LayoutModel",
            "_view_count": null,
            "_view_module": "@jupyter-widgets/base",
            "_view_module_version": "1.2.0",
            "_view_name": "LayoutView",
            "align_content": null,
            "align_items": null,
            "align_self": null,
            "border": null,
            "bottom": null,
            "display": null,
            "flex": null,
            "flex_flow": null,
            "grid_area": null,
            "grid_auto_columns": null,
            "grid_auto_flow": null,
            "grid_auto_rows": null,
            "grid_column": null,
            "grid_gap": null,
            "grid_row": null,
            "grid_template_areas": null,
            "grid_template_columns": null,
            "grid_template_rows": null,
            "height": null,
            "justify_content": null,
            "justify_items": null,
            "left": null,
            "margin": null,
            "max_height": null,
            "max_width": null,
            "min_height": null,
            "min_width": null,
            "object_fit": null,
            "object_position": null,
            "order": null,
            "overflow": null,
            "overflow_x": null,
            "overflow_y": null,
            "padding": null,
            "right": null,
            "top": null,
            "visibility": null,
            "width": null
          }
        },
        "dcd8192af4024438ac0f677810610cdc": {
          "model_module": "@jupyter-widgets/controls",
          "model_name": "ProgressStyleModel",
          "model_module_version": "1.5.0",
          "state": {
            "_model_module": "@jupyter-widgets/controls",
            "_model_module_version": "1.5.0",
            "_model_name": "ProgressStyleModel",
            "_view_count": null,
            "_view_module": "@jupyter-widgets/base",
            "_view_module_version": "1.2.0",
            "_view_name": "StyleView",
            "bar_color": null,
            "description_width": ""
          }
        },
        "695bf9e619c74e20bd8ee9fb04cbfa83": {
          "model_module": "@jupyter-widgets/base",
          "model_name": "LayoutModel",
          "model_module_version": "1.2.0",
          "state": {
            "_model_module": "@jupyter-widgets/base",
            "_model_module_version": "1.2.0",
            "_model_name": "LayoutModel",
            "_view_count": null,
            "_view_module": "@jupyter-widgets/base",
            "_view_module_version": "1.2.0",
            "_view_name": "LayoutView",
            "align_content": null,
            "align_items": null,
            "align_self": null,
            "border": null,
            "bottom": null,
            "display": null,
            "flex": null,
            "flex_flow": null,
            "grid_area": null,
            "grid_auto_columns": null,
            "grid_auto_flow": null,
            "grid_auto_rows": null,
            "grid_column": null,
            "grid_gap": null,
            "grid_row": null,
            "grid_template_areas": null,
            "grid_template_columns": null,
            "grid_template_rows": null,
            "height": null,
            "justify_content": null,
            "justify_items": null,
            "left": null,
            "margin": null,
            "max_height": null,
            "max_width": null,
            "min_height": null,
            "min_width": null,
            "object_fit": null,
            "object_position": null,
            "order": null,
            "overflow": null,
            "overflow_x": null,
            "overflow_y": null,
            "padding": null,
            "right": null,
            "top": null,
            "visibility": null,
            "width": null
          }
        },
        "d7f5daccfb0248f09672ff64ac8969fb": {
          "model_module": "@jupyter-widgets/controls",
          "model_name": "DescriptionStyleModel",
          "model_module_version": "1.5.0",
          "state": {
            "_model_module": "@jupyter-widgets/controls",
            "_model_module_version": "1.5.0",
            "_model_name": "DescriptionStyleModel",
            "_view_count": null,
            "_view_module": "@jupyter-widgets/base",
            "_view_module_version": "1.2.0",
            "_view_name": "StyleView",
            "description_width": ""
          }
        },
        "425b4b868e1840dcb809841b4616afb9": {
          "model_module": "@jupyter-widgets/controls",
          "model_name": "HBoxModel",
          "model_module_version": "1.5.0",
          "state": {
            "_dom_classes": [],
            "_model_module": "@jupyter-widgets/controls",
            "_model_module_version": "1.5.0",
            "_model_name": "HBoxModel",
            "_view_count": null,
            "_view_module": "@jupyter-widgets/controls",
            "_view_module_version": "1.5.0",
            "_view_name": "HBoxView",
            "box_style": "",
            "children": [
              "IPY_MODEL_9671514cfc0d4af68669f6b61b244f17",
              "IPY_MODEL_6a373cc1619e48139d803a7c8893699a",
              "IPY_MODEL_6d9bffe6fff44e62bb7800e75aebadf6"
            ],
            "layout": "IPY_MODEL_26b123eca4484aada8721d90a22b109f"
          }
        },
        "9671514cfc0d4af68669f6b61b244f17": {
          "model_module": "@jupyter-widgets/controls",
          "model_name": "HTMLModel",
          "model_module_version": "1.5.0",
          "state": {
            "_dom_classes": [],
            "_model_module": "@jupyter-widgets/controls",
            "_model_module_version": "1.5.0",
            "_model_name": "HTMLModel",
            "_view_count": null,
            "_view_module": "@jupyter-widgets/controls",
            "_view_module_version": "1.5.0",
            "_view_name": "HTMLView",
            "description": "",
            "description_tooltip": null,
            "layout": "IPY_MODEL_bbb8318a3d4a4c72b9147477566d920b",
            "placeholder": "​",
            "style": "IPY_MODEL_6d4c9c069597436d864c42df56a63acd",
            "value": "Downloading: 100%"
          }
        },
        "6a373cc1619e48139d803a7c8893699a": {
          "model_module": "@jupyter-widgets/controls",
          "model_name": "FloatProgressModel",
          "model_module_version": "1.5.0",
          "state": {
            "_dom_classes": [],
            "_model_module": "@jupyter-widgets/controls",
            "_model_module_version": "1.5.0",
            "_model_name": "FloatProgressModel",
            "_view_count": null,
            "_view_module": "@jupyter-widgets/controls",
            "_view_module_version": "1.5.0",
            "_view_name": "ProgressView",
            "bar_style": "success",
            "description": "",
            "description_tooltip": null,
            "layout": "IPY_MODEL_52421f28af064020ab3a090c5c6f83dc",
            "max": 435797,
            "min": 0,
            "orientation": "horizontal",
            "style": "IPY_MODEL_7dc625a1a9944941ba8d6b025f296937",
            "value": 435797
          }
        },
        "6d9bffe6fff44e62bb7800e75aebadf6": {
          "model_module": "@jupyter-widgets/controls",
          "model_name": "HTMLModel",
          "model_module_version": "1.5.0",
          "state": {
            "_dom_classes": [],
            "_model_module": "@jupyter-widgets/controls",
            "_model_module_version": "1.5.0",
            "_model_name": "HTMLModel",
            "_view_count": null,
            "_view_module": "@jupyter-widgets/controls",
            "_view_module_version": "1.5.0",
            "_view_name": "HTMLView",
            "description": "",
            "description_tooltip": null,
            "layout": "IPY_MODEL_d16e43d083ff41829a6f4aa029cb82d1",
            "placeholder": "​",
            "style": "IPY_MODEL_8cc0a4d587824a118424a638f68ea48f",
            "value": " 436k/436k [00:00&lt;00:00, 578kB/s]"
          }
        },
        "26b123eca4484aada8721d90a22b109f": {
          "model_module": "@jupyter-widgets/base",
          "model_name": "LayoutModel",
          "model_module_version": "1.2.0",
          "state": {
            "_model_module": "@jupyter-widgets/base",
            "_model_module_version": "1.2.0",
            "_model_name": "LayoutModel",
            "_view_count": null,
            "_view_module": "@jupyter-widgets/base",
            "_view_module_version": "1.2.0",
            "_view_name": "LayoutView",
            "align_content": null,
            "align_items": null,
            "align_self": null,
            "border": null,
            "bottom": null,
            "display": null,
            "flex": null,
            "flex_flow": null,
            "grid_area": null,
            "grid_auto_columns": null,
            "grid_auto_flow": null,
            "grid_auto_rows": null,
            "grid_column": null,
            "grid_gap": null,
            "grid_row": null,
            "grid_template_areas": null,
            "grid_template_columns": null,
            "grid_template_rows": null,
            "height": null,
            "justify_content": null,
            "justify_items": null,
            "left": null,
            "margin": null,
            "max_height": null,
            "max_width": null,
            "min_height": null,
            "min_width": null,
            "object_fit": null,
            "object_position": null,
            "order": null,
            "overflow": null,
            "overflow_x": null,
            "overflow_y": null,
            "padding": null,
            "right": null,
            "top": null,
            "visibility": null,
            "width": null
          }
        },
        "bbb8318a3d4a4c72b9147477566d920b": {
          "model_module": "@jupyter-widgets/base",
          "model_name": "LayoutModel",
          "model_module_version": "1.2.0",
          "state": {
            "_model_module": "@jupyter-widgets/base",
            "_model_module_version": "1.2.0",
            "_model_name": "LayoutModel",
            "_view_count": null,
            "_view_module": "@jupyter-widgets/base",
            "_view_module_version": "1.2.0",
            "_view_name": "LayoutView",
            "align_content": null,
            "align_items": null,
            "align_self": null,
            "border": null,
            "bottom": null,
            "display": null,
            "flex": null,
            "flex_flow": null,
            "grid_area": null,
            "grid_auto_columns": null,
            "grid_auto_flow": null,
            "grid_auto_rows": null,
            "grid_column": null,
            "grid_gap": null,
            "grid_row": null,
            "grid_template_areas": null,
            "grid_template_columns": null,
            "grid_template_rows": null,
            "height": null,
            "justify_content": null,
            "justify_items": null,
            "left": null,
            "margin": null,
            "max_height": null,
            "max_width": null,
            "min_height": null,
            "min_width": null,
            "object_fit": null,
            "object_position": null,
            "order": null,
            "overflow": null,
            "overflow_x": null,
            "overflow_y": null,
            "padding": null,
            "right": null,
            "top": null,
            "visibility": null,
            "width": null
          }
        },
        "6d4c9c069597436d864c42df56a63acd": {
          "model_module": "@jupyter-widgets/controls",
          "model_name": "DescriptionStyleModel",
          "model_module_version": "1.5.0",
          "state": {
            "_model_module": "@jupyter-widgets/controls",
            "_model_module_version": "1.5.0",
            "_model_name": "DescriptionStyleModel",
            "_view_count": null,
            "_view_module": "@jupyter-widgets/base",
            "_view_module_version": "1.2.0",
            "_view_name": "StyleView",
            "description_width": ""
          }
        },
        "52421f28af064020ab3a090c5c6f83dc": {
          "model_module": "@jupyter-widgets/base",
          "model_name": "LayoutModel",
          "model_module_version": "1.2.0",
          "state": {
            "_model_module": "@jupyter-widgets/base",
            "_model_module_version": "1.2.0",
            "_model_name": "LayoutModel",
            "_view_count": null,
            "_view_module": "@jupyter-widgets/base",
            "_view_module_version": "1.2.0",
            "_view_name": "LayoutView",
            "align_content": null,
            "align_items": null,
            "align_self": null,
            "border": null,
            "bottom": null,
            "display": null,
            "flex": null,
            "flex_flow": null,
            "grid_area": null,
            "grid_auto_columns": null,
            "grid_auto_flow": null,
            "grid_auto_rows": null,
            "grid_column": null,
            "grid_gap": null,
            "grid_row": null,
            "grid_template_areas": null,
            "grid_template_columns": null,
            "grid_template_rows": null,
            "height": null,
            "justify_content": null,
            "justify_items": null,
            "left": null,
            "margin": null,
            "max_height": null,
            "max_width": null,
            "min_height": null,
            "min_width": null,
            "object_fit": null,
            "object_position": null,
            "order": null,
            "overflow": null,
            "overflow_x": null,
            "overflow_y": null,
            "padding": null,
            "right": null,
            "top": null,
            "visibility": null,
            "width": null
          }
        },
        "7dc625a1a9944941ba8d6b025f296937": {
          "model_module": "@jupyter-widgets/controls",
          "model_name": "ProgressStyleModel",
          "model_module_version": "1.5.0",
          "state": {
            "_model_module": "@jupyter-widgets/controls",
            "_model_module_version": "1.5.0",
            "_model_name": "ProgressStyleModel",
            "_view_count": null,
            "_view_module": "@jupyter-widgets/base",
            "_view_module_version": "1.2.0",
            "_view_name": "StyleView",
            "bar_color": null,
            "description_width": ""
          }
        },
        "d16e43d083ff41829a6f4aa029cb82d1": {
          "model_module": "@jupyter-widgets/base",
          "model_name": "LayoutModel",
          "model_module_version": "1.2.0",
          "state": {
            "_model_module": "@jupyter-widgets/base",
            "_model_module_version": "1.2.0",
            "_model_name": "LayoutModel",
            "_view_count": null,
            "_view_module": "@jupyter-widgets/base",
            "_view_module_version": "1.2.0",
            "_view_name": "LayoutView",
            "align_content": null,
            "align_items": null,
            "align_self": null,
            "border": null,
            "bottom": null,
            "display": null,
            "flex": null,
            "flex_flow": null,
            "grid_area": null,
            "grid_auto_columns": null,
            "grid_auto_flow": null,
            "grid_auto_rows": null,
            "grid_column": null,
            "grid_gap": null,
            "grid_row": null,
            "grid_template_areas": null,
            "grid_template_columns": null,
            "grid_template_rows": null,
            "height": null,
            "justify_content": null,
            "justify_items": null,
            "left": null,
            "margin": null,
            "max_height": null,
            "max_width": null,
            "min_height": null,
            "min_width": null,
            "object_fit": null,
            "object_position": null,
            "order": null,
            "overflow": null,
            "overflow_x": null,
            "overflow_y": null,
            "padding": null,
            "right": null,
            "top": null,
            "visibility": null,
            "width": null
          }
        },
        "8cc0a4d587824a118424a638f68ea48f": {
          "model_module": "@jupyter-widgets/controls",
          "model_name": "DescriptionStyleModel",
          "model_module_version": "1.5.0",
          "state": {
            "_model_module": "@jupyter-widgets/controls",
            "_model_module_version": "1.5.0",
            "_model_name": "DescriptionStyleModel",
            "_view_count": null,
            "_view_module": "@jupyter-widgets/base",
            "_view_module_version": "1.2.0",
            "_view_name": "StyleView",
            "description_width": ""
          }
        },
        "0633e02881b24035a49a06e859f2a4bd": {
          "model_module": "@jupyter-widgets/controls",
          "model_name": "HBoxModel",
          "model_module_version": "1.5.0",
          "state": {
            "_dom_classes": [],
            "_model_module": "@jupyter-widgets/controls",
            "_model_module_version": "1.5.0",
            "_model_name": "HBoxModel",
            "_view_count": null,
            "_view_module": "@jupyter-widgets/controls",
            "_view_module_version": "1.5.0",
            "_view_name": "HBoxView",
            "box_style": "",
            "children": [
              "IPY_MODEL_6322813a86d64a7a8173e7c4389cf5db",
              "IPY_MODEL_4ac52dc1cd324b098a3350bc1c0b598b",
              "IPY_MODEL_4c7bc58ade02468190a86eb145aa5059"
            ],
            "layout": "IPY_MODEL_89aff30439ad4fc88b9f9af6881ad076"
          }
        },
        "6322813a86d64a7a8173e7c4389cf5db": {
          "model_module": "@jupyter-widgets/controls",
          "model_name": "HTMLModel",
          "model_module_version": "1.5.0",
          "state": {
            "_dom_classes": [],
            "_model_module": "@jupyter-widgets/controls",
            "_model_module_version": "1.5.0",
            "_model_name": "HTMLModel",
            "_view_count": null,
            "_view_module": "@jupyter-widgets/controls",
            "_view_module_version": "1.5.0",
            "_view_name": "HTMLView",
            "description": "",
            "description_tooltip": null,
            "layout": "IPY_MODEL_56d33a29cede40eb858c1809ab16f825",
            "placeholder": "​",
            "style": "IPY_MODEL_dc8eae899842453a8137d788e4c026c6",
            "value": "Downloading: 100%"
          }
        },
        "4ac52dc1cd324b098a3350bc1c0b598b": {
          "model_module": "@jupyter-widgets/controls",
          "model_name": "FloatProgressModel",
          "model_module_version": "1.5.0",
          "state": {
            "_dom_classes": [],
            "_model_module": "@jupyter-widgets/controls",
            "_model_module_version": "1.5.0",
            "_model_name": "FloatProgressModel",
            "_view_count": null,
            "_view_module": "@jupyter-widgets/controls",
            "_view_module_version": "1.5.0",
            "_view_name": "ProgressView",
            "bar_style": "success",
            "description": "",
            "description_tooltip": null,
            "layout": "IPY_MODEL_85f287d6810a4017a4899b0b6f32c9f5",
            "max": 570,
            "min": 0,
            "orientation": "horizontal",
            "style": "IPY_MODEL_0610f006102547f5af6e632972fe9f2d",
            "value": 570
          }
        },
        "4c7bc58ade02468190a86eb145aa5059": {
          "model_module": "@jupyter-widgets/controls",
          "model_name": "HTMLModel",
          "model_module_version": "1.5.0",
          "state": {
            "_dom_classes": [],
            "_model_module": "@jupyter-widgets/controls",
            "_model_module_version": "1.5.0",
            "_model_name": "HTMLModel",
            "_view_count": null,
            "_view_module": "@jupyter-widgets/controls",
            "_view_module_version": "1.5.0",
            "_view_name": "HTMLView",
            "description": "",
            "description_tooltip": null,
            "layout": "IPY_MODEL_bce0c874759842d7b7c4acb5911ce95c",
            "placeholder": "​",
            "style": "IPY_MODEL_1e160ecc76204d2eb4e49283c0add711",
            "value": " 570/570 [00:00&lt;00:00, 21.5kB/s]"
          }
        },
        "89aff30439ad4fc88b9f9af6881ad076": {
          "model_module": "@jupyter-widgets/base",
          "model_name": "LayoutModel",
          "model_module_version": "1.2.0",
          "state": {
            "_model_module": "@jupyter-widgets/base",
            "_model_module_version": "1.2.0",
            "_model_name": "LayoutModel",
            "_view_count": null,
            "_view_module": "@jupyter-widgets/base",
            "_view_module_version": "1.2.0",
            "_view_name": "LayoutView",
            "align_content": null,
            "align_items": null,
            "align_self": null,
            "border": null,
            "bottom": null,
            "display": null,
            "flex": null,
            "flex_flow": null,
            "grid_area": null,
            "grid_auto_columns": null,
            "grid_auto_flow": null,
            "grid_auto_rows": null,
            "grid_column": null,
            "grid_gap": null,
            "grid_row": null,
            "grid_template_areas": null,
            "grid_template_columns": null,
            "grid_template_rows": null,
            "height": null,
            "justify_content": null,
            "justify_items": null,
            "left": null,
            "margin": null,
            "max_height": null,
            "max_width": null,
            "min_height": null,
            "min_width": null,
            "object_fit": null,
            "object_position": null,
            "order": null,
            "overflow": null,
            "overflow_x": null,
            "overflow_y": null,
            "padding": null,
            "right": null,
            "top": null,
            "visibility": null,
            "width": null
          }
        },
        "56d33a29cede40eb858c1809ab16f825": {
          "model_module": "@jupyter-widgets/base",
          "model_name": "LayoutModel",
          "model_module_version": "1.2.0",
          "state": {
            "_model_module": "@jupyter-widgets/base",
            "_model_module_version": "1.2.0",
            "_model_name": "LayoutModel",
            "_view_count": null,
            "_view_module": "@jupyter-widgets/base",
            "_view_module_version": "1.2.0",
            "_view_name": "LayoutView",
            "align_content": null,
            "align_items": null,
            "align_self": null,
            "border": null,
            "bottom": null,
            "display": null,
            "flex": null,
            "flex_flow": null,
            "grid_area": null,
            "grid_auto_columns": null,
            "grid_auto_flow": null,
            "grid_auto_rows": null,
            "grid_column": null,
            "grid_gap": null,
            "grid_row": null,
            "grid_template_areas": null,
            "grid_template_columns": null,
            "grid_template_rows": null,
            "height": null,
            "justify_content": null,
            "justify_items": null,
            "left": null,
            "margin": null,
            "max_height": null,
            "max_width": null,
            "min_height": null,
            "min_width": null,
            "object_fit": null,
            "object_position": null,
            "order": null,
            "overflow": null,
            "overflow_x": null,
            "overflow_y": null,
            "padding": null,
            "right": null,
            "top": null,
            "visibility": null,
            "width": null
          }
        },
        "dc8eae899842453a8137d788e4c026c6": {
          "model_module": "@jupyter-widgets/controls",
          "model_name": "DescriptionStyleModel",
          "model_module_version": "1.5.0",
          "state": {
            "_model_module": "@jupyter-widgets/controls",
            "_model_module_version": "1.5.0",
            "_model_name": "DescriptionStyleModel",
            "_view_count": null,
            "_view_module": "@jupyter-widgets/base",
            "_view_module_version": "1.2.0",
            "_view_name": "StyleView",
            "description_width": ""
          }
        },
        "85f287d6810a4017a4899b0b6f32c9f5": {
          "model_module": "@jupyter-widgets/base",
          "model_name": "LayoutModel",
          "model_module_version": "1.2.0",
          "state": {
            "_model_module": "@jupyter-widgets/base",
            "_model_module_version": "1.2.0",
            "_model_name": "LayoutModel",
            "_view_count": null,
            "_view_module": "@jupyter-widgets/base",
            "_view_module_version": "1.2.0",
            "_view_name": "LayoutView",
            "align_content": null,
            "align_items": null,
            "align_self": null,
            "border": null,
            "bottom": null,
            "display": null,
            "flex": null,
            "flex_flow": null,
            "grid_area": null,
            "grid_auto_columns": null,
            "grid_auto_flow": null,
            "grid_auto_rows": null,
            "grid_column": null,
            "grid_gap": null,
            "grid_row": null,
            "grid_template_areas": null,
            "grid_template_columns": null,
            "grid_template_rows": null,
            "height": null,
            "justify_content": null,
            "justify_items": null,
            "left": null,
            "margin": null,
            "max_height": null,
            "max_width": null,
            "min_height": null,
            "min_width": null,
            "object_fit": null,
            "object_position": null,
            "order": null,
            "overflow": null,
            "overflow_x": null,
            "overflow_y": null,
            "padding": null,
            "right": null,
            "top": null,
            "visibility": null,
            "width": null
          }
        },
        "0610f006102547f5af6e632972fe9f2d": {
          "model_module": "@jupyter-widgets/controls",
          "model_name": "ProgressStyleModel",
          "model_module_version": "1.5.0",
          "state": {
            "_model_module": "@jupyter-widgets/controls",
            "_model_module_version": "1.5.0",
            "_model_name": "ProgressStyleModel",
            "_view_count": null,
            "_view_module": "@jupyter-widgets/base",
            "_view_module_version": "1.2.0",
            "_view_name": "StyleView",
            "bar_color": null,
            "description_width": ""
          }
        },
        "bce0c874759842d7b7c4acb5911ce95c": {
          "model_module": "@jupyter-widgets/base",
          "model_name": "LayoutModel",
          "model_module_version": "1.2.0",
          "state": {
            "_model_module": "@jupyter-widgets/base",
            "_model_module_version": "1.2.0",
            "_model_name": "LayoutModel",
            "_view_count": null,
            "_view_module": "@jupyter-widgets/base",
            "_view_module_version": "1.2.0",
            "_view_name": "LayoutView",
            "align_content": null,
            "align_items": null,
            "align_self": null,
            "border": null,
            "bottom": null,
            "display": null,
            "flex": null,
            "flex_flow": null,
            "grid_area": null,
            "grid_auto_columns": null,
            "grid_auto_flow": null,
            "grid_auto_rows": null,
            "grid_column": null,
            "grid_gap": null,
            "grid_row": null,
            "grid_template_areas": null,
            "grid_template_columns": null,
            "grid_template_rows": null,
            "height": null,
            "justify_content": null,
            "justify_items": null,
            "left": null,
            "margin": null,
            "max_height": null,
            "max_width": null,
            "min_height": null,
            "min_width": null,
            "object_fit": null,
            "object_position": null,
            "order": null,
            "overflow": null,
            "overflow_x": null,
            "overflow_y": null,
            "padding": null,
            "right": null,
            "top": null,
            "visibility": null,
            "width": null
          }
        },
        "1e160ecc76204d2eb4e49283c0add711": {
          "model_module": "@jupyter-widgets/controls",
          "model_name": "DescriptionStyleModel",
          "model_module_version": "1.5.0",
          "state": {
            "_model_module": "@jupyter-widgets/controls",
            "_model_module_version": "1.5.0",
            "_model_name": "DescriptionStyleModel",
            "_view_count": null,
            "_view_module": "@jupyter-widgets/base",
            "_view_module_version": "1.2.0",
            "_view_name": "StyleView",
            "description_width": ""
          }
        },
        "a6db8d7bb0b5400cafca9272b87936b5": {
          "model_module": "@jupyter-widgets/controls",
          "model_name": "HBoxModel",
          "model_module_version": "1.5.0",
          "state": {
            "_dom_classes": [],
            "_model_module": "@jupyter-widgets/controls",
            "_model_module_version": "1.5.0",
            "_model_name": "HBoxModel",
            "_view_count": null,
            "_view_module": "@jupyter-widgets/controls",
            "_view_module_version": "1.5.0",
            "_view_name": "HBoxView",
            "box_style": "",
            "children": [
              "IPY_MODEL_4a6371417b05404c8fcf3366ff4b7fe4",
              "IPY_MODEL_c7e8034ab8514eb9b84429cedb954ce2",
              "IPY_MODEL_1ddfb43668744911915f0f9f4151d4b9"
            ],
            "layout": "IPY_MODEL_59a9f14658ba4c69a0d83b854b637e5c"
          }
        },
        "4a6371417b05404c8fcf3366ff4b7fe4": {
          "model_module": "@jupyter-widgets/controls",
          "model_name": "HTMLModel",
          "model_module_version": "1.5.0",
          "state": {
            "_dom_classes": [],
            "_model_module": "@jupyter-widgets/controls",
            "_model_module_version": "1.5.0",
            "_model_name": "HTMLModel",
            "_view_count": null,
            "_view_module": "@jupyter-widgets/controls",
            "_view_module_version": "1.5.0",
            "_view_name": "HTMLView",
            "description": "",
            "description_tooltip": null,
            "layout": "IPY_MODEL_e564d658837e4a2fab458081edfd6afc",
            "placeholder": "​",
            "style": "IPY_MODEL_4356ec91c93f4014b8bb43efab891b39",
            "value": "Downloading: 100%"
          }
        },
        "c7e8034ab8514eb9b84429cedb954ce2": {
          "model_module": "@jupyter-widgets/controls",
          "model_name": "FloatProgressModel",
          "model_module_version": "1.5.0",
          "state": {
            "_dom_classes": [],
            "_model_module": "@jupyter-widgets/controls",
            "_model_module_version": "1.5.0",
            "_model_name": "FloatProgressModel",
            "_view_count": null,
            "_view_module": "@jupyter-widgets/controls",
            "_view_module_version": "1.5.0",
            "_view_name": "ProgressView",
            "bar_style": "success",
            "description": "",
            "description_tooltip": null,
            "layout": "IPY_MODEL_28fe53bae02843a19a1dbcb6a27f9f69",
            "max": 435779157,
            "min": 0,
            "orientation": "horizontal",
            "style": "IPY_MODEL_e8521291a689450a8ac4edf022765220",
            "value": 435779157
          }
        },
        "1ddfb43668744911915f0f9f4151d4b9": {
          "model_module": "@jupyter-widgets/controls",
          "model_name": "HTMLModel",
          "model_module_version": "1.5.0",
          "state": {
            "_dom_classes": [],
            "_model_module": "@jupyter-widgets/controls",
            "_model_module_version": "1.5.0",
            "_model_name": "HTMLModel",
            "_view_count": null,
            "_view_module": "@jupyter-widgets/controls",
            "_view_module_version": "1.5.0",
            "_view_name": "HTMLView",
            "description": "",
            "description_tooltip": null,
            "layout": "IPY_MODEL_a66757ad92054c5087eda7d281c22b19",
            "placeholder": "​",
            "style": "IPY_MODEL_140c1d23ad884af9a7631ba9b51b0648",
            "value": " 436M/436M [00:05&lt;00:00, 82.0MB/s]"
          }
        },
        "59a9f14658ba4c69a0d83b854b637e5c": {
          "model_module": "@jupyter-widgets/base",
          "model_name": "LayoutModel",
          "model_module_version": "1.2.0",
          "state": {
            "_model_module": "@jupyter-widgets/base",
            "_model_module_version": "1.2.0",
            "_model_name": "LayoutModel",
            "_view_count": null,
            "_view_module": "@jupyter-widgets/base",
            "_view_module_version": "1.2.0",
            "_view_name": "LayoutView",
            "align_content": null,
            "align_items": null,
            "align_self": null,
            "border": null,
            "bottom": null,
            "display": null,
            "flex": null,
            "flex_flow": null,
            "grid_area": null,
            "grid_auto_columns": null,
            "grid_auto_flow": null,
            "grid_auto_rows": null,
            "grid_column": null,
            "grid_gap": null,
            "grid_row": null,
            "grid_template_areas": null,
            "grid_template_columns": null,
            "grid_template_rows": null,
            "height": null,
            "justify_content": null,
            "justify_items": null,
            "left": null,
            "margin": null,
            "max_height": null,
            "max_width": null,
            "min_height": null,
            "min_width": null,
            "object_fit": null,
            "object_position": null,
            "order": null,
            "overflow": null,
            "overflow_x": null,
            "overflow_y": null,
            "padding": null,
            "right": null,
            "top": null,
            "visibility": null,
            "width": null
          }
        },
        "e564d658837e4a2fab458081edfd6afc": {
          "model_module": "@jupyter-widgets/base",
          "model_name": "LayoutModel",
          "model_module_version": "1.2.0",
          "state": {
            "_model_module": "@jupyter-widgets/base",
            "_model_module_version": "1.2.0",
            "_model_name": "LayoutModel",
            "_view_count": null,
            "_view_module": "@jupyter-widgets/base",
            "_view_module_version": "1.2.0",
            "_view_name": "LayoutView",
            "align_content": null,
            "align_items": null,
            "align_self": null,
            "border": null,
            "bottom": null,
            "display": null,
            "flex": null,
            "flex_flow": null,
            "grid_area": null,
            "grid_auto_columns": null,
            "grid_auto_flow": null,
            "grid_auto_rows": null,
            "grid_column": null,
            "grid_gap": null,
            "grid_row": null,
            "grid_template_areas": null,
            "grid_template_columns": null,
            "grid_template_rows": null,
            "height": null,
            "justify_content": null,
            "justify_items": null,
            "left": null,
            "margin": null,
            "max_height": null,
            "max_width": null,
            "min_height": null,
            "min_width": null,
            "object_fit": null,
            "object_position": null,
            "order": null,
            "overflow": null,
            "overflow_x": null,
            "overflow_y": null,
            "padding": null,
            "right": null,
            "top": null,
            "visibility": null,
            "width": null
          }
        },
        "4356ec91c93f4014b8bb43efab891b39": {
          "model_module": "@jupyter-widgets/controls",
          "model_name": "DescriptionStyleModel",
          "model_module_version": "1.5.0",
          "state": {
            "_model_module": "@jupyter-widgets/controls",
            "_model_module_version": "1.5.0",
            "_model_name": "DescriptionStyleModel",
            "_view_count": null,
            "_view_module": "@jupyter-widgets/base",
            "_view_module_version": "1.2.0",
            "_view_name": "StyleView",
            "description_width": ""
          }
        },
        "28fe53bae02843a19a1dbcb6a27f9f69": {
          "model_module": "@jupyter-widgets/base",
          "model_name": "LayoutModel",
          "model_module_version": "1.2.0",
          "state": {
            "_model_module": "@jupyter-widgets/base",
            "_model_module_version": "1.2.0",
            "_model_name": "LayoutModel",
            "_view_count": null,
            "_view_module": "@jupyter-widgets/base",
            "_view_module_version": "1.2.0",
            "_view_name": "LayoutView",
            "align_content": null,
            "align_items": null,
            "align_self": null,
            "border": null,
            "bottom": null,
            "display": null,
            "flex": null,
            "flex_flow": null,
            "grid_area": null,
            "grid_auto_columns": null,
            "grid_auto_flow": null,
            "grid_auto_rows": null,
            "grid_column": null,
            "grid_gap": null,
            "grid_row": null,
            "grid_template_areas": null,
            "grid_template_columns": null,
            "grid_template_rows": null,
            "height": null,
            "justify_content": null,
            "justify_items": null,
            "left": null,
            "margin": null,
            "max_height": null,
            "max_width": null,
            "min_height": null,
            "min_width": null,
            "object_fit": null,
            "object_position": null,
            "order": null,
            "overflow": null,
            "overflow_x": null,
            "overflow_y": null,
            "padding": null,
            "right": null,
            "top": null,
            "visibility": null,
            "width": null
          }
        },
        "e8521291a689450a8ac4edf022765220": {
          "model_module": "@jupyter-widgets/controls",
          "model_name": "ProgressStyleModel",
          "model_module_version": "1.5.0",
          "state": {
            "_model_module": "@jupyter-widgets/controls",
            "_model_module_version": "1.5.0",
            "_model_name": "ProgressStyleModel",
            "_view_count": null,
            "_view_module": "@jupyter-widgets/base",
            "_view_module_version": "1.2.0",
            "_view_name": "StyleView",
            "bar_color": null,
            "description_width": ""
          }
        },
        "a66757ad92054c5087eda7d281c22b19": {
          "model_module": "@jupyter-widgets/base",
          "model_name": "LayoutModel",
          "model_module_version": "1.2.0",
          "state": {
            "_model_module": "@jupyter-widgets/base",
            "_model_module_version": "1.2.0",
            "_model_name": "LayoutModel",
            "_view_count": null,
            "_view_module": "@jupyter-widgets/base",
            "_view_module_version": "1.2.0",
            "_view_name": "LayoutView",
            "align_content": null,
            "align_items": null,
            "align_self": null,
            "border": null,
            "bottom": null,
            "display": null,
            "flex": null,
            "flex_flow": null,
            "grid_area": null,
            "grid_auto_columns": null,
            "grid_auto_flow": null,
            "grid_auto_rows": null,
            "grid_column": null,
            "grid_gap": null,
            "grid_row": null,
            "grid_template_areas": null,
            "grid_template_columns": null,
            "grid_template_rows": null,
            "height": null,
            "justify_content": null,
            "justify_items": null,
            "left": null,
            "margin": null,
            "max_height": null,
            "max_width": null,
            "min_height": null,
            "min_width": null,
            "object_fit": null,
            "object_position": null,
            "order": null,
            "overflow": null,
            "overflow_x": null,
            "overflow_y": null,
            "padding": null,
            "right": null,
            "top": null,
            "visibility": null,
            "width": null
          }
        },
        "140c1d23ad884af9a7631ba9b51b0648": {
          "model_module": "@jupyter-widgets/controls",
          "model_name": "DescriptionStyleModel",
          "model_module_version": "1.5.0",
          "state": {
            "_model_module": "@jupyter-widgets/controls",
            "_model_module_version": "1.5.0",
            "_model_name": "DescriptionStyleModel",
            "_view_count": null,
            "_view_module": "@jupyter-widgets/base",
            "_view_module_version": "1.2.0",
            "_view_name": "StyleView",
            "description_width": ""
          }
        }
      }
    }
  },
  "nbformat": 4,
  "nbformat_minor": 0
}