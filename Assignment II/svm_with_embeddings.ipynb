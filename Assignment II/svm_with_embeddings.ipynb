{
 "cells": [
  {
   "cell_type": "markdown",
   "id": "2b649277",
   "metadata": {},
   "source": [
    "# SVM with Embeddings"
   ]
  },
  {
   "cell_type": "code",
   "execution_count": 24,
   "id": "964c0e01",
   "metadata": {},
   "outputs": [],
   "source": [
    "from sklearn.linear_model import LogisticRegression\n",
    "from sklearn.feature_extraction import DictVectorizer\n",
    "from sklearn.svm import LinearSVC\n",
    "import gensim\n",
    "from gensim.models import KeyedVectors\n",
    "import pandas as pd\n",
    "import sys\n",
    "import csv"
   ]
  },
  {
   "cell_type": "code",
   "execution_count": 25,
   "id": "3b8a26eb",
   "metadata": {},
   "outputs": [],
   "source": [
    "def extract_embeddings_as_features_and_gold(conllfile,word_embedding_model):\n",
    "    '''\n",
    "    Function that extracts features and gold labels using word embeddings\n",
    "    \n",
    "    :param conllfile: path to conll file\n",
    "    :param word_embedding_model: a pretrained word embedding model\n",
    "    :type conllfile: string\n",
    "    :type word_embedding_model: gensim.models.keyedvectors.Word2VecKeyedVectors\n",
    "    \n",
    "    :return features: list of vector representation of tokens\n",
    "    :return labels: list of gold labels\n",
    "    '''\n",
    "    ### This code was partially inspired by code included in the HLT course, obtained from https://github.com/cltl/ma-hlt-labs/, accessed in May 2020.\n",
    "    labels = []\n",
    "    features = []\n",
    "    \n",
    "    conllinput = open(conllfile, 'r')\n",
    "    csvreader = csv.reader(conllinput, delimiter='\\t',quotechar='|')\n",
    "    for row in csvreader:\n",
    "        #check for cases where empty lines mark sentence boundaries (which some conll files do).\n",
    "        if len(row) > 3:\n",
    "            if row[0] in word_embedding_model:\n",
    "                vector = word_embedding_model[row[0]]\n",
    "            else:\n",
    "                vector = [0]*300\n",
    "            features.append(vector)\n",
    "            labels.append(row[-1])\n",
    "\n",
    "    return features, labels"
   ]
  },
  {
   "cell_type": "code",
   "execution_count": 26,
   "id": "b6ae3c6a",
   "metadata": {},
   "outputs": [],
   "source": [
    "language_model = \"./models/GoogleNews-vectors-negative300.bin.gz\"\n",
    "trainingfile = \"datas/conll2003.train.conll\"\n",
    "inputfile = \"datas/conll2003.dev.conll\"\n",
    "outputfile = \"output.conll2003_features\"\n",
    "\n",
    "language_model = gensim.models.KeyedVectors.load_word2vec_format(language_model, binary=True)\n",
    "training_features, gold_labels = extract_embeddings_as_features_and_gold(trainingfile, language_model)"
   ]
  },
  {
   "cell_type": "code",
   "execution_count": 43,
   "id": "a4bc13be",
   "metadata": {},
   "outputs": [],
   "source": [
    "#print(training_features[:5])"
   ]
  },
  {
   "cell_type": "code",
   "execution_count": 28,
   "id": "3f5180e5",
   "metadata": {},
   "outputs": [
    {
     "name": "stdout",
     "output_type": "stream",
     "text": [
      "['B-ORG', 'O', 'B-MISC', 'O', 'O']\n"
     ]
    }
   ],
   "source": [
    "print(gold_labels[:5])"
   ]
  },
  {
   "cell_type": "code",
   "execution_count": 29,
   "id": "82f215d4",
   "metadata": {},
   "outputs": [
    {
     "name": "stdout",
     "output_type": "stream",
     "text": [
      "203621\n",
      "203621\n"
     ]
    }
   ],
   "source": [
    "print(len(training_features))\n",
    "print(len(gold_labels))"
   ]
  },
  {
   "cell_type": "code",
   "execution_count": 30,
   "id": "8bd7b0b5",
   "metadata": {},
   "outputs": [],
   "source": [
    "def create_classifier_embeddings(train_features, train_labels):\n",
    "    '''\n",
    "    Create an SVM classifier and train it with vectorized features and corresponding gold labels\n",
    "    \n",
    "    input train_features: features to be transformed into vectors\n",
    "    input train_labels: gold labels corresponding to features\n",
    "    \n",
    "    output model: trained classifier\n",
    "    '''\n",
    "\n",
    "    model = LinearSVC(max_iter=10000)\n",
    "    model.fit(train_features, train_labels)\n",
    "    \n",
    "    return model"
   ]
  },
  {
   "cell_type": "code",
   "execution_count": 31,
   "id": "7e1aa877",
   "metadata": {},
   "outputs": [],
   "source": [
    "svm_model = create_classifier_embeddings(training_features[:10], gold_labels[:10])"
   ]
  },
  {
   "cell_type": "code",
   "execution_count": 32,
   "id": "570485b9",
   "metadata": {},
   "outputs": [
    {
     "data": {
      "text/html": [
       "<style>#sk-container-id-2 {color: black;background-color: white;}#sk-container-id-2 pre{padding: 0;}#sk-container-id-2 div.sk-toggleable {background-color: white;}#sk-container-id-2 label.sk-toggleable__label {cursor: pointer;display: block;width: 100%;margin-bottom: 0;padding: 0.3em;box-sizing: border-box;text-align: center;}#sk-container-id-2 label.sk-toggleable__label-arrow:before {content: \"▸\";float: left;margin-right: 0.25em;color: #696969;}#sk-container-id-2 label.sk-toggleable__label-arrow:hover:before {color: black;}#sk-container-id-2 div.sk-estimator:hover label.sk-toggleable__label-arrow:before {color: black;}#sk-container-id-2 div.sk-toggleable__content {max-height: 0;max-width: 0;overflow: hidden;text-align: left;background-color: #f0f8ff;}#sk-container-id-2 div.sk-toggleable__content pre {margin: 0.2em;color: black;border-radius: 0.25em;background-color: #f0f8ff;}#sk-container-id-2 input.sk-toggleable__control:checked~div.sk-toggleable__content {max-height: 200px;max-width: 100%;overflow: auto;}#sk-container-id-2 input.sk-toggleable__control:checked~label.sk-toggleable__label-arrow:before {content: \"▾\";}#sk-container-id-2 div.sk-estimator input.sk-toggleable__control:checked~label.sk-toggleable__label {background-color: #d4ebff;}#sk-container-id-2 div.sk-label input.sk-toggleable__control:checked~label.sk-toggleable__label {background-color: #d4ebff;}#sk-container-id-2 input.sk-hidden--visually {border: 0;clip: rect(1px 1px 1px 1px);clip: rect(1px, 1px, 1px, 1px);height: 1px;margin: -1px;overflow: hidden;padding: 0;position: absolute;width: 1px;}#sk-container-id-2 div.sk-estimator {font-family: monospace;background-color: #f0f8ff;border: 1px dotted black;border-radius: 0.25em;box-sizing: border-box;margin-bottom: 0.5em;}#sk-container-id-2 div.sk-estimator:hover {background-color: #d4ebff;}#sk-container-id-2 div.sk-parallel-item::after {content: \"\";width: 100%;border-bottom: 1px solid gray;flex-grow: 1;}#sk-container-id-2 div.sk-label:hover label.sk-toggleable__label {background-color: #d4ebff;}#sk-container-id-2 div.sk-serial::before {content: \"\";position: absolute;border-left: 1px solid gray;box-sizing: border-box;top: 0;bottom: 0;left: 50%;z-index: 0;}#sk-container-id-2 div.sk-serial {display: flex;flex-direction: column;align-items: center;background-color: white;padding-right: 0.2em;padding-left: 0.2em;position: relative;}#sk-container-id-2 div.sk-item {position: relative;z-index: 1;}#sk-container-id-2 div.sk-parallel {display: flex;align-items: stretch;justify-content: center;background-color: white;position: relative;}#sk-container-id-2 div.sk-item::before, #sk-container-id-2 div.sk-parallel-item::before {content: \"\";position: absolute;border-left: 1px solid gray;box-sizing: border-box;top: 0;bottom: 0;left: 50%;z-index: -1;}#sk-container-id-2 div.sk-parallel-item {display: flex;flex-direction: column;z-index: 1;position: relative;background-color: white;}#sk-container-id-2 div.sk-parallel-item:first-child::after {align-self: flex-end;width: 50%;}#sk-container-id-2 div.sk-parallel-item:last-child::after {align-self: flex-start;width: 50%;}#sk-container-id-2 div.sk-parallel-item:only-child::after {width: 0;}#sk-container-id-2 div.sk-dashed-wrapped {border: 1px dashed gray;margin: 0 0.4em 0.5em 0.4em;box-sizing: border-box;padding-bottom: 0.4em;background-color: white;}#sk-container-id-2 div.sk-label label {font-family: monospace;font-weight: bold;display: inline-block;line-height: 1.2em;}#sk-container-id-2 div.sk-label-container {text-align: center;}#sk-container-id-2 div.sk-container {/* jupyter's `normalize.less` sets `[hidden] { display: none; }` but bootstrap.min.css set `[hidden] { display: none !important; }` so we also need the `!important` here to be able to override the default hidden behavior on the sphinx rendered scikit-learn.org. See: https://github.com/scikit-learn/scikit-learn/issues/21755 */display: inline-block !important;position: relative;}#sk-container-id-2 div.sk-text-repr-fallback {display: none;}</style><div id=\"sk-container-id-2\" class=\"sk-top-container\"><div class=\"sk-text-repr-fallback\"><pre>LinearSVC(max_iter=10000)</pre><b>In a Jupyter environment, please rerun this cell to show the HTML representation or trust the notebook. <br />On GitHub, the HTML representation is unable to render, please try loading this page with nbviewer.org.</b></div><div class=\"sk-container\" hidden><div class=\"sk-item\"><div class=\"sk-estimator sk-toggleable\"><input class=\"sk-toggleable__control sk-hidden--visually\" id=\"sk-estimator-id-2\" type=\"checkbox\" checked><label for=\"sk-estimator-id-2\" class=\"sk-toggleable__label sk-toggleable__label-arrow\">LinearSVC</label><div class=\"sk-toggleable__content\"><pre>LinearSVC(max_iter=10000)</pre></div></div></div></div></div>"
      ],
      "text/plain": [
       "LinearSVC(max_iter=10000)"
      ]
     },
     "execution_count": 32,
     "metadata": {},
     "output_type": "execute_result"
    }
   ],
   "source": [
    "svm_model"
   ]
  },
  {
   "cell_type": "code",
   "execution_count": 33,
   "id": "4f75843d",
   "metadata": {},
   "outputs": [],
   "source": [
    "def extract_embeddings_features(inputfile,word_embedding_model):\n",
    "    '''\n",
    "    This function extracts features from embeddings\n",
    "    \n",
    "    :param inputfile: path to conll file\n",
    "    :param word_embedding_model: a pretrained word embedding model\n",
    "    :type conllfile: string\n",
    "    :type word_embedding_model: gensim.models.keyedvectors.Word2VecKeyedVectors\n",
    "    \n",
    "    :return features: list of vector representation of tokens\n",
    "    '''\n",
    "    ### This code was partially inspired by code included in the HLT course, obtained from https://github.com/cltl/ma-hlt-labs/, accessed in May 2020.\n",
    "    features = []\n",
    "    \n",
    "    conllinput = open(inputfile, 'r')\n",
    "    csvreader = csv.reader(conllinput, delimiter='\\t',quotechar='|')\n",
    "    \n",
    "    for row in csvreader:\n",
    "        #check for cases where empty lines mark sentence boundaries (which some conll files do).\n",
    "        if len(row) > 3:\n",
    "            if row[0] in word_embedding_model:\n",
    "                vector = word_embedding_model[row[0]]\n",
    "            else:\n",
    "                vector = [0]*300\n",
    "            features.append(vector)\n",
    "\n",
    "    return features"
   ]
  },
  {
   "cell_type": "code",
   "execution_count": 41,
   "id": "ad47832d",
   "metadata": {},
   "outputs": [],
   "source": [
    "def classify_data_embeddings(model, inputdata, outputfile, word_embedding_model):\n",
    "    '''\n",
    "    This function creates a classifier for making predictions embedded data\n",
    "    \n",
    "    input model: classifier that will make predictions\n",
    "    input inputdata: path to input data\n",
    "    input outputfile: path to output file, where the predictions for each feature will be written\n",
    "    input word_embedding_model : embedding model\n",
    "    '''\n",
    "    # extracting features\n",
    "    features = extract_embeddings_features(inputdata,word_embedding_model)\n",
    "    print(features)\n",
    "    \n",
    "    # making predictions with extracted features\n",
    "    predictions = model.predict(features[:2])\n",
    "    \n",
    "    # Write results to an outputfile\n",
    "    outfile = open(outputfile, 'w')\n",
    "    counter = 0\n",
    "    for line in open(inputdata, 'r'):\n",
    "        if len(line.rstrip('\\n').split()) > 0:\n",
    "            outfile.write(line.rstrip('\\n') + '\\t' + predictions[counter] + '\\n')\n",
    "            counter += 1\n",
    "    outfile.close()"
   ]
  },
  {
   "cell_type": "code",
   "execution_count": null,
   "id": "b701b3e1",
   "metadata": {},
   "outputs": [],
   "source": [
    "classify_data_embeddings(svm_model, inputfile, outputfile.replace('.conll','.embedded.conll'), language_model)\n",
    "data_frame = pd.read_table(outputfile.replace('.conll','.embedded.conll'))\n",
    "data_frame = data_frame.set_axis([*data_frame.columns[:-1], 'NER2'], axis=1, inplace=False)\n",
    "data_frame.to_csv(outputfile.replace('.conll','.embedded2.conll'), sep='\\t')"
   ]
  },
  {
   "cell_type": "code",
   "execution_count": null,
   "id": "521a9e6e",
   "metadata": {},
   "outputs": [],
   "source": [
    "classify_data_embeddings"
   ]
  },
  {
   "cell_type": "code",
   "execution_count": 44,
   "id": "944d55dc",
   "metadata": {},
   "outputs": [],
   "source": [
    "features = extract_embeddings_features(trainingfile,language_model)\n",
    "#features[:2]"
   ]
  },
  {
   "cell_type": "code",
   "execution_count": null,
   "id": "4a4c2c33",
   "metadata": {},
   "outputs": [],
   "source": []
  }
 ],
 "metadata": {
  "kernelspec": {
   "display_name": "Python 3 (ipykernel)",
   "language": "python",
   "name": "python3"
  },
  "language_info": {
   "codemirror_mode": {
    "name": "ipython",
    "version": 3
   },
   "file_extension": ".py",
   "mimetype": "text/x-python",
   "name": "python",
   "nbconvert_exporter": "python",
   "pygments_lexer": "ipython3",
   "version": "3.9.13"
  }
 },
 "nbformat": 4,
 "nbformat_minor": 5
}
